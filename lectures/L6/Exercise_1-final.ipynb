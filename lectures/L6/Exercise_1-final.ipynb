{
 "cells": [
  {
   "cell_type": "markdown",
   "metadata": {},
   "source": [
    "# Exercise 1\n",
    "\n",
    "In this problem, you will write a closure to make writing messages easier.  Suppose you write the following message all the time: \n",
    "```python \n",
    "print(\"The correct answer is: {0:17.16f}\".format(answer))\n",
    "```\n",
    "Wouldn't it be nicer to just write \n",
    "```python \n",
    "correct_answer_is(answer)\n",
    "```\n",
    "and have the message?  Your task is to write a closure to accomplish that.  Here's how everything should work:\n",
    "```python\n",
    "correct_answer_is = my_message(message)\n",
    "correct_answer_is(answer)\n",
    "```\n",
    "The output should be: `The correct answer is:  42.0000000000000000.`\n",
    "\n",
    "Now change the message to something else.  Notice that you don't need to re-write everything.  You simply need to get a new message function from `my_message` and invoke your new function when you want to.\n",
    "\n",
    "You should feel free to modify this in any way you like.  Creativity is encouraged!"
   ]
  },
  {
   "cell_type": "code",
   "execution_count": 1,
   "metadata": {
    "collapsed": true
   },
   "outputs": [],
   "source": [
    "def my_message(message):\n",
    "    def print_(value):\n",
    "        print(message+'{0:17.16f}'.format(value)+'.')\n",
    "    return print_"
   ]
  },
  {
   "cell_type": "code",
   "execution_count": 2,
   "metadata": {},
   "outputs": [
    {
     "name": "stdout",
     "output_type": "stream",
     "text": [
      "The correct answer is: 42.0000000000000000.\n"
     ]
    }
   ],
   "source": [
    "# Test 1\n",
    "message = 'The correct answer is: '\n",
    "answer = 42\n",
    "correct_answer_is = my_message(message)\n",
    "correct_answer_is(answer)"
   ]
  },
  {
   "cell_type": "code",
   "execution_count": 3,
   "metadata": {},
   "outputs": [
    {
     "name": "stdout",
     "output_type": "stream",
     "text": [
      "New message: 20.0000000000000000.\n"
     ]
    }
   ],
   "source": [
    "# Test 2\n",
    "message = 'New message: '\n",
    "new_value = 20\n",
    "new_message = my_message(message)\n",
    "new_message(new_value)"
   ]
  }
 ],
 "metadata": {
  "kernelspec": {
   "display_name": "Python [default]",
   "language": "python",
   "name": "python3"
  },
  "language_info": {
   "codemirror_mode": {
    "name": "ipython",
    "version": 3
   },
   "file_extension": ".py",
   "mimetype": "text/x-python",
   "name": "python",
   "nbconvert_exporter": "python",
   "pygments_lexer": "ipython3",
   "version": "3.5.3"
  }
 },
 "nbformat": 4,
 "nbformat_minor": 2
}
