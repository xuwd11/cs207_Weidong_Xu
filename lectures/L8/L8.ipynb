{
 "cells": [
  {
   "cell_type": "markdown",
   "metadata": {},
   "source": [
    "# Lecture 8:  Chemical Kinetics\n",
    "Today's lecture will provide a rapid tour through chemical kinetics.  The final result is that for a system consisting of $N$ species undergoing $M$ **irreversible**, **elementary** reactions of the form \n",
    "\\begin{align}\n",
    "  \\sum_{i=1}^{N}{\\nu_{ij}^{\\prime}\\mathcal{S}_{i}} \\longrightarrow \n",
    "  \\sum_{i=1}^{N}{\\nu_{ij}^{\\prime\\prime}\\mathcal{S}_{i}}, \\qquad j = 1, \\ldots, M\n",
    "\\end{align}\n",
    "the rate of change of specie $i$ (the reaction rate) can be written as \n",
    "\\begin{align}\n",
    "  f_{i} = \\sum_{j=1}^{M}{\\nu_{ij}\\omega_{j}}, \\qquad i = 1, \\ldots, N\n",
    "\\end{align}\n",
    "where the progress rate for each reaction is given by \n",
    "\\begin{align}\n",
    "  \\omega_{j} = k_{j}\\prod_{i=1}^{N}{x_{i}^{\\nu_{ij}^{\\prime}}}, \\qquad j = 1, \\ldots, M\n",
    "\\end{align}\n",
    "and $k_{j}$ is the forward reaction rate coefficient.\n",
    "\n",
    "We will discuss the meaning of these expressions and each term as well as the physical units.  We will also go through a few different forms for the reaction rate coefficients\n",
    "\n",
    "Your responsibility for the final project is to write a library that will return the reaction rate to a user once the user specifies the reaction set.\n",
    "\n",
    "A few notes:\n",
    "\n",
    "| Symbol | Meaning |\n",
    "|:--------:|:-------:|\n",
    "| $\\mathcal{S}_{i}$ | Chemical symbol of specie $i$ |\n",
    "| $\\nu_{ij}^{\\prime}$ | Stoichiometric coefficients of reactants |\n",
    "| $\\nu_{ij}^{\\prime\\prime}$ | Stoichiometric coefficients of products |\n",
    "| $N$                       | Number of species in system |\n",
    "| $M$                       | Number of elementary reactions |\n",
    "| $f_{i}$                   | Rate of consumption or formation of specie $i$ (reaction rate) |\n",
    "| $\\omega_{j}$              | Progress rate of reaction $j$ |\n",
    "| $x_{i}$                   | Concentration of specie $i$ |\n",
    "| $k_{j}$                   | Reaction rate coefficient for reaction $j$ |"
   ]
  }
 ],
 "metadata": {
  "kernelspec": {
   "display_name": "Python 3",
   "language": "python",
   "name": "python3"
  },
  "language_info": {
   "codemirror_mode": {
    "name": "ipython",
    "version": 3
   },
   "file_extension": ".py",
   "mimetype": "text/x-python",
   "name": "python",
   "nbconvert_exporter": "python",
   "pygments_lexer": "ipython3",
   "version": "3.6.1"
  }
 },
 "nbformat": 4,
 "nbformat_minor": 2
}
