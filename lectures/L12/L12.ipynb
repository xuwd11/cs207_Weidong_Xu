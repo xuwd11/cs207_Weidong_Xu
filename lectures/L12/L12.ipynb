{
 "cells": [
  {
   "cell_type": "markdown",
   "metadata": {
    "slideshow": {
     "slide_type": "slide"
    }
   },
   "source": [
    "# Lecture 12\n",
    "## 1. Notes on privacy in Python\n",
    "## 2. Finish polymorphism\n",
    "## 3. Data Structures\n",
    "\n",
    "### Monday, October 16th 2017"
   ]
  },
  {
   "cell_type": "markdown",
   "metadata": {
    "slideshow": {
     "slide_type": "slide"
    }
   },
   "source": [
    "# Privacy in Python\n",
    "* `Python` does not have private names\n",
    "* It can \"localize\" some names in classes \n",
    "* This localization is handled by \"name mangling\"\n",
    "* Name mangling does not previent access by code outside the class!\n",
    "* Name mangling is intended to help avoid namespace collisions\n",
    "\n",
    "Therefore, we say that `Python` has the notion of *pseudoprivate* names."
   ]
  },
  {
   "cell_type": "markdown",
   "metadata": {
    "slideshow": {
     "slide_type": "subslide"
    }
   },
   "source": [
    "## Pseudoprivacy and Name Mangling\n",
    "* Names inside a class that begin with two underscores are expanded to include the name of the enclosing class\n",
    "\n",
    "For example, suppose you have a class called **`Universes`** and a name in that class called **`__our_universe`**.\n",
    "\n",
    "`Python` changes the name **`__our_universe`** to **`_Universes__our_universe`**.\n",
    "\n",
    "Now if there is another class in the hierarchy containing an attribute name **`our_universe`** then the two names will not clash.\n",
    "\n",
    "If you know the name of the enclosing class, you can still access the \"private\" attributes.\n",
    "\n",
    "Some details:  [Private Variables](https://docs.python.org/3/tutorial/classes.html?highlight=name%20mangling#tut-private).\n",
    "\n",
    "**A note on single underscores:**\n",
    ">  a name prefixed with an underscore (e.g. _spam) should be treated as a non-public part of the API (whether it is a function, a method or a data member)."
   ]
  },
  {
   "cell_type": "markdown",
   "metadata": {
    "slideshow": {
     "slide_type": "slide"
    }
   },
   "source": [
    "# OOP Recap\n",
    "* We introduced the idea of objects in Python\n",
    "* We discussed Python classes\n",
    "* We went over **inheritance**\n",
    "* We *briefly* touched on **polymorphism**\n",
    "* We discussed Python dunder methods\n",
    "* We touched on the table implementation for `Python` objects\n",
    "  - This implementation allows us to look for attributes and methods\n",
    "  - If those attributes and methods are not found, then look elsewhere\n",
    "    1. A lookup first happens in the instance table\n",
    "    2. Then the class table (methods)\n",
    "    3. Then somewhere up in the inheritance hierarchy"
   ]
  },
  {
   "cell_type": "markdown",
   "metadata": {
    "slideshow": {
     "slide_type": "slide"
    }
   },
   "source": [
    "# What is Polymorphism?\n",
    "\n",
    "We saw polymorphism last time as the ability to tun the same methods on different objects, either through inheritance or by just defining an ad-hoc protocol (duck typing).\n",
    "\n",
    "The more general definition is:\n",
    "\n",
    "**The ability to write code that looks similar, but operates on different types.**\n",
    "\n",
    "In other words, a single interface serves entities of different types. \n"
   ]
  },
  {
   "cell_type": "markdown",
   "metadata": {
    "slideshow": {
     "slide_type": "subslide"
    }
   },
   "source": [
    "## Polymorphism Summary\n",
    "\n",
    "Python type system is strong and dynamic:\n",
    "\n",
    "- strong: everything has a well-defined type: `type`, `isinstance`\n",
    "- dynamic: type is not explicitly declared, changes with content\n",
    "\n",
    "In classic dynamically typed languages (e.g. Python) most common code is polymorphic. \n",
    "\n",
    "The types of values are restricted only by explicit runtime checks or errors due to failed support for operations at run time. \n",
    "\n",
    "Polymorphism is often combined with inheritance, but does not need to be.\n",
    "\n",
    "One classification of Polymorphism (summarized from Wikipedia) divides it as:\n",
    "- on one axis:  adhoc, parametric, and subtype based\n",
    "- on another axis:  dynamic (run time) and static (compile time)"
   ]
  },
  {
   "cell_type": "markdown",
   "metadata": {
    "slideshow": {
     "slide_type": "subslide"
    }
   },
   "source": [
    "### Static vs Dynamic\n",
    "\n",
    "Dynamic (run-time) polymorphism can be thought of as table based dispatch: Somewhere, at least conceptually, a table of types exists, or a linkage of such tables created by inheritance, where implementations are looked up for types.\n",
    "\n",
    "In static polymorphism (e.g. in `C++`) the binding to the appropriate class can be done at compile time."
   ]
  },
  {
   "cell_type": "markdown",
   "metadata": {
    "slideshow": {
     "slide_type": "subslide"
    }
   },
   "source": [
    "### Back to our French Deck Example"
   ]
  },
  {
   "cell_type": "code",
   "execution_count": 1,
   "metadata": {
    "collapsed": true,
    "slideshow": {
     "slide_type": "fragment"
    }
   },
   "outputs": [],
   "source": [
    "import collections\n",
    "Card = collections.namedtuple('Card', ['rank', 'suit'])"
   ]
  },
  {
   "cell_type": "code",
   "execution_count": 2,
   "metadata": {
    "collapsed": true,
    "slideshow": {
     "slide_type": "fragment"
    }
   },
   "outputs": [],
   "source": [
    "class FrenchDeck():\n",
    "    ranks = [str(n) for n in range(2, 11)] + list('JQKA') \n",
    "    suits = 'spades diamonds clubs hearts'.split()\n",
    "    \n",
    "    def __init__(self):\n",
    "        self._cards = [Card(rank, suit) for suit in self.suits for rank in self.ranks]\n",
    "                       \n",
    "    def __len__(self):\n",
    "        return len(self._cards)\n",
    "                       \n",
    "    def __getitem__(self, position): \n",
    "        return self._cards[position]\n",
    "        "
   ]
  },
  {
   "cell_type": "code",
   "execution_count": 3,
   "metadata": {
    "slideshow": {
     "slide_type": "fragment"
    }
   },
   "outputs": [
    {
     "name": "stdout",
     "output_type": "stream",
     "text": [
      "52\n"
     ]
    }
   ],
   "source": [
    "mydeck = FrenchDeck()\n",
    "print(len(mydeck))"
   ]
  },
  {
   "cell_type": "code",
   "execution_count": 4,
   "metadata": {
    "slideshow": {
     "slide_type": "subslide"
    }
   },
   "outputs": [
    {
     "data": {
      "text/plain": [
       "{'_cards': [Card(rank='2', suit='spades'),\n",
       "  Card(rank='3', suit='spades'),\n",
       "  Card(rank='4', suit='spades'),\n",
       "  Card(rank='5', suit='spades'),\n",
       "  Card(rank='6', suit='spades'),\n",
       "  Card(rank='7', suit='spades'),\n",
       "  Card(rank='8', suit='spades'),\n",
       "  Card(rank='9', suit='spades'),\n",
       "  Card(rank='10', suit='spades'),\n",
       "  Card(rank='J', suit='spades'),\n",
       "  Card(rank='Q', suit='spades'),\n",
       "  Card(rank='K', suit='spades'),\n",
       "  Card(rank='A', suit='spades'),\n",
       "  Card(rank='2', suit='diamonds'),\n",
       "  Card(rank='3', suit='diamonds'),\n",
       "  Card(rank='4', suit='diamonds'),\n",
       "  Card(rank='5', suit='diamonds'),\n",
       "  Card(rank='6', suit='diamonds'),\n",
       "  Card(rank='7', suit='diamonds'),\n",
       "  Card(rank='8', suit='diamonds'),\n",
       "  Card(rank='9', suit='diamonds'),\n",
       "  Card(rank='10', suit='diamonds'),\n",
       "  Card(rank='J', suit='diamonds'),\n",
       "  Card(rank='Q', suit='diamonds'),\n",
       "  Card(rank='K', suit='diamonds'),\n",
       "  Card(rank='A', suit='diamonds'),\n",
       "  Card(rank='2', suit='clubs'),\n",
       "  Card(rank='3', suit='clubs'),\n",
       "  Card(rank='4', suit='clubs'),\n",
       "  Card(rank='5', suit='clubs'),\n",
       "  Card(rank='6', suit='clubs'),\n",
       "  Card(rank='7', suit='clubs'),\n",
       "  Card(rank='8', suit='clubs'),\n",
       "  Card(rank='9', suit='clubs'),\n",
       "  Card(rank='10', suit='clubs'),\n",
       "  Card(rank='J', suit='clubs'),\n",
       "  Card(rank='Q', suit='clubs'),\n",
       "  Card(rank='K', suit='clubs'),\n",
       "  Card(rank='A', suit='clubs'),\n",
       "  Card(rank='2', suit='hearts'),\n",
       "  Card(rank='3', suit='hearts'),\n",
       "  Card(rank='4', suit='hearts'),\n",
       "  Card(rank='5', suit='hearts'),\n",
       "  Card(rank='6', suit='hearts'),\n",
       "  Card(rank='7', suit='hearts'),\n",
       "  Card(rank='8', suit='hearts'),\n",
       "  Card(rank='9', suit='hearts'),\n",
       "  Card(rank='10', suit='hearts'),\n",
       "  Card(rank='J', suit='hearts'),\n",
       "  Card(rank='Q', suit='hearts'),\n",
       "  Card(rank='K', suit='hearts'),\n",
       "  Card(rank='A', suit='hearts')]}"
      ]
     },
     "execution_count": 4,
     "metadata": {},
     "output_type": "execute_result"
    }
   ],
   "source": [
    "vars(mydeck)"
   ]
  },
  {
   "cell_type": "code",
   "execution_count": 5,
   "metadata": {
    "slideshow": {
     "slide_type": "subslide"
    }
   },
   "outputs": [
    {
     "data": {
      "text/plain": [
       "['__class__',\n",
       " '__delattr__',\n",
       " '__dict__',\n",
       " '__dir__',\n",
       " '__doc__',\n",
       " '__eq__',\n",
       " '__format__',\n",
       " '__ge__',\n",
       " '__getattribute__',\n",
       " '__getitem__',\n",
       " '__gt__',\n",
       " '__hash__',\n",
       " '__init__',\n",
       " '__init_subclass__',\n",
       " '__le__',\n",
       " '__len__',\n",
       " '__lt__',\n",
       " '__module__',\n",
       " '__ne__',\n",
       " '__new__',\n",
       " '__reduce__',\n",
       " '__reduce_ex__',\n",
       " '__repr__',\n",
       " '__setattr__',\n",
       " '__sizeof__',\n",
       " '__str__',\n",
       " '__subclasshook__',\n",
       " '__weakref__',\n",
       " '_cards',\n",
       " 'ranks',\n",
       " 'suits']"
      ]
     },
     "execution_count": 5,
     "metadata": {},
     "output_type": "execute_result"
    }
   ],
   "source": [
    "dir(mydeck)"
   ]
  },
  {
   "cell_type": "code",
   "execution_count": 6,
   "metadata": {
    "slideshow": {
     "slide_type": "subslide"
    }
   },
   "outputs": [
    {
     "data": {
      "text/plain": [
       "mappingproxy({'__dict__': <attribute '__dict__' of 'FrenchDeck' objects>,\n",
       "              '__doc__': None,\n",
       "              '__getitem__': <function __main__.FrenchDeck.__getitem__>,\n",
       "              '__init__': <function __main__.FrenchDeck.__init__>,\n",
       "              '__len__': <function __main__.FrenchDeck.__len__>,\n",
       "              '__module__': '__main__',\n",
       "              '__weakref__': <attribute '__weakref__' of 'FrenchDeck' objects>,\n",
       "              'ranks': ['2',\n",
       "               '3',\n",
       "               '4',\n",
       "               '5',\n",
       "               '6',\n",
       "               '7',\n",
       "               '8',\n",
       "               '9',\n",
       "               '10',\n",
       "               'J',\n",
       "               'Q',\n",
       "               'K',\n",
       "               'A'],\n",
       "              'suits': ['spades', 'diamonds', 'clubs', 'hearts']})"
      ]
     },
     "execution_count": 6,
     "metadata": {},
     "output_type": "execute_result"
    }
   ],
   "source": [
    "vars(mydeck.__class__)"
   ]
  },
  {
   "cell_type": "code",
   "execution_count": 7,
   "metadata": {
    "slideshow": {
     "slide_type": "subslide"
    }
   },
   "outputs": [
    {
     "data": {
      "text/plain": [
       "['__class__',\n",
       " '__delattr__',\n",
       " '__dict__',\n",
       " '__dir__',\n",
       " '__doc__',\n",
       " '__eq__',\n",
       " '__format__',\n",
       " '__ge__',\n",
       " '__getattribute__',\n",
       " '__getitem__',\n",
       " '__gt__',\n",
       " '__hash__',\n",
       " '__init__',\n",
       " '__init_subclass__',\n",
       " '__le__',\n",
       " '__len__',\n",
       " '__lt__',\n",
       " '__module__',\n",
       " '__ne__',\n",
       " '__new__',\n",
       " '__reduce__',\n",
       " '__reduce_ex__',\n",
       " '__repr__',\n",
       " '__setattr__',\n",
       " '__sizeof__',\n",
       " '__str__',\n",
       " '__subclasshook__',\n",
       " '__weakref__',\n",
       " 'ranks',\n",
       " 'suits']"
      ]
     },
     "execution_count": 7,
     "metadata": {},
     "output_type": "execute_result"
    }
   ],
   "source": [
    "dir(mydeck.__class__)"
   ]
  },
  {
   "cell_type": "markdown",
   "metadata": {
    "slideshow": {
     "slide_type": "slide"
    }
   },
   "source": [
    "## Ad hoc Polymorphism and Object tables\n",
    "\n",
    "**Ad hoc polymorphism** is the notion that different functions are called to accomplish the same task for arguments of different types. \n",
    "\n",
    "This enables the Python Data model with the dunder methods. \n",
    "\n",
    "If you call `len(arg)` or `iter(arg)`, we delegate to `arg`'s `__len__` or `__iter__` by *looking them up in the table (class) corresponding to arg*. \n",
    "\n",
    "**The net effect is that you get different behaviors for different objects.**\n",
    "\n",
    "You are not looking up a table for the operation but instead looking up a table for the object.\n",
    "\n",
    "You can think of this as *single dispatch*: the `len` is dispatched based on the type of the argument by looking up a table for the argument."
   ]
  },
  {
   "cell_type": "markdown",
   "metadata": {
    "slideshow": {
     "slide_type": "subslide"
    }
   },
   "source": [
    "### Duck Typing\n",
    "\n",
    "- We group together the notion that an object responds to such \"messages\" into a protocol\n",
    "- An example is the informal notion that something is a sequence\n",
    "\n",
    "This is **Duck Typing**. "
   ]
  },
  {
   "cell_type": "markdown",
   "metadata": {
    "slideshow": {
     "slide_type": "fragment"
    }
   },
   "source": [
    "Alex Martelli, the coiner of the phrase *Duck Typing*, says:\n",
    "\n",
    ">In Python, this mostly boils down to avoiding the use of isinstance to check the object’s type (not to mention the even worse approach of checking, for example, whether type(foo) is bar—which is rightly anathema as it inhibits even the simplest forms of inheritance!)."
   ]
  },
  {
   "cell_type": "markdown",
   "metadata": {
    "slideshow": {
     "slide_type": "skip"
    }
   },
   "source": [
    "### Tables for dispatching on functions\n",
    "\n",
    "You can also dispatch a function based on its argument, with no lookup in that argument's table, but rather in a *table that is associated with the function*. This is also *single dispatch*, but from a different table.\n",
    "\n",
    "There is no built in support in Python for this, but you can write it on your own by associating a dictionary with multiple types.\n",
    "\n",
    "See Chapter 7 (Example 7-20 and Example 7-21) in *Fluent Python*."
   ]
  },
  {
   "cell_type": "markdown",
   "metadata": {
    "slideshow": {
     "slide_type": "slide"
    }
   },
   "source": [
    "## Parametric Polymorphism\n",
    "\n",
    "**Write functions (or types) that are generic \"over\" other types.**\n",
    "\n",
    "- This means, for example, a stack that can take either an `int` or a `float` or an `animal`. \n",
    "  * Notice that this is generally true in a dynamic language such as `Python` where objects are allocated on the heap and it's the references or labels or ids that are pushed onto the stack. \n",
    "\n",
    "- In C++ this can be done using templates at compile time to optimize the allocation of space."
   ]
  },
  {
   "cell_type": "markdown",
   "metadata": {
    "slideshow": {
     "slide_type": "slide"
    }
   },
   "source": [
    "## Subtype Polymorphism\n",
    "\n",
    "This refers to the polymorphism that we encounter in situations where our language provides subclassing.\n",
    "\n",
    "- In a language such as C++, this refers to the notion that a dog and a cat can make sounds through an animal pointer. \n",
    "- In Python one can use duck typing or inheritance. So subtype polymorphism is then just ad-hoc polymorphism plus an augmented lookup in the inheritance hierarchy."
   ]
  },
  {
   "cell_type": "markdown",
   "metadata": {
    "slideshow": {
     "slide_type": "slide"
    }
   },
   "source": [
    "## Object Tables Again\n",
    "\n",
    "What's this table we keep talking about? We hinted at it earlier when we did:"
   ]
  },
  {
   "cell_type": "code",
   "execution_count": 8,
   "metadata": {
    "slideshow": {
     "slide_type": "fragment"
    }
   },
   "outputs": [
    {
     "data": {
      "text/plain": [
       "mappingproxy({'__dict__': <attribute '__dict__' of 'FrenchDeck' objects>,\n",
       "              '__doc__': None,\n",
       "              '__getitem__': <function __main__.FrenchDeck.__getitem__>,\n",
       "              '__init__': <function __main__.FrenchDeck.__init__>,\n",
       "              '__len__': <function __main__.FrenchDeck.__len__>,\n",
       "              '__module__': '__main__',\n",
       "              '__weakref__': <attribute '__weakref__' of 'FrenchDeck' objects>,\n",
       "              'ranks': ['2',\n",
       "               '3',\n",
       "               '4',\n",
       "               '5',\n",
       "               '6',\n",
       "               '7',\n",
       "               '8',\n",
       "               '9',\n",
       "               '10',\n",
       "               'J',\n",
       "               'Q',\n",
       "               'K',\n",
       "               'A'],\n",
       "              'suits': ['spades', 'diamonds', 'clubs', 'hearts']})"
      ]
     },
     "execution_count": 8,
     "metadata": {},
     "output_type": "execute_result"
    }
   ],
   "source": [
    "mydeck.__class__.__dict__"
   ]
  },
  {
   "cell_type": "markdown",
   "metadata": {
    "slideshow": {
     "slide_type": "subslide"
    }
   },
   "source": [
    "### What if we don't find a method in the table?\n",
    "\n",
    "Either this is a runtime error, or we search in the \"parent\" classes of this class.\n",
    "\n",
    "We can see all such attributes by using `dir`:"
   ]
  },
  {
   "cell_type": "code",
   "execution_count": 9,
   "metadata": {
    "slideshow": {
     "slide_type": "fragment"
    }
   },
   "outputs": [
    {
     "data": {
      "text/plain": [
       "['__class__',\n",
       " '__delattr__',\n",
       " '__dict__',\n",
       " '__dir__',\n",
       " '__doc__',\n",
       " '__eq__',\n",
       " '__format__',\n",
       " '__ge__',\n",
       " '__getattribute__',\n",
       " '__getitem__',\n",
       " '__gt__',\n",
       " '__hash__',\n",
       " '__init__',\n",
       " '__init_subclass__',\n",
       " '__le__',\n",
       " '__len__',\n",
       " '__lt__',\n",
       " '__module__',\n",
       " '__ne__',\n",
       " '__new__',\n",
       " '__reduce__',\n",
       " '__reduce_ex__',\n",
       " '__repr__',\n",
       " '__setattr__',\n",
       " '__sizeof__',\n",
       " '__str__',\n",
       " '__subclasshook__',\n",
       " '__weakref__',\n",
       " '_cards',\n",
       " 'ranks',\n",
       " 'suits']"
      ]
     },
     "execution_count": 9,
     "metadata": {},
     "output_type": "execute_result"
    }
   ],
   "source": [
    "dir(mydeck)"
   ]
  },
  {
   "cell_type": "markdown",
   "metadata": {
    "slideshow": {
     "slide_type": "subslide"
    }
   },
   "source": [
    "This works because it gets sent up:"
   ]
  },
  {
   "cell_type": "code",
   "execution_count": 10,
   "metadata": {
    "slideshow": {
     "slide_type": "fragment"
    }
   },
   "outputs": [
    {
     "data": {
      "text/plain": [
       "-9223372036577667938"
      ]
     },
     "execution_count": 10,
     "metadata": {},
     "output_type": "execute_result"
    }
   ],
   "source": [
    "hash(mydeck)"
   ]
  },
  {
   "cell_type": "markdown",
   "metadata": {
    "slideshow": {
     "slide_type": "fragment"
    }
   },
   "source": [
    "You can see whats upward of the French Deck by inspecting the [*Method Order Resolution*](https://www.python.org/download/releases/2.3/mro/) using the `mro` method."
   ]
  },
  {
   "cell_type": "code",
   "execution_count": 11,
   "metadata": {
    "slideshow": {
     "slide_type": "fragment"
    }
   },
   "outputs": [
    {
     "data": {
      "text/plain": [
       "[__main__.FrenchDeck, object]"
      ]
     },
     "execution_count": 11,
     "metadata": {},
     "output_type": "execute_result"
    }
   ],
   "source": [
    "FrenchDeck.mro()"
   ]
  },
  {
   "cell_type": "markdown",
   "metadata": {
    "slideshow": {
     "slide_type": "slide"
    }
   },
   "source": [
    "# Data Structures\n",
    "\n",
    "* Computer programs don't only perform calculations; they also store and retrieve information \n",
    "* Data structures and the algorithms that operate on them is at the core of computer science \n",
    "* Data structures are quite general\n",
    "  - Any data representation and associated operations\n",
    "  - e.g. integers, floats, arrays, classes, ...\n",
    "* Need to develop a \"toolkit\" of data structures and know when/how to use the right one for a given problem\n",
    "\n",
    "> Changing a data structure in a slow program can work the same way an organ transplant does in a sick patient. Important classes of abstract data types such as containers, dictionaries, and priority queues, have many different but functionally equivalent data structures that implement them. Changing the data structure does not change the correctness of the program, since we presumably replace a correct implementation with a different correct implementation. However, the new implementation of the data type realizes different tradeoffs in the time to execute various operations, so the total performance can improve dramatically. Like a patient in need of a transplant, only one part might need to be replaced in order to fix the problem.\n",
    "\n",
    "-Steven S Skiena. The Algorithm Design Manual\n",
    "\n",
    "We'll tour some data structures in `Python`.  First up:  sequences."
   ]
  },
  {
   "cell_type": "markdown",
   "metadata": {
    "slideshow": {
     "slide_type": "subslide"
    }
   },
   "source": [
    "## Common data structures\n",
    "\n",
    "* Lists\n",
    "* Stacks/queues\n",
    "* Hashes \n",
    "* Heaps\n",
    "* Trees\n",
    "\n",
    "We'll focus on *lists* today."
   ]
  },
  {
   "cell_type": "markdown",
   "metadata": {
    "slideshow": {
     "slide_type": "slide"
    }
   },
   "source": [
    "## Sequences and their Abstractions"
   ]
  },
  {
   "cell_type": "markdown",
   "metadata": {
    "slideshow": {
     "slide_type": "fragment"
    }
   },
   "source": [
    "### What is a sequence?\n",
    "\n",
    "Consider the notion of **Abstract Data Types**. \n",
    "\n",
    "The idea there is that one data type might be implemented in terms of another, or some underlying code, not even in python. \n",
    "\n",
    "As long as the interface and contract presented to the user is solid, we can change the implementation below. "
   ]
  },
  {
   "cell_type": "markdown",
   "metadata": {
    "slideshow": {
     "slide_type": "fragment"
    }
   },
   "source": [
    "The **dunder methods** in `Python` are used towards this purpose. \n",
    "\n",
    "In `Python` a sequence is something that follows the \"sequence protocol\". An example of this is a `Python` list. \n",
    "\n",
    "This entails defining the `__len__` and `__getitem__` methods, as we mentioned in previous lectures."
   ]
  },
  {
   "cell_type": "markdown",
   "metadata": {},
   "source": [
    "### Example"
   ]
  },
  {
   "cell_type": "code",
   "execution_count": 12,
   "metadata": {
    "slideshow": {
     "slide_type": "subslide"
    }
   },
   "outputs": [
    {
     "data": {
      "text/plain": [
       "4"
      ]
     },
     "execution_count": 12,
     "metadata": {},
     "output_type": "execute_result"
    }
   ],
   "source": [
    "alist=[1,2,3,4]\n",
    "len(alist) # calls alist.__len__"
   ]
  },
  {
   "cell_type": "code",
   "execution_count": 13,
   "metadata": {
    "slideshow": {
     "slide_type": "fragment"
    }
   },
   "outputs": [
    {
     "data": {
      "text/plain": [
       "3"
      ]
     },
     "execution_count": 13,
     "metadata": {},
     "output_type": "execute_result"
    }
   ],
   "source": [
    "alist[2] # calls alist.__getitem__(2)"
   ]
  },
  {
   "cell_type": "markdown",
   "metadata": {
    "slideshow": {
     "slide_type": "subslide"
    }
   },
   "source": [
    "#### Lists also support slicing"
   ]
  },
  {
   "cell_type": "code",
   "execution_count": 14,
   "metadata": {
    "slideshow": {
     "slide_type": "fragment"
    }
   },
   "outputs": [
    {
     "data": {
      "text/plain": [
       "[3, 4]"
      ]
     },
     "execution_count": 14,
     "metadata": {},
     "output_type": "execute_result"
    }
   ],
   "source": [
    "alist[2:4]"
   ]
  },
  {
   "cell_type": "markdown",
   "metadata": {
    "slideshow": {
     "slide_type": "fragment"
    }
   },
   "source": [
    "#### How does this work?"
   ]
  },
  {
   "cell_type": "markdown",
   "metadata": {
    "slideshow": {
     "slide_type": "subslide"
    }
   },
   "source": [
    "We will create a dummy sequence, which does not create any storage.  It just implements the protocol."
   ]
  },
  {
   "cell_type": "code",
   "execution_count": 15,
   "metadata": {
    "collapsed": true,
    "slideshow": {
     "slide_type": "fragment"
    }
   },
   "outputs": [],
   "source": [
    "class DummySeq:\n",
    "    \n",
    "    def __len__(self):\n",
    "        return 42\n",
    "    \n",
    "    def __getitem__(self, index):\n",
    "        return index"
   ]
  },
  {
   "cell_type": "code",
   "execution_count": 16,
   "metadata": {
    "slideshow": {
     "slide_type": "fragment"
    }
   },
   "outputs": [
    {
     "data": {
      "text/plain": [
       "42"
      ]
     },
     "execution_count": 16,
     "metadata": {},
     "output_type": "execute_result"
    }
   ],
   "source": [
    "d = DummySeq()\n",
    "len(d)"
   ]
  },
  {
   "cell_type": "code",
   "execution_count": 17,
   "metadata": {
    "slideshow": {
     "slide_type": "fragment"
    }
   },
   "outputs": [
    {
     "data": {
      "text/plain": [
       "5"
      ]
     },
     "execution_count": 17,
     "metadata": {},
     "output_type": "execute_result"
    }
   ],
   "source": [
    "d[5]"
   ]
  },
  {
   "cell_type": "code",
   "execution_count": 18,
   "metadata": {
    "slideshow": {
     "slide_type": "fragment"
    }
   },
   "outputs": [
    {
     "data": {
      "text/plain": [
       "slice(67, 98, None)"
      ]
     },
     "execution_count": 18,
     "metadata": {},
     "output_type": "execute_result"
    }
   ],
   "source": [
    "d[67:98]"
   ]
  },
  {
   "cell_type": "markdown",
   "metadata": {
    "slideshow": {
     "slide_type": "subslide"
    }
   },
   "source": [
    "#### The \"slice object\"\n",
    "\n",
    "Slicing creates a *slice object* for us of the form `slice(start, stop, step)` and then `Python` calls `seq.__getitem__(slice(start, stop, step))`.\n",
    "\n",
    "Two-dimensional slicing is also possible."
   ]
  },
  {
   "cell_type": "code",
   "execution_count": 19,
   "metadata": {
    "slideshow": {
     "slide_type": "fragment"
    }
   },
   "outputs": [
    {
     "data": {
      "text/plain": [
       "(slice(67, 98, 2), 1)"
      ]
     },
     "execution_count": 19,
     "metadata": {},
     "output_type": "execute_result"
    }
   ],
   "source": [
    "d[67:98:2,1]"
   ]
  },
  {
   "cell_type": "code",
   "execution_count": 20,
   "metadata": {
    "slideshow": {
     "slide_type": "fragment"
    }
   },
   "outputs": [
    {
     "data": {
      "text/plain": [
       "(slice(67, 98, 2), slice(1, 10, None))"
      ]
     },
     "execution_count": 20,
     "metadata": {},
     "output_type": "execute_result"
    }
   ],
   "source": [
    "d[67:98:2,1:10]"
   ]
  },
  {
   "cell_type": "markdown",
   "metadata": {
    "slideshow": {
     "slide_type": "subslide"
    }
   },
   "source": [
    "### Example"
   ]
  },
  {
   "cell_type": "code",
   "execution_count": 21,
   "metadata": {
    "collapsed": true,
    "slideshow": {
     "slide_type": "fragment"
    }
   },
   "outputs": [],
   "source": [
    "# Adapted from Example 10-6 from Fluent Python\n",
    "import numbers\n",
    "import reprlib # like repr but w/ limits on sizes of returned strings\n",
    "\n",
    "class NewSeq:\n",
    "    def __init__(self, iterator):\n",
    "        self._storage=list(iterator)\n",
    "        \n",
    "    def __repr__(self):\n",
    "        components = reprlib.repr(self._storage)\n",
    "        components = components[components.find('['):]\n",
    "        return 'NewSeq({})'.format(components)\n",
    "\n",
    "    def __len__(self):\n",
    "        return len(self._storage)\n",
    "    \n",
    "    def __getitem__(self, index):\n",
    "        cls = type(self)\n",
    "        if isinstance(index, slice):\n",
    "            return cls(self._storage[index])\n",
    "        elif isinstance(index, numbers.Integral): \n",
    "            return self._storage[index]\n",
    "        else:\n",
    "            msg = '{cls.__name__} indices must be integers' \n",
    "            raise TypeError(msg.format(cls=cls))\n"
   ]
  },
  {
   "cell_type": "code",
   "execution_count": 22,
   "metadata": {
    "slideshow": {
     "slide_type": "slide"
    }
   },
   "outputs": [
    {
     "data": {
      "text/plain": [
       "10"
      ]
     },
     "execution_count": 22,
     "metadata": {},
     "output_type": "execute_result"
    }
   ],
   "source": [
    "d2 = NewSeq(range(10))\n",
    "len(d2)"
   ]
  },
  {
   "cell_type": "code",
   "execution_count": 23,
   "metadata": {},
   "outputs": [
    {
     "data": {
      "text/plain": [
       "'NewSeq([0, 1, 2, 3, 4, 5, ...])'"
      ]
     },
     "execution_count": 23,
     "metadata": {},
     "output_type": "execute_result"
    }
   ],
   "source": [
    "repr(d2)"
   ]
  },
  {
   "cell_type": "code",
   "execution_count": 24,
   "metadata": {
    "slideshow": {
     "slide_type": "fragment"
    }
   },
   "outputs": [
    {
     "data": {
      "text/plain": [
       "NewSeq([0, 1, 2, 3, 4, 5, ...])"
      ]
     },
     "execution_count": 24,
     "metadata": {},
     "output_type": "execute_result"
    }
   ],
   "source": [
    "d2"
   ]
  },
  {
   "cell_type": "code",
   "execution_count": 25,
   "metadata": {
    "slideshow": {
     "slide_type": "fragment"
    }
   },
   "outputs": [
    {
     "data": {
      "text/plain": [
       "4"
      ]
     },
     "execution_count": 25,
     "metadata": {},
     "output_type": "execute_result"
    }
   ],
   "source": [
    "d[4]"
   ]
  },
  {
   "cell_type": "code",
   "execution_count": 26,
   "metadata": {
    "slideshow": {
     "slide_type": "fragment"
    }
   },
   "outputs": [
    {
     "data": {
      "text/plain": [
       "NewSeq([2, 3])"
      ]
     },
     "execution_count": 26,
     "metadata": {},
     "output_type": "execute_result"
    }
   ],
   "source": [
    "d2[2:4]"
   ]
  },
  {
   "cell_type": "code",
   "execution_count": 27,
   "metadata": {
    "slideshow": {
     "slide_type": "fragment"
    }
   },
   "outputs": [
    {
     "ename": "TypeError",
     "evalue": "NewSeq indices must be integers",
     "output_type": "error",
     "traceback": [
      "\u001b[0;31m---------------------------------------------------------------------------\u001b[0m",
      "\u001b[0;31mTypeError\u001b[0m                                 Traceback (most recent call last)",
      "\u001b[0;32m<ipython-input-27-ae2b261447b5>\u001b[0m in \u001b[0;36m<module>\u001b[0;34m()\u001b[0m\n\u001b[0;32m----> 1\u001b[0;31m \u001b[0md2\u001b[0m\u001b[0;34m[\u001b[0m\u001b[0;36m1\u001b[0m\u001b[0;34m,\u001b[0m\u001b[0;36m4\u001b[0m\u001b[0;34m]\u001b[0m\u001b[0;34m\u001b[0m\u001b[0m\n\u001b[0m",
      "\u001b[0;32m<ipython-input-21-24372088c6cb>\u001b[0m in \u001b[0;36m__getitem__\u001b[0;34m(self, index)\u001b[0m\n\u001b[1;32m     23\u001b[0m         \u001b[0;32melse\u001b[0m\u001b[0;34m:\u001b[0m\u001b[0;34m\u001b[0m\u001b[0m\n\u001b[1;32m     24\u001b[0m             \u001b[0mmsg\u001b[0m \u001b[0;34m=\u001b[0m \u001b[0;34m'{cls.__name__} indices must be integers'\u001b[0m\u001b[0;34m\u001b[0m\u001b[0m\n\u001b[0;32m---> 25\u001b[0;31m             \u001b[0;32mraise\u001b[0m \u001b[0mTypeError\u001b[0m\u001b[0;34m(\u001b[0m\u001b[0mmsg\u001b[0m\u001b[0;34m.\u001b[0m\u001b[0mformat\u001b[0m\u001b[0;34m(\u001b[0m\u001b[0mcls\u001b[0m\u001b[0;34m=\u001b[0m\u001b[0mcls\u001b[0m\u001b[0;34m)\u001b[0m\u001b[0;34m)\u001b[0m\u001b[0;34m\u001b[0m\u001b[0m\n\u001b[0m",
      "\u001b[0;31mTypeError\u001b[0m: NewSeq indices must be integers"
     ]
    }
   ],
   "source": [
    "d2[1,4]"
   ]
  },
  {
   "cell_type": "markdown",
   "metadata": {
    "slideshow": {
     "slide_type": "slide"
    }
   },
   "source": [
    "### Linked Lists\n",
    "\n",
    "* Remember, a *name* in `Python` points to its value.\n",
    "* We've seen lists whose last element is actually a pointer to another list.\n",
    "* This leads to the idea of a *linked list*, which we'll use to illustrate sequences.\n",
    "\n",
    "#### Nested Pairs\n",
    "\n",
    "Stanford CS61a: [Nested Pairs](http://wla.berkeley.edu/~cs61a/fa11/lectures/objects.html#nested-pairs), this is the **box and pointer** notation.\n",
    "\n",
    "In `Python`:"
   ]
  },
  {
   "cell_type": "code",
   "execution_count": 28,
   "metadata": {
    "collapsed": true,
    "slideshow": {
     "slide_type": "fragment"
    }
   },
   "outputs": [],
   "source": [
    "pair = (1,2)"
   ]
  },
  {
   "cell_type": "markdown",
   "metadata": {
    "slideshow": {
     "slide_type": "fragment"
    }
   },
   "source": [
    "This representation lacks a certain power. A few generalizations:\n",
    "* `pair = (1, (2, None))`\n",
    "* `linked_list = (1, (2, (3, (4, None))))`\n",
    "\n",
    "The second example leads to something like:  [Recursive Lists](http://wla.berkeley.edu/~cs61a/fa11/lectures/objects.html#recursive-lists).\n",
    "\n",
    "Here's what things look like in `PythonTutor`:  [`PythonTutor` Example](https://goo.gl/UEfxRN)."
   ]
  },
  {
   "cell_type": "markdown",
   "metadata": {
    "slideshow": {
     "slide_type": "subslide"
    }
   },
   "source": [
    "#### Quick Linked List implementation"
   ]
  },
  {
   "cell_type": "code",
   "execution_count": 29,
   "metadata": {
    "slideshow": {
     "slide_type": "fragment"
    }
   },
   "outputs": [
    {
     "data": {
      "text/plain": [
       "(10, (1, (2, (3, None))))"
      ]
     },
     "execution_count": 29,
     "metadata": {},
     "output_type": "execute_result"
    }
   ],
   "source": [
    "empty_ll = None\n",
    "\n",
    "def make_ll(first, rest): # Make a linked list\n",
    "    return (first, rest)\n",
    "\n",
    "def first(ll): # Get the first entry of a linked list\n",
    "    return ll[0]\n",
    "\n",
    "def rest(ll): # Get the second entry of a linked list\n",
    "    return ll[1]\n",
    "\n",
    "ll_1 = make_ll(1, make_ll(2, make_ll(3, empty_ll))) # Recursively generate a linked list\n",
    "\n",
    "my_ll = make_ll(10,ll_1) # Make another one\n",
    "my_ll"
   ]
  },
  {
   "cell_type": "code",
   "execution_count": 30,
   "metadata": {
    "slideshow": {
     "slide_type": "fragment"
    }
   },
   "outputs": [
    {
     "name": "stdout",
     "output_type": "stream",
     "text": [
      "10     (1, (2, (3, None)))     1\n"
     ]
    }
   ],
   "source": [
    "print(first(my_ll), \"   \", rest(my_ll), \"   \", first(rest(my_ll)))"
   ]
  },
  {
   "cell_type": "markdown",
   "metadata": {
    "slideshow": {
     "slide_type": "subslide"
    }
   },
   "source": [
    "#### Some reasons for linked lists:\n",
    "\n",
    "- You allocate memory only when you want to use it.\n",
    "- Inserting a new element is cheaper than in a fixed size array\n",
    "- Gateway to other pointer-like and hierarchical structures.\n",
    "\n",
    "#### Comments about linked lists:\n",
    "\n",
    "- Not so useful in `Python` but can be useful in `C/C++`\n",
    "- There are singly-linked lists and doubly-linked lists"
   ]
  }
 ],
 "metadata": {
  "celltoolbar": "Slideshow",
  "kernelspec": {
   "display_name": "Python 3",
   "language": "python",
   "name": "python3"
  },
  "language_info": {
   "codemirror_mode": {
    "name": "ipython",
    "version": 3
   },
   "file_extension": ".py",
   "mimetype": "text/x-python",
   "name": "python",
   "nbconvert_exporter": "python",
   "pygments_lexer": "ipython3",
   "version": "3.6.1"
  }
 },
 "nbformat": 4,
 "nbformat_minor": 1
}
