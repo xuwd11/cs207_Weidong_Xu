{
 "cells": [
  {
   "cell_type": "markdown",
   "metadata": {},
   "source": [
    "# Exercise 1\n",
    "Read and parse the chemical reactions `.xml` input file `rxns.xml`.\n",
    "\n",
    "\n",
    "1. Collect the species into a species list.  My output is `['H', 'O', 'OH', 'H2', 'O2']`.\n",
    "    \n",
    "    Some notes and hints:\n",
    "    * **Hint:**  For this `.xml` format you should have a loop over the `phase` element.\n",
    "    * **Hint:** You can use the `find()` method to get the species array.\n",
    "\n",
    "2. Calculate and print out the Arrhenius reaction rate coefficients using $R = 8.314$ and $T = 1500$.\n",
    "\n",
    "    Some notes and hints:\n",
    "    * **Hint:**  For this `.xml` format you should have loops over the `reactionData` element, the `reaction` element, the `rateCoeff` element, and the `Arrhenius` element using the `findall()` method discussed in lecture.\n",
    "    * **Hint:** You can use the `find()` method to get the reaction rate coefficients.\n",
    "    * My solution is:\n",
    "    \n",
    "        `k for reaction01 =    6.8678391864294477e+05\n",
    "    k for reaction02 =    2.3105559199959813e+06`"
   ]
  },
  {
   "cell_type": "code",
   "execution_count": 1,
   "metadata": {
    "collapsed": true
   },
   "outputs": [],
   "source": [
    "import xml.etree.ElementTree as ET\n",
    "tree = ET.parse('rxns.xml')\n",
    "reactions = tree.getroot()"
   ]
  },
  {
   "cell_type": "code",
   "execution_count": 2,
   "metadata": {},
   "outputs": [
    {
     "name": "stdout",
     "output_type": "stream",
     "text": [
      "['H', 'O', 'OH', 'H2', 'O2']\n"
     ]
    }
   ],
   "source": [
    "# Q1\n",
    "\n",
    "species = reactions.find('phase').find('speciesArray').text.split()\n",
    "print(species)"
   ]
  },
  {
   "cell_type": "code",
   "execution_count": 3,
   "metadata": {
    "collapsed": true
   },
   "outputs": [],
   "source": [
    "# Q2\n",
    "\n",
    "import numpy as np\n",
    "def arr(A, E, T, R=8.314):\n",
    "    '''Returns the Arrhenius reaction rate coefficient.\n",
    "    \n",
    "    INPUTS\n",
    "    =======\n",
    "    A: float\n",
    "       The Arrhenius prefactor.\n",
    "    E: float\n",
    "       The activation energy for the reaction (in the same unit as R*T).\n",
    "    T: float\n",
    "       The absolute temperature (in Kelvins).\n",
    "    R: float, optional, default value is 8.314\n",
    "       The universal gas constant.\n",
    "    \n",
    "    RETURNS\n",
    "    ========\n",
    "    k_arr: float, except the following cases:\n",
    "       If A <= 0, a ValueError exception will be raised;\n",
    "       if T <= 0, a ValueError exception will be raised;\n",
    "       if R <= 0, a ValueError exception will be raised;\n",
    "       if A*exp(-E/R/T) = float('inf'), an OverflowError exception will be raised.\n",
    "    \n",
    "    EXAMPLES\n",
    "    =========\n",
    "    >>> arr(10**7, 10**3, 10**2)\n",
    "    3003549.0889639617\n",
    "    '''\n",
    "    if A <= 0:\n",
    "        raise ValueError('The Arrhenius prefactor A must be positive.')\n",
    "    if T <= 0:\n",
    "        raise ValueError('The temperature T must be positive.')\n",
    "    if R <= 0:\n",
    "        raise ValueError('The ideal gas constant R must be positive.')\n",
    "    if R != 8.314:\n",
    "        print('Warning! The ideal gas constant R has been changed from the default value (8.314).')\n",
    "    k_arr = A * np.exp(-E/R/T)\n",
    "    if k_arr == float('inf'):\n",
    "        raise OverflowError\n",
    "    if k_arr == 0:\n",
    "        print('Warning! An underflow error might occur.')\n",
    "    return k_arr\n",
    "\n",
    "def mod_arr(A, b, E, T, R=8.314):\n",
    "    '''Returns the modified Arrhenius reaction rate coefficient.\n",
    "    \n",
    "    INPUTS\n",
    "    =======\n",
    "    A: float\n",
    "       The Arrhenius prefactor.\n",
    "    b: float\n",
    "       The modified Arrhenius parameter. If b is not a float number, a conversion is attempted.\n",
    "    E: float\n",
    "       The activation energy for the reaction (in the same unit as R*T).\n",
    "    T: float\n",
    "       The absolute temperature (in Kelvins).\n",
    "    R: float, optional, default value is 8.314\n",
    "       The universal gas constant.\n",
    "       \n",
    "    RETURNS\n",
    "    ========\n",
    "    k_mod_arr: float, except the following cases:\n",
    "       If A <= 0, a ValueError exception will be raised;\n",
    "       if b cannot be converted to a float number, a ValueError exception will be raised;\n",
    "       if T <= 0, a ValueError exception will be raised;\n",
    "       if R <= 0, a ValueError exception will be raised;\n",
    "       if A*exp(-E/R/T) = float('inf'), an OverflowError exception will be raised.\n",
    "    \n",
    "    EXAMPLES\n",
    "    =========\n",
    "    >>> mod_arr(10**7, 0.5, 10**3, 10**2)\n",
    "    30035490.889639616\n",
    "    '''\n",
    "    if A <= 0:\n",
    "        raise ValueError('The Arrhenius prefactor A must be positive.')\n",
    "    try:\n",
    "        b = float(b)\n",
    "    except:\n",
    "        raise ValueError('The modified Arrhenius parameter b must be real.')\n",
    "    if T <= 0:\n",
    "        raise ValueError('The temperature T must be positive.')\n",
    "    if R <= 0:\n",
    "        raise ValueError('The ideal gas constant R must be positive.')\n",
    "    if R != 8.314:\n",
    "        print('Warning! The ideal gas constant R has been changed from the default value (8.314).')\n",
    "    k_mod_arr = A*T**b*np.exp(-E/R/T)\n",
    "    if k_mod_arr == float('inf'):\n",
    "        raise OverflowError\n",
    "    if k_mod_arr == 0:\n",
    "        print('Warning! An underflow error might occur.')\n",
    "    return k_mod_arr"
   ]
  },
  {
   "cell_type": "code",
   "execution_count": 4,
   "metadata": {},
   "outputs": [
    {
     "name": "stdout",
     "output_type": "stream",
     "text": [
      "k for reaction01 = 686783.9186429448\n",
      "k for reaction02 = 2310555.9199959803\n"
     ]
    }
   ],
   "source": [
    "# Q2\n",
    "\n",
    "T = 1500\n",
    "coeff_names = ['A', 'b', 'E']\n",
    "for reaction in reactions.find('reactionData'):\n",
    "    rateCoeff = reaction.find('rateCoeff').find('Arrhenius')\n",
    "    rateCoeff = [float(rateCoeff.find(name).text) for name in coeff_names]\n",
    "    print('k for {} = {}'.format(reaction.attrib['id'], mod_arr(rateCoeff[0], rateCoeff[1], rateCoeff[2], T)))"
   ]
  }
 ],
 "metadata": {
  "kernelspec": {
   "display_name": "Python 3",
   "language": "python",
   "name": "python3"
  },
  "language_info": {
   "codemirror_mode": {
    "name": "ipython",
    "version": 3
   },
   "file_extension": ".py",
   "mimetype": "text/x-python",
   "name": "python",
   "nbconvert_exporter": "python",
   "pygments_lexer": "ipython3",
   "version": "3.6.1"
  }
 },
 "nbformat": 4,
 "nbformat_minor": 2
}
