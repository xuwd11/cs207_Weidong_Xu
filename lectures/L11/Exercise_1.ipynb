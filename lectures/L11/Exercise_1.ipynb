{
 "cells": [
  {
   "cell_type": "markdown",
   "metadata": {},
   "source": [
    "# Exercise 1\n",
    "Read and parse the chemical reactions `.xml` input file `rxns.xml`.\n",
    "\n",
    "\n",
    "1. Collect the species into a species list.  My output is `['H', 'O', 'OH', 'H2', 'O2']`.\n",
    "    \n",
    "    Some notes and hints:\n",
    "    * **Hint:**  For this `.xml` format you should have a loop over the `phase` element.\n",
    "    * **Hint:** You can use the `find()` method to get the species array.\n",
    "\n",
    "2. Calculate and print out the Arrhenius reaction rate coefficients using $R = 8.314$ and $T = 1500$.\n",
    "\n",
    "    Some notes and hints:\n",
    "    * **Hint:**  For this `.xml` format you should have loops over the `reactionData` element, the `reaction` element, the `rateCoeff` element, and the `Arrhenius` element using the `findall()` method discussed in lecture.\n",
    "    * **Hint:** You can use the `find()` method to get the reaction rate coefficients.\n",
    "    * My solution is:\n",
    "    \n",
    "        `k for reaction01 =    6.8678391864294477e+05\n",
    "    k for reaction02 =    2.3105559199959813e+06`"
   ]
  }
 ],
 "metadata": {
  "kernelspec": {
   "display_name": "Python 3",
   "language": "python",
   "name": "python3"
  },
  "language_info": {
   "codemirror_mode": {
    "name": "ipython",
    "version": 3
   },
   "file_extension": ".py",
   "mimetype": "text/x-python",
   "name": "python",
   "nbconvert_exporter": "python",
   "pygments_lexer": "ipython3",
   "version": "3.6.1"
  }
 },
 "nbformat": 4,
 "nbformat_minor": 2
}
