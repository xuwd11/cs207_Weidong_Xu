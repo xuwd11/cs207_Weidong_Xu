{
 "cells": [
  {
   "cell_type": "markdown",
   "metadata": {
    "slideshow": {
     "slide_type": "slide"
    }
   },
   "source": [
    "# Lecture 11\n",
    "## Input File Interlude\n",
    "\n",
    "### Wednesday, October 11th 2017"
   ]
  },
  {
   "cell_type": "markdown",
   "metadata": {
    "slideshow": {
     "slide_type": "slide"
    }
   },
   "source": [
    "# Input Files and Parsing\n",
    "\n",
    "We usually want to read data into our software:\n",
    "* Input parameters to the code (e.g. time step, linear algebra solvers, physical parameters, etc)\n",
    "* Input fields (e.g. fields to visualize)\n",
    "* Calibration data\n",
    "* $\\vdots$\n",
    "\n",
    "This data can be provided by us, or the client, or come from a database somewhere.\n",
    "\n",
    "There are *many* ways of reading in and parsing data.  In fact, this is often a non-trivial exercise depending on the quality of the data as well as its size.\n",
    "\n",
    "Our immediate concern will be with how to read chemical reaction information into our chemical kinetics code.\n",
    "\n",
    "Many kinetics codes read reaction information in from files in `.xml` format."
   ]
  },
  {
   "cell_type": "markdown",
   "metadata": {
    "slideshow": {
     "slide_type": "slide"
    }
   },
   "source": [
    "## XML Intro"
   ]
  },
  {
   "cell_type": "markdown",
   "metadata": {
    "slideshow": {
     "slide_type": "fragment"
    }
   },
   "source": [
    "```xml\n",
    "<?xml version=\"1.0\"?>\n",
    "\n",
    "<ctml>\n",
    "\n",
    "    <reactionData id=\"test_mechanism\">\n",
    "\n",
    "        <!-- reaction 01  -->\n",
    "        <reaction reversible=\"yes\" type=\"Elementary\" id=\"reaction01\">\n",
    "            <equation>H + O2 [=] OH + O</equation>\n",
    "            <rateCoeff>\n",
    "                <Kooij>\n",
    "                    <A units=\"cm3/mol/s\">3.52e+16</A>\n",
    "                    <b>-0.7</b>\n",
    "                    <E units=\"kJ/mol\">71.4</E>\n",
    "                </Kooij>\n",
    "            </rateCoeff>\n",
    "            <reactants>H:1 O2:1</reactants>\n",
    "            <products>OH:1 O:1</products>\n",
    "        </reaction>\n",
    "\n",
    "        <!-- reaction 02 -->\n",
    "        <reaction reversible=\"yes\" type=\"Elementary\" id=\"reaction02\">\n",
    "            <equation>H2 + O [=] OH + H</equation>\n",
    "            <rateCoeff>\n",
    "                <Kooij>\n",
    "                    <A units=\"cm3/mol/s\">5.06e+4</A>\n",
    "                    <b>2.7</b>\n",
    "                    <E units=\"kJ/mol\">26.3</E>\n",
    "                </Kooij>\n",
    "            </rateCoeff>\n",
    "            <reactants>H2:1 O:1</reactants>\n",
    "            <products>OH:1 H:1</products>\n",
    "        </reaction>\n",
    "\n",
    "    </reactionData>\n",
    "\n",
    "</ctml>\n",
    "```"
   ]
  },
  {
   "cell_type": "markdown",
   "metadata": {
    "slideshow": {
     "slide_type": "subslide"
    }
   },
   "source": [
    "## What is XML?\n",
    "\n",
    "**Note:** Material presented here taken from the following sources\n",
    "* [w3schools XML tutorial](https://www.w3schools.com/xml/default.asp)\n",
    "* [`Python` `xml.etree.ElementTree` documentation](https://docs.python.org/3.6/library/xml.etree.elementtree.html?highlight=xml%20etree)\n",
    "* [`XML` Documentation](https://www.w3.org/TR/2008/REC-xml-20081126/)\n",
    "* [`XML` Wikipedia Page](https://en.wikipedia.org/wiki/XML)\n",
    "\n",
    "Some basic `XML` comments:\n",
    "* XML stands for `Extensible Markup Language`\n",
    "* XML is just information wrapped in tags\n",
    "* It doesn't *do* anything per se\n",
    "* Its format is both machine- and human-readable"
   ]
  },
  {
   "cell_type": "markdown",
   "metadata": {
    "slideshow": {
     "slide_type": "subslide"
    }
   },
   "source": [
    "## What is our business with `XML`?\n",
    "\n",
    "We need to know enough about `XML` to be able to read in chemical reactions to our chemical kinetics library.\n",
    "\n",
    "To accomplish this, we must know a little bit about the structure of `XML` and what `Python` libraries are out there to help us actually do the parsing."
   ]
  },
  {
   "cell_type": "markdown",
   "metadata": {
    "slideshow": {
     "slide_type": "subslide"
    }
   },
   "source": [
    "## Some Basic `XML` Anatomy\n",
    "\n",
    "```xml\n",
    "<!-- This is an XML comment -->\n",
    "<?xml version=\"1.0\" encoding=\"UTF-8\"?> <!-- This is the optional XML prolog -->\n",
    "\n",
    "<dogshelter> <!-- This is the root element -->\n",
    "    <dog id=\"dog1\"> <!-- This is the first child element.\n",
    "                         It has an `id` attribute -->\n",
    "        <name> Cloe </name> <!-- First subchild element -->\n",
    "        <age> 3 </age> <!-- Second subchild element -->\n",
    "        <breed> Border Collie </breed>\n",
    "        <playgroup> Yes </playgroup>\n",
    "    </dog>\n",
    "    <dog id=\"dog2\"> \n",
    "        <name> Karl </name> \n",
    "        <age> 7 </age>\n",
    "        <breed> Beagle </breed>\n",
    "        <playgroup> Yes </playgroup>\n",
    "    </dog>\n",
    "</dogshelter>\n",
    "```\n",
    "\n",
    "Note that all `XML` elements have a closing tag!"
   ]
  },
  {
   "cell_type": "markdown",
   "metadata": {
    "slideshow": {
     "slide_type": "subslide"
    }
   },
   "source": [
    "## Some More Basic `XML` Anatomy\n",
    "See [w3schools XML tutorial](https://www.w3schools.com/xml/default.asp) for a very nice summary of the essential `XML` rules.\n",
    "\n",
    "`XML` elements:  a few things to be aware of:\n",
    "* Elements can contain text, attributes, and other elements\n",
    "* `XML` names are case sensitive and cannot contain spaces\n",
    "* Be consistent in your naming convention\n",
    "\n",
    "`XML` attributes:  a few things to be aware of:\n",
    "* `XML` attributes must be in quotes\n",
    "* There are no rules about when to use elements or attributes\n",
    "  - You could make an attribute an element and it might read better\n",
    "* Rule of thumb:  Data should be stored as elements.  Metadata should be stored as attributes."
   ]
  },
  {
   "cell_type": "markdown",
   "metadata": {
    "slideshow": {
     "slide_type": "slide"
    }
   },
   "source": [
    "## Python and `XML`\n",
    "We will use the `ElementTree` class to read in and parse `XML` input files in `Python`.\n",
    "\n",
    "A very nice tutorial can be found in the \n",
    "[`Python` `ElementTree` documentation](https://docs.python.org/3.6/library/xml.etree.elementtree.html?highlight=xml%20etree).\n",
    "\n",
    "We'll work with the `shelterdogs.xml` file to start."
   ]
  },
  {
   "cell_type": "code",
   "execution_count": 1,
   "metadata": {
    "scrolled": true,
    "slideshow": {
     "slide_type": "fragment"
    }
   },
   "outputs": [
    {
     "name": "stdout",
     "output_type": "stream",
     "text": [
      "<Element 'dogshelter' at 0x103caf728>\n",
      "dogshelter\n",
      "{}\n"
     ]
    }
   ],
   "source": [
    "import xml.etree.ElementTree as ET\n",
    "tree = ET.parse('shelterdogs.xml')\n",
    "dogshelter = tree.getroot()\n",
    "\n",
    "\n",
    "print(dogshelter)\n",
    "print(dogshelter.tag)\n",
    "print(dogshelter.attrib)"
   ]
  },
  {
   "cell_type": "markdown",
   "metadata": {
    "slideshow": {
     "slide_type": "subslide"
    }
   },
   "source": [
    "### Looping Over Child Elements"
   ]
  },
  {
   "cell_type": "code",
   "execution_count": 2,
   "metadata": {
    "scrolled": true,
    "slideshow": {
     "slide_type": "fragment"
    }
   },
   "outputs": [
    {
     "name": "stdout",
     "output_type": "stream",
     "text": [
      "dog {'id': 'dog1'}\n",
      "dog {'id': 'dog2'}\n"
     ]
    }
   ],
   "source": [
    "for child in dogshelter:\n",
    "    print(child.tag, child.attrib)"
   ]
  },
  {
   "cell_type": "markdown",
   "metadata": {
    "slideshow": {
     "slide_type": "subslide"
    }
   },
   "source": [
    "### Accessing Children by Index"
   ]
  },
  {
   "cell_type": "code",
   "execution_count": 3,
   "metadata": {
    "slideshow": {
     "slide_type": "fragment"
    }
   },
   "outputs": [
    {
     "name": "stdout",
     "output_type": "stream",
     "text": [
      " Cloe \n"
     ]
    }
   ],
   "source": [
    "print(dogshelter[0][0].text)"
   ]
  },
  {
   "cell_type": "code",
   "execution_count": 4,
   "metadata": {
    "slideshow": {
     "slide_type": "fragment"
    }
   },
   "outputs": [
    {
     "name": "stdout",
     "output_type": "stream",
     "text": [
      " Karl \n"
     ]
    }
   ],
   "source": [
    "print(dogshelter[1][0].text)"
   ]
  },
  {
   "cell_type": "code",
   "execution_count": 5,
   "metadata": {
    "scrolled": true,
    "slideshow": {
     "slide_type": "fragment"
    }
   },
   "outputs": [
    {
     "name": "stdout",
     "output_type": "stream",
     "text": [
      " Border Collie \n"
     ]
    }
   ],
   "source": [
    "print(dogshelter[0][2].text)"
   ]
  },
  {
   "cell_type": "markdown",
   "metadata": {
    "slideshow": {
     "slide_type": "subslide"
    }
   },
   "source": [
    "### The `Element.iter()` Method\n",
    "From the documentation:\n",
    "> Creates a tree iterator with the current element as the root. The iterator iterates over this element and all elements below it, in document (depth first) order. "
   ]
  },
  {
   "cell_type": "code",
   "execution_count": 6,
   "metadata": {
    "slideshow": {
     "slide_type": "fragment"
    }
   },
   "outputs": [
    {
     "name": "stdout",
     "output_type": "stream",
     "text": [
      " 3 \n",
      " 7 \n"
     ]
    }
   ],
   "source": [
    "for age in dogshelter.iter('age'):\n",
    "    print(age.text)"
   ]
  },
  {
   "cell_type": "markdown",
   "metadata": {
    "slideshow": {
     "slide_type": "subslide"
    }
   },
   "source": [
    "### The `Element.findall()` Method\n",
    "From the documentation:\n",
    "> Finds all matching subelements, by tag name or path. Returns a list containing all matching elements in document order."
   ]
  },
  {
   "cell_type": "code",
   "execution_count": 7,
   "metadata": {
    "scrolled": true,
    "slideshow": {
     "slide_type": "fragment"
    }
   },
   "outputs": [
    {
     "name": "stdout",
     "output_type": "stream",
     "text": [
      "[<Element 'dog' at 0x103caf908>, <Element 'dog' at 0x103d5c138>]\n"
     ]
    }
   ],
   "source": [
    "print(dogshelter.findall('dog'))"
   ]
  },
  {
   "cell_type": "code",
   "execution_count": 8,
   "metadata": {
    "slideshow": {
     "slide_type": "subslide"
    }
   },
   "outputs": [
    {
     "name": "stdout",
     "output_type": "stream",
     "text": [
      "ID:  dog1\n",
      "----------\n",
      "Name:   Cloe \n",
      "Age: 3.0 years\n",
      "Breed:  Border Collie \n",
      "PLAYGROUP\n",
      "\n",
      "::::::::::::::::::::\n",
      "\n",
      "ID:  dog2\n",
      "----------\n",
      "Name:   Karl \n",
      "Age: 7.0 years\n",
      "Breed:  Beagle \n",
      "PLAYGROUP\n",
      "\n",
      "::::::::::::::::::::\n",
      "\n"
     ]
    }
   ],
   "source": [
    "for dog in dogshelter.findall('dog'): # Iterate over each child\n",
    "    print('ID:  {}'.format(dog.get('id'))) # Use the get() method to get the attribute of the child\n",
    "    print('----------')\n",
    "    \n",
    "    print('Name:  {}'.format(dog.find('name').text)) # Use the find() method to find a specific subchild\n",
    "\n",
    "    age = float(dog.find('age').text)\n",
    "    if (dog.find('age').attrib == 'months'):\n",
    "        years = age / 12.0\n",
    "        print('Age: {} years'.format(years))\n",
    "    else:\n",
    "        print('Age: {} years'.format(age))\n",
    "    \n",
    "    print('Breed: {}'.format(dog.find('breed').text))\n",
    "    \n",
    "    if (dog.find('playgroup').text.split()[0] == 'Yes'):\n",
    "        print('PLAYGROUP')\n",
    "    else:\n",
    "        print('NO PLAYGROUP')\n",
    "    print('\\n::::::::::::::::::::\\n')"
   ]
  }
 ],
 "metadata": {
  "celltoolbar": "Slideshow",
  "kernelspec": {
   "display_name": "Python 3",
   "language": "python",
   "name": "python3"
  },
  "language_info": {
   "codemirror_mode": {
    "name": "ipython",
    "version": 3
   },
   "file_extension": ".py",
   "mimetype": "text/x-python",
   "name": "python",
   "nbconvert_exporter": "python",
   "pygments_lexer": "ipython3",
   "version": "3.6.1"
  }
 },
 "nbformat": 4,
 "nbformat_minor": 1
}
