{
 "cells": [
  {
   "cell_type": "markdown",
   "metadata": {},
   "source": [
    "# Exercise 1\n",
    "\n",
    "Write a `Circle` class.\n",
    "\n",
    "#### Requirements:\n",
    "* An instance of the `Circle` class should take $x$ and $y$ coordinates of the circle.\n",
    "* You must include the initializer constructor (`__init__`).\n",
    "* Include methods to compute the radius, area, and circumference of the circle\n",
    "* Demo your `Circle` class"
   ]
  }
 ],
 "metadata": {
  "kernelspec": {
   "display_name": "Python 3",
   "language": "python",
   "name": "python3"
  },
  "language_info": {
   "codemirror_mode": {
    "name": "ipython",
    "version": 3
   },
   "file_extension": ".py",
   "mimetype": "text/x-python",
   "name": "python",
   "nbconvert_exporter": "python",
   "pygments_lexer": "ipython3",
   "version": "3.6.1"
  }
 },
 "nbformat": 4,
 "nbformat_minor": 2
}
