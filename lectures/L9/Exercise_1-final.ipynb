{
 "cells": [
  {
   "cell_type": "markdown",
   "metadata": {},
   "source": [
    "# Exercise 1\n",
    "\n",
    "Write a `Circle` class.\n",
    "\n",
    "#### Requirements:\n",
    "* An instance of the `Circle` class should take $x$ and $y$ coordinates of the circle.\n",
    "* You must include the initializer constructor (`__init__`).\n",
    "* Include methods to compute the radius, area, and circumference of the circle\n",
    "* Demo your `Circle` class"
   ]
  },
  {
   "cell_type": "code",
   "execution_count": 1,
   "metadata": {},
   "outputs": [
    {
     "name": "stdout",
     "output_type": "stream",
     "text": [
      "Writing Circle.py\n"
     ]
    }
   ],
   "source": [
    "%%file Circle.py\n",
    "import numpy as np\n",
    "\n",
    "class Circle:\n",
    "    \n",
    "    def __init__(self, x, y):\n",
    "        self.x = x\n",
    "        self.y = y\n",
    "        \n",
    "    def cal_radius(self):\n",
    "        self.r = np.sqrt(self.x*self.x + self.y*self.y)\n",
    "        return self.r\n",
    "    \n",
    "    def cal_area(self):\n",
    "        if 'r' in vars(self):\n",
    "            self.area = np.pi * self.r*self.r\n",
    "        else:\n",
    "            self.area = np.pi * (self.x*self.x + self.y*self.y)\n",
    "        return self.area\n",
    "    \n",
    "    def cal_circumference(self):\n",
    "        if 'r' in vars(self):\n",
    "            self.cir = 2 * np.pi * np.sqrt(self.r*self.r)\n",
    "        else:\n",
    "            self.cir = 2 * np.pi * np.sqrt(self.x*self.x + self.y*self.y)\n",
    "        return self.cir\n",
    "    \n",
    "    def print_circle(self):\n",
    "        print('x = ', self.x)\n",
    "        print('y = ', self.y)\n",
    "        print('radius = ', self.r)\n",
    "        print('area = ', self.area)\n",
    "        print('circumference = ', self.cir)"
   ]
  },
  {
   "cell_type": "code",
   "execution_count": 2,
   "metadata": {},
   "outputs": [
    {
     "name": "stdout",
     "output_type": "stream",
     "text": [
      "x =  3\n",
      "y =  4\n",
      "radius =  5.0\n",
      "area =  78.5398163397\n",
      "circumference =  31.4159265359\n"
     ]
    }
   ],
   "source": [
    "# Demo Circle\n",
    "import Circle\n",
    "\n",
    "a = Circle.Circle(3, 4)\n",
    "a.cal_radius()\n",
    "a.cal_area()\n",
    "a.cal_circumference()\n",
    "a.print_circle()"
   ]
  }
 ],
 "metadata": {
  "kernelspec": {
   "display_name": "Python [default]",
   "language": "python",
   "name": "python3"
  },
  "language_info": {
   "codemirror_mode": {
    "name": "ipython",
    "version": 3
   },
   "file_extension": ".py",
   "mimetype": "text/x-python",
   "name": "python",
   "nbconvert_exporter": "python",
   "pygments_lexer": "ipython3",
   "version": "3.5.3"
  }
 },
 "nbformat": 4,
 "nbformat_minor": 2
}
