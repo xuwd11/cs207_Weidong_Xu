{
 "cells": [
  {
   "cell_type": "markdown",
   "metadata": {},
   "source": [
    "## Exercise 1\n",
    "\n",
    "Your task is to write a Python script to do the following:\n",
    "1. Read data from the file `prog_data.txt` into a list.\n",
    "  + Note:  Data in this file comes from the course survey.  The numbers represent the level of programming confidence that students had coming into the course on a scale of 1 to 5.\n",
    "2. Using the `enumerate` build-in type, perform a `for` loop to convert elements in the list from ints to floats.\n",
    "  + Remember that data will be read in as a string type.  You will do calculations which require floats.  To convert from a string to a float just do float(string).  However, note that this only works sometimes: [How to convert data types in Python 3](https://www.digitalocean.com/community/tutorials/how-to-convert-data-types-in-python-3).  It will work in our current use case.\n",
    "3. Using the `Counter` method from the `collections` library, determine what the most common number in your list is.\n",
    "  + Hint:  You will need to access the first element of the list returned by the `Counter` method.\n",
    "4. Print out the following for the user:\n",
    "  + Total number of respondents (suggestions: use the `len` function)\n",
    "  + Maximum number in the list (suggestion: use the `max` function)\n",
    "  + Minimum number in the list (suggestion: use the `min` function)\n",
    "  + Median of list (suggestion: use `numpy` --- look up median in `numpy`)\n",
    "  + Mean of list (suggestion: use `numpy` --- look up mean in `numpy`)\n",
    "  + Most common number in list with number of times it occurs.\n",
    "\n",
    "Note:  Please don't write a function to do this.  A script is sufficient for this exercise.  We'll get to functions soon.\n",
    "\n",
    "Your output should look something like:\n",
    "> The total number of respondants is 45.\n",
    "\n",
    "> The maximum programming confidence is 5.0.\n",
    "\n",
    "> The minimum programming confidence is 1.0.\n",
    "\n",
    "> The median programming level is 4.0.\n",
    "\n",
    "> The mean programming level is 3.4.\n",
    "\n",
    "> The most common programming level is 4.0 with 17 respondants."
   ]
  }
 ],
 "metadata": {
  "kernelspec": {
   "display_name": "Python 3",
   "language": "python",
   "name": "python3"
  },
  "language_info": {
   "codemirror_mode": {
    "name": "ipython",
    "version": 3
   },
   "file_extension": ".py",
   "mimetype": "text/x-python",
   "name": "python",
   "nbconvert_exporter": "python",
   "pygments_lexer": "ipython3",
   "version": "3.6.1"
  }
 },
 "nbformat": 4,
 "nbformat_minor": 2
}
