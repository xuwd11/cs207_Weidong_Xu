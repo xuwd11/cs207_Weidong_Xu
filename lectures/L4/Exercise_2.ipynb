{
 "cells": [
  {
   "cell_type": "markdown",
   "metadata": {},
   "source": [
    "## Exercise 2\n",
    "This exercise will walk you through the creation of a dictionary.\n",
    "1. First, load the data in the `names.txt` file.  This file contains common names of some species.  Load this into a list.\n",
    "2. Do the same thing with the `species.txt` file.  This file contains chemical formulae for some species.\n",
    "3. Now create a dictionary where the data from `names.txt` are the values and the data from `species.txt` are the keys.\n",
    "  + You should automate the creation of the dictionary by using a `for` loop\n",
    "  + The `for` loop should iterate over the representation created by the `zip` function. You can refer to the example around line 32 in Lecture 4 for guidance.\n",
    "  + **HINT:** Initialize the dictionary by with `my_new_dict = {}` just before executing the `for` loop.\n",
    "4. Access a value from the dictonary and print it to the screen.\n",
    "\n",
    "**Note:** The same dictionary can be created by executing the following one-liner:  `species_dict_2 = dict(zip(species, names))`."
   ]
  },
  {
   "cell_type": "code",
<<<<<<< HEAD
   "execution_count": 3,
   "metadata": {
    "collapsed": true
   },
   "outputs": [],
   "source": [
    "f = open('names.txt', 'r')\n",
    "names = [d for d in f.read().split()]\n",
    "f.close()\n",
    "f = open('species.txt', 'r')\n",
    "species = [d for d in f.read().split()]\n",
    "f.close()"
   ]
  },
  {
   "cell_type": "code",
   "execution_count": 4,
   "metadata": {},
   "outputs": [
    {
     "data": {
      "text/plain": [
       "['H2', 'O2', 'OH', 'H2O', 'H2O2']"
      ]
     },
     "execution_count": 4,
     "metadata": {},
     "output_type": "execute_result"
    }
   ],
   "source": [
    "species"
   ]
  },
  {
   "cell_type": "code",
   "execution_count": null,
   "metadata": {
    "collapsed": true
   },
   "outputs": [],
   "source": []
=======
   "execution_count": 27,
   "metadata": {},
   "outputs": [
    {
     "name": "stdout",
     "output_type": "stream",
     "text": [
      "['Hydrogen', 'Oxygen', 'Hydroxyl', 'Water', 'Hydrogen Peroxide', '']\n",
      "['Hydrogen', 'Oxygen', 'Hydroxyl', 'Water', 'Hydrogen Peroxide']\n"
     ]
    }
   ],
   "source": [
    "with open('names.txt') as fnames:\n",
    "    names = fnames.read()\n",
    "    names = names.split('\\n')\n",
    "    print(names)\n",
    "    names = filter(None, names)\n",
    "print(list(names))"
   ]
>>>>>>> 98b6e00cd2c5964c1e861a7a2ce90f14db43684e
  }
 ],
 "metadata": {
  "kernelspec": {
   "display_name": "Python [default]",
   "language": "python",
   "name": "python3"
  },
  "language_info": {
   "codemirror_mode": {
    "name": "ipython",
    "version": 3
   },
   "file_extension": ".py",
   "mimetype": "text/x-python",
   "name": "python",
   "nbconvert_exporter": "python",
   "pygments_lexer": "ipython3",
   "version": "3.5.3"
  }
 },
 "nbformat": 4,
 "nbformat_minor": 2
}
