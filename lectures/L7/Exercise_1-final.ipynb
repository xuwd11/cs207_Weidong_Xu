{
 "cells": [
  {
   "cell_type": "markdown",
   "metadata": {},
   "source": [
    "# Exercise 1:  Documentation and Testing\n",
    "The following little program needs some documentation and some tests.  Since you didn't write it, I'll tell you what it's supposed to do.  You'll need to document it.  Feel free to test for additional exceptions if you have time but start with it as it is.\n",
    "\n",
    "The point of the program is to compute the $L_{2}$ norm of a vector $v$.  A second argument, if provided, will be interpreted as a vector of weights.  The second argument must have the same length as the input vector.\n",
    "\n",
    "**NOTE:** The input type of the vectors for this program should be a list of numbers.\n",
    "\n",
    "As a reminder, the weighted $L_2$ norm of a vector $v$ is given by \n",
    "\\begin{align*}\n",
    "  \\|v\\|_{W} = \\sqrt{\\sum_{i=1}^{N}{\\left(w_{i}v_{i}\\right)^2}}\n",
    "\\end{align*}\n",
    "where $N$ is the length of the vector $v$, $v_{i}$ is the i-th component of the vector $v$ and $w_{i}$ is the i-th component of the weight vector.\n",
    "\n",
    "You must write the documentation and a decent test suite.  Try to include some doctests as well!\n",
    "\n",
    "Next, use the `pytest` module to run the doctests and unit tests and to assess the code coverage.\n",
    "\n",
    "If you don't already have `pytest`, you can install it using `pip install pytest`.  If you have trouble installing, here's the website: [`pytest` installation](https://docs.pytest.org/en/latest/getting-started.html)."
   ]
  },
  {
   "cell_type": "code",
   "execution_count": 1,
   "metadata": {},
   "outputs": [],
   "source": [
    "import numpy as np\n",
    "\n",
    "def L2(v, *args):\n",
    "    \"\"\"Returns the L2 norm of a vector v\n",
    "    \n",
    "    INPUTS\n",
    "    =======\n",
    "    v: list\n",
    "       Vector of which the L2 norm to be calculated\n",
    "    *arg: list, optional\n",
    "       Weight vector\n",
    "       \n",
    "    RETURNS\n",
    "    ========\n",
    "    L2_norm: float\n",
    "       float unless len(v) != len(args[0])\n",
    "       in which case a ValueError exception is raised\n",
    "       \n",
    "    EXAMPLES\n",
    "    =========\n",
    "    >>> L2([3, 4])\n",
    "    5.0\n",
    "    >>> L2([3, 4], [1, 1])\n",
    "    5.0\n",
    "    \"\"\"\n",
    "    s = 0.0 # Initialize sum\n",
    "    if len(args) == 0: # No weight vector\n",
    "        for vi in v:\n",
    "            s += vi * vi\n",
    "    else: # Weight vector present\n",
    "        w = args[0] # Get the weight vector\n",
    "        if (len(w) != len(v)): # Check lengths of lists\n",
    "            raise ValueError(\"Length of list of weights must match length of target list.\")\n",
    "        for i, vi in enumerate(v):\n",
    "            s += w[i] * w[i] * vi * vi\n",
    "    return np.sqrt(s)"
   ]
  },
  {
   "cell_type": "code",
   "execution_count": 2,
   "metadata": {},
   "outputs": [
    {
     "name": "stdout",
     "output_type": "stream",
     "text": [
      "Python Library Documentation: function L2 in module __main__\n",
      "\n",
      "L2(v, *args)\n",
      "    Returns the L2 norm of a vector v\n",
      "    \n",
      "    INPUTS\n",
      "    =======\n",
      "    v: list\n",
      "       Vector of which the L2 norm to be calculated\n",
      "    *arg: list, optional\n",
      "       Weight vector\n",
      "       \n",
      "    RETURNS\n",
      "    ========\n",
      "    L2_norm: float\n",
      "       float unless len(v) != len(args[0])\n",
      "       in which case a ValueError exception is raised\n",
      "       \n",
      "    EXAMPLES\n",
      "    =========\n",
      "    >>> L2([3, 4])\n",
      "    5.0\n",
      "    >>> L2([3, 4], [1, 1])\n",
      "    5.0\n"
     ]
    }
   ],
   "source": [
    "import pydoc\n",
    "pydoc.doc(L2)"
   ]
  },
  {
   "cell_type": "code",
   "execution_count": 3,
   "metadata": {},
   "outputs": [
    {
     "name": "stdout",
     "output_type": "stream",
     "text": [
      "Trying:\n",
      "    L2([3, 4])\n",
      "Expecting:\n",
      "    5.0\n",
      "ok\n",
      "Trying:\n",
      "    L2([3, 4], [1, 1])\n",
      "Expecting:\n",
      "    5.0\n",
      "ok\n",
      "1 items had no tests:\n",
      "    __main__\n",
      "1 items passed all tests:\n",
      "   2 tests in __main__.L2\n",
      "2 tests in 2 items.\n",
      "2 passed and 0 failed.\n",
      "Test passed.\n"
     ]
    },
    {
     "data": {
      "text/plain": [
       "TestResults(failed=0, attempted=2)"
      ]
     },
     "execution_count": 3,
     "metadata": {},
     "output_type": "execute_result"
    }
   ],
   "source": [
    "import doctest\n",
    "doctest.testmod(verbose=True)"
   ]
  },
  {
   "cell_type": "code",
   "execution_count": 4,
   "metadata": {},
   "outputs": [],
   "source": [
    "def test_L2_result():\n",
    "    assert L2([3, 4]) == 5.0\n",
    "    assert L2([3, 4], [1, 1]) == 5.0\n",
    "\n",
    "test_L2_result()"
   ]
  },
  {
   "cell_type": "code",
   "execution_count": 5,
   "metadata": {
    "collapsed": true
   },
   "outputs": [],
   "source": [
    "def test_L2_types():\n",
    "    try:\n",
    "        L2(10)\n",
    "    except TypeError as err:\n",
    "        assert(type(err) == TypeError)\n",
    "    \n",
    "test_L2_types()"
   ]
  },
  {
   "cell_type": "code",
   "execution_count": 6,
   "metadata": {
    "collapsed": true
   },
   "outputs": [],
   "source": [
    "def test_L2_difflength():\n",
    "    try:\n",
    "        L2([1, 1], [1, 1, 1])\n",
    "    except ValueError as err:\n",
    "        assert(type(err) == ValueError)\n",
    "\n",
    "test_L2_difflength()"
   ]
  },
  {
   "cell_type": "code",
   "execution_count": 7,
   "metadata": {},
   "outputs": [
    {
     "name": "stdout",
     "output_type": "stream",
     "text": [
      "Overwriting L2.py\n"
     ]
    }
   ],
   "source": [
    "%%file L2.py\n",
    "import numpy as np\n",
    "\n",
    "def L2(v, *args):\n",
    "    \"\"\"Returns the L2 norm of a vector v\n",
    "    \n",
    "    INPUTS\n",
    "    =======\n",
    "    v: list\n",
    "       Vector of which the L2 norm to be calculated\n",
    "    *arg: list, optional\n",
    "       Weight vector\n",
    "       \n",
    "    RETURNS\n",
    "    ========\n",
    "    L2_norm: float\n",
    "       float unless len(v) != len(args[0])\n",
    "       in which case a ValueError exception is raised\n",
    "       \n",
    "    EXAMPLES\n",
    "    =========\n",
    "    >>> L2([3, 4])\n",
    "    5.0\n",
    "    >>> L2([3, 4], [1, 1])\n",
    "    5.0\n",
    "    \"\"\"\n",
    "    s = 0.0 # Initialize sum\n",
    "    if len(args) == 0: # No weight vector\n",
    "        for vi in v:\n",
    "            s += vi * vi\n",
    "    else: # Weight vector present\n",
    "        w = args[0] # Get the weight vector\n",
    "        if (len(w) != len(v)): # Check lengths of lists\n",
    "            raise ValueError(\"Length of list of weights must match length of target list.\")\n",
    "        for i, vi in enumerate(v):\n",
    "            s += w[i] * w[i] * vi * vi\n",
    "    return np.sqrt(s)"
   ]
  },
  {
   "cell_type": "code",
   "execution_count": 8,
   "metadata": {},
   "outputs": [
    {
     "name": "stdout",
     "output_type": "stream",
     "text": [
      "Overwriting test_L2.py\n"
     ]
    }
   ],
   "source": [
    "%%file test_L2.py\n",
    "import L2\n",
    "\n",
    "def test_L2_result():\n",
    "    assert L2.L2([3, 4]) == 5.0\n",
    "    assert L2.L2([3, 4], [1, 1]) == 5\n",
    "    \n",
    "    \n",
    "def test_L2_types():\n",
    "    try:\n",
    "        L2.L2(10)\n",
    "    except TypeError as err:\n",
    "        assert(type(err) == TypeError)\n",
    "\n",
    "def test_L2_difflength():\n",
    "    try:\n",
    "        L2.L2([1, 1], [1, 1, 1])\n",
    "    except ValueError as err:\n",
    "        assert(type(err) == ValueError)"
   ]
  },
  {
   "cell_type": "code",
   "execution_count": 9,
   "metadata": {},
   "outputs": [
    {
     "name": "stdout",
     "output_type": "stream",
     "text": [
      "============================= test session starts =============================\n",
      "platform win32 -- Python 3.5.3, pytest-3.0.7, py-1.4.33, pluggy-0.4.0\n",
      "rootdir: C:\\Users\\Weidong\\Dropbox\\learning\\2017_2_Fall\\Systmes_Development_for_Computational_Science\\cs207_Weidong_Xu\\lectures\\L7, inifile:\n",
      "collected 3 items\n",
      "\n",
      "test_L2.py ...\n",
      "\n",
      "========================== 3 passed in 0.16 seconds ===========================\n"
     ]
    }
   ],
   "source": [
    "!pytest"
   ]
  }
 ],
 "metadata": {
  "kernelspec": {
   "display_name": "Python [conda root]",
   "language": "python",
   "name": "conda-root-py"
  },
  "language_info": {
   "codemirror_mode": {
    "name": "ipython",
    "version": 3
   },
   "file_extension": ".py",
   "mimetype": "text/x-python",
   "name": "python",
   "nbconvert_exporter": "python",
   "pygments_lexer": "ipython3",
   "version": "3.5.3"
  }
 },
 "nbformat": 4,
 "nbformat_minor": 2
}
