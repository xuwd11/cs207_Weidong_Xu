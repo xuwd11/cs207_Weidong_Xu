{
 "cells": [
  {
   "cell_type": "markdown",
   "metadata": {
    "slideshow": {
     "slide_type": "slide"
    }
   },
   "source": [
    "# Lecture 14\n",
    "\n",
    "### Wednesday, October 25th 2017"
   ]
  },
  {
   "cell_type": "markdown",
   "metadata": {
    "slideshow": {
     "slide_type": "slide"
    }
   },
   "source": [
    "## Last time:\n",
    "* Iterators and Iterables\n",
    "* Trees, Binary trees, and BSTs\n",
    "\n",
    "## This time:\n",
    "* BST Traversal\n",
    "* Generators\n",
    "* Memory layouts\n",
    "* Heaps?"
   ]
  },
  {
   "cell_type": "markdown",
   "metadata": {
    "slideshow": {
     "slide_type": "slide"
    }
   },
   "source": [
    "# BST Traversal\n",
    "\n",
    "* We've stored our data in a BST\n",
    "* This seemed like a good idea at the time because BSTs have some nice properties\n",
    "* To be able to access/use our data, we need to be able to traverse the tree"
   ]
  },
  {
   "cell_type": "markdown",
   "metadata": {
    "slideshow": {
     "slide_type": "fragment"
    }
   },
   "source": [
    "#### Traversal Choices\n",
    "\n",
    "There are three traversal choices based on an implicit ordering of the tree from left to right:\n",
    "\n",
    "1. In-order: Traverse left-subtree, then current root, then right sub tree\n",
    "2. Post-order: Traverse left subtree, then traverse left subtree, and then current root\n",
    "3. Pre-order: Current root, then traverse left subtree, then traverse right subtree"
   ]
  },
  {
   "cell_type": "markdown",
   "metadata": {
    "slideshow": {
     "slide_type": "fragment"
    }
   },
   "source": [
    "* Traversing a tree means performing some operation\n",
    "* In our examples, the operation will be \"displaying the data\"\n",
    "* However, an operation could be \"deleting files\""
   ]
  },
  {
   "cell_type": "markdown",
   "metadata": {
    "slideshow": {
     "slide_type": "subslide"
    }
   },
   "source": [
    "## Example\n",
    "Traverse the BST below using *in-order*, *post-order*, and *pre-order* traversals.  Write the resulting sorted data structure (as a list is fine).\n",
    "![BST_primes](BST_primes.png)"
   ]
  },
  {
   "cell_type": "markdown",
   "metadata": {
    "slideshow": {
     "slide_type": "slide"
    }
   },
   "source": [
    "# Heaps\n",
    "We listed several types of data structures at the beginning of our data structures unit.\n",
    "\n",
    "So far, we have discussed lists and trees (in particular binary trees and binary search trees).\n",
    "\n",
    "Heaps are a type of tree, a little different from binary trees."
   ]
  },
  {
   "cell_type": "markdown",
   "metadata": {
    "slideshow": {
     "slide_type": "subslide"
    }
   },
   "source": [
    "## Some Motivation\n",
    "\n",
    "### Priority Queues\n",
    "\n",
    "* People may come to your customer service counter in a certain order, but you might want to serve your executive class first! \n",
    "* In other words, there is an \"ordering\" on your customers and you want to serve people in the order of the most VIP.\n",
    "* This problem requires us to then sort things by importance and then evaluate things in this sorted order.\n",
    "* A priority queue is a data structure for this, which allows us to do things more efficiently than simple sorting every time a new thing comes in.\n",
    "\n",
    "Items are inserted at one end and deleted from the other end of a queue (first in, first out [FIFO] buffer)."
   ]
  },
  {
   "cell_type": "markdown",
   "metadata": {
    "slideshow": {
     "slide_type": "fragment"
    }
   },
   "source": [
    "The basic priority queue is defined to be supporting three primary operations:\n",
    "1. Insert: insert an item with \"key\" (e.g. an importance) $k$ into priority queue $Q$.\n",
    "2. Find Minimum: get the item, or a pointer to the item, whose key value is smaller than any other key in $Q$.\n",
    "3. Delete Minimum: Remove the item with minimum $k$ from $Q$."
   ]
  },
  {
   "cell_type": "markdown",
   "metadata": {
    "slideshow": {
     "slide_type": "subslide"
    }
   },
   "source": [
    "### Comments on Implementation of Priorty Queues\n",
    "\n",
    "One could use an unsorted array and store a pointer to the minimum index; accessing the minimum is an $O(1)$ operation.\n",
    "* It's cheap to update the pointer when new items are inserted into the array because we update it in $O(1)$ only when the new value is less than the current one.\n",
    "* Finding a new minimum after deleting the old one requires a scan of the array ($O(n)$ operation) and then resetting the pointer."
   ]
  },
  {
   "cell_type": "markdown",
   "metadata": {
    "slideshow": {
     "slide_type": "fragment"
    }
   },
   "source": [
    "One could alternatively implement the priority queue with a *balanced* binary tree structure.  Then we'll get performance of $O(\\log(n))$!"
   ]
  },
  {
   "cell_type": "markdown",
   "metadata": {
    "slideshow": {
     "slide_type": "fragment"
    }
   },
   "source": [
    "This leads us to *heaps*.  Heaps are a type of balanced binary tree.\n",
    "\n",
    "* A heap providing access to minimum values is called a *min-heap*\n",
    "* A heap providing access to maximum values is called a *max-heap*\n",
    "* Note that you can't have a *min-heap* and *max-heap* together"
   ]
  },
  {
   "cell_type": "markdown",
   "metadata": {
    "slideshow": {
     "slide_type": "subslide"
    }
   },
   "source": [
    "### Heapsort\n",
    "* Implementing a priority queue with `selection sort` takes $O(n^{2})$ operations\n",
    "* Using a heap takes $O(n\\log(n))$ operations\n",
    "\n",
    "Implementing a sorting algorithm using a heap is called `heapsort`.\n",
    "\n",
    "`Heapsort` is an *in-place* sort and requires no extra memory.\n",
    "\n",
    "Note that there are many sorting algorithms nowadays.  `Python` uses [`Timsort`](https://en.wikipedia.org/wiki/Timsort)."
   ]
  },
  {
   "cell_type": "markdown",
   "metadata": {
    "slideshow": {
     "slide_type": "subslide"
    }
   },
   "source": [
    "### Back to Heaps\n",
    "\n",
    "A heap has two properties:\n",
    "\n",
    "1. Shape property\n",
    "   * A leaf node at depth $k>0$ can exist only if all the nodes at the previous depth exist. Nodes at any partially filled level are added \"from left to right\".\n",
    "2. Heap property\n",
    "   * For a *min-heap*, each node in the tree contains a key less than or equal to either of its two children (if they exist).\n",
    "     - This is also known as the labeling of a \"parent node\" dominating that of its children. \n",
    "   * For max heaps we use greater-than-or-equal."
   ]
  },
  {
   "cell_type": "markdown",
   "metadata": {
    "slideshow": {
     "slide_type": "fragment"
    }
   },
   "source": [
    "#### Heap Mechanics\n",
    "\n",
    "* The first element in the array is the root key\n",
    "* The next two elements make up the first level of children.  This is done from left to right\n",
    "* Then the next four and so on."
   ]
  },
  {
   "cell_type": "markdown",
   "metadata": {
    "slideshow": {
     "slide_type": "subslide"
    }
   },
   "source": [
    "#### More Details on Heap Mechanics\n",
    "\n",
    "To construct a heap, insert each new element that comes in at the left-most open spot. \n",
    "\n",
    "This maintains the shape property but not the heap property."
   ]
  },
  {
   "cell_type": "markdown",
   "metadata": {
    "slideshow": {
     "slide_type": "fragment"
    }
   },
   "source": [
    "#### Restore the Heap Property by \"Bubbling Up\"\n",
    "Look at the parent and if the child \"dominates\" we swap parent and child. Repeat this process until we bubble up to the root.\n",
    "\n",
    "Identifying the dominant is now easy because it will be at the top of the tree.\n",
    "\n",
    "This process is called `heapify` and must also be done at the first construction of the heap."
   ]
  },
  {
   "cell_type": "markdown",
   "metadata": {
    "slideshow": {
     "slide_type": "fragment"
    }
   },
   "source": [
    "#### Deletion\n",
    "Removing the dominant key creates a hole at the top (the first position in the array).\n",
    "\n",
    "**Fill this hole with the rightmost position in the array**, or the rightmost leaf node.\n",
    "\n",
    "This destroys the heap property!\n",
    "\n",
    "So we now bubble this key down until it dominates all its children."
   ]
  },
  {
   "cell_type": "markdown",
   "metadata": {
    "slideshow": {
     "slide_type": "subslide"
    }
   },
   "source": [
    "## Example\n",
    "1. Construct a *min-heap* for the array $$\\left[1, 8, 5, 9, 23, 2, 45, 6, 7, 99, -5\\right].$$\n",
    "2. Delete $-5$ and update the *min-heap*."
   ]
  },
  {
   "cell_type": "markdown",
   "metadata": {
    "slideshow": {
     "slide_type": "slide"
    }
   },
   "source": [
    "# Iterables/Iterators Again\n",
    "We have been discussing data structures and simultaneously exploring iterators and iterables."
   ]
  },
  {
   "cell_type": "code",
   "execution_count": 1,
   "metadata": {
    "collapsed": true,
    "slideshow": {
     "slide_type": "fragment"
    }
   },
   "outputs": [],
   "source": [
    "class SentenceIterator:\n",
    "    def __init__(self, words): \n",
    "        self.words = words \n",
    "        self.index = 0\n",
    "        \n",
    "    def __next__(self): \n",
    "        try:\n",
    "            word = self.words[self.index] \n",
    "        except IndexError:\n",
    "            raise StopIteration() \n",
    "        self.index += 1\n",
    "        return word \n",
    "\n",
    "    def __iter__(self):\n",
    "        return self\n",
    "\n",
    "class Sentence: # An iterable\n",
    "    def __init__(self, text): \n",
    "        self.text = text\n",
    "        self.words = text.split()\n",
    "        \n",
    "    def __iter__(self):\n",
    "        return SentenceIterator(self.words)\n",
    "    \n",
    "    def __repr__(self):\n",
    "        return 'Sentence(%s)' % reprlib.repr(self.text)"
   ]
  },
  {
   "cell_type": "markdown",
   "metadata": {
    "slideshow": {
     "slide_type": "subslide"
    }
   },
   "source": [
    "### Example Usage"
   ]
  },
  {
   "cell_type": "code",
   "execution_count": 2,
   "metadata": {
    "slideshow": {
     "slide_type": "fragment"
    }
   },
   "outputs": [
    {
     "name": "stdout",
     "output_type": "stream",
     "text": [
      "Dogs\n",
      "will\n",
      "save\n",
      "the\n",
      "world\n",
      "and\n",
      "cats\n",
      "will\n",
      "eat\n",
      "it.\n",
      "\n",
      "\n",
      "Dogs\n",
      "will\n",
      "save\n",
      "the\n",
      "world\n",
      "and\n",
      "cats\n",
      "will\n",
      "eat\n",
      "it.\n"
     ]
    }
   ],
   "source": [
    "a = Sentence(\"Dogs will save the world and cats will eat it.\")\n",
    "\n",
    "for item in a:\n",
    "    print(item)\n",
    "print(\"\\n\")\n",
    "it = iter(a) # it is an iterator\n",
    "while True:\n",
    "    try:\n",
    "        nextval = next(it)\n",
    "        print(nextval)\n",
    "    except StopIteration:\n",
    "        del it\n",
    "        break"
   ]
  },
  {
   "cell_type": "markdown",
   "metadata": {
    "slideshow": {
     "slide_type": "subslide"
    }
   },
   "source": [
    "#### Every collection in Python is iterable.\n",
    "\n",
    "We have already seen iterators are used to make for loops. They are also used to make other collections:\n",
    "\n",
    "* To loop over a file line by line from disk\n",
    "* In the making of list, dict, and set comprehensions\n",
    "* In unpacking tuples\n",
    "* In parameter unpacking in function calls (*args syntax)\n",
    "\n",
    "An iterator defines both `__iter__` and a `__next__` (the first one is only required to make sure an iterator is an iterable).\n",
    "\n",
    "**Recap:** An iterator retrieves items from a collection. The collection must implement `__iter__`."
   ]
  },
  {
   "cell_type": "markdown",
   "metadata": {
    "slideshow": {
     "slide_type": "subslide"
    }
   },
   "source": [
    "## Generators\n",
    "\n",
    "* A generator function looks like a normal function, but yields values instead of returning them. \n",
    "* The syntax is (unfortunately) the same otherwise ([PEP 255 -- Simple Generators](https://www.python.org/dev/peps/pep-0255/)).\n",
    "* A generator is a different beast. When the function runs, it creates a generator.\n",
    "* The generator is an iterator and gets an internal implementation of `__iter__` and `__next__`."
   ]
  },
  {
   "cell_type": "code",
   "execution_count": 3,
   "metadata": {
    "slideshow": {
     "slide_type": "fragment"
    }
   },
   "outputs": [
    {
     "name": "stdout",
     "output_type": "stream",
     "text": [
      "<function gen123 at 0x10d8081e0>     <class 'function'>     <class 'generator'>\n"
     ]
    }
   ],
   "source": [
    "def gen123():\n",
    "    print(\"A\")\n",
    "    yield 1\n",
    "    print(\"B\")\n",
    "    yield 2\n",
    "    print(\"C\")\n",
    "    yield 3\n",
    "\n",
    "g = gen123()\n",
    "\n",
    "print(gen123, \"   \", type(gen123), \"   \", type(g))"
   ]
  },
  {
   "cell_type": "code",
   "execution_count": 4,
   "metadata": {
    "slideshow": {
     "slide_type": "fragment"
    }
   },
   "outputs": [
    {
     "name": "stdout",
     "output_type": "stream",
     "text": [
      "A generator is an iterator.\n",
      "It has <method-wrapper '__iter__' of generator object at 0x10d7cefc0> and <method-wrapper '__next__' of generator object at 0x10d7cefc0>\n"
     ]
    }
   ],
   "source": [
    "print(\"A generator is an iterator.\")\n",
    "print(\"It has {} and {}\".format(g.__iter__, g.__next__))"
   ]
  },
  {
   "cell_type": "markdown",
   "metadata": {
    "slideshow": {
     "slide_type": "subslide"
    }
   },
   "source": [
    "### Some notes on generators\n",
    "* When `next` is called on the generator, the function proceeds until the first yield.\n",
    "* The function body is now suspended and the value in the yield is then passed to the calling scope as the outcome of the `next`.\n",
    "* When next is called again, it gets `__next__` called again (implicitly) in the generator, and the next value is yielded.\n",
    "* This continues until we reach the end of the function, the return of which creates a `StopIteration` in next.\n",
    "\n",
    "Any Python function that has the yield keyword in its body is a generator function."
   ]
  },
  {
   "cell_type": "code",
   "execution_count": 5,
   "metadata": {
    "slideshow": {
     "slide_type": "fragment"
    }
   },
   "outputs": [
    {
     "name": "stdout",
     "output_type": "stream",
     "text": [
      "A\n",
      "1\n",
      "B\n",
      "2\n",
      "C\n",
      "3\n"
     ]
    },
    {
     "ename": "StopIteration",
     "evalue": "",
     "output_type": "error",
     "traceback": [
      "\u001b[0;31m---------------------------------------------------------------------------\u001b[0m",
      "\u001b[0;31mStopIteration\u001b[0m                             Traceback (most recent call last)",
      "\u001b[0;32m<ipython-input-5-7a07053563b7>\u001b[0m in \u001b[0;36m<module>\u001b[0;34m()\u001b[0m\n\u001b[1;32m      2\u001b[0m \u001b[0mprint\u001b[0m\u001b[0;34m(\u001b[0m\u001b[0mnext\u001b[0m\u001b[0;34m(\u001b[0m\u001b[0mg\u001b[0m\u001b[0;34m)\u001b[0m\u001b[0;34m)\u001b[0m\u001b[0;34m\u001b[0m\u001b[0m\n\u001b[1;32m      3\u001b[0m \u001b[0mprint\u001b[0m\u001b[0;34m(\u001b[0m\u001b[0mnext\u001b[0m\u001b[0;34m(\u001b[0m\u001b[0mg\u001b[0m\u001b[0;34m)\u001b[0m\u001b[0;34m)\u001b[0m\u001b[0;34m\u001b[0m\u001b[0m\n\u001b[0;32m----> 4\u001b[0;31m \u001b[0mprint\u001b[0m\u001b[0;34m(\u001b[0m\u001b[0mnext\u001b[0m\u001b[0;34m(\u001b[0m\u001b[0mg\u001b[0m\u001b[0;34m)\u001b[0m\u001b[0;34m)\u001b[0m\u001b[0;34m\u001b[0m\u001b[0m\n\u001b[0m",
      "\u001b[0;31mStopIteration\u001b[0m: "
     ]
    }
   ],
   "source": [
    "print(next(g))\n",
    "print(next(g))\n",
    "print(next(g))\n",
    "print(next(g))"
   ]
  },
  {
   "cell_type": "markdown",
   "metadata": {
    "slideshow": {
     "slide_type": "subslide"
    }
   },
   "source": [
    "### More notes on generators\n",
    "* Generators yield one item at a time\n",
    "* In this way, they feed the `for` loop one item at a time"
   ]
  },
  {
   "cell_type": "code",
   "execution_count": 6,
   "metadata": {
    "slideshow": {
     "slide_type": "fragment"
    }
   },
   "outputs": [
    {
     "name": "stdout",
     "output_type": "stream",
     "text": [
      "A\n",
      "1 \n",
      "\n",
      "B\n",
      "2 \n",
      "\n",
      "C\n",
      "3 \n",
      "\n"
     ]
    }
   ],
   "source": [
    "for i in gen123():\n",
    "    print(i, \"\\n\")"
   ]
  },
  {
   "cell_type": "markdown",
   "metadata": {
    "slideshow": {
     "slide_type": "subslide"
    }
   },
   "source": [
    "## Lecture Exercise\n",
    "Create a `Sentence` iterator class that uses a generator expression.  You will write the generator expression in the `__iter__` special method.  Note that the generator automatically gets `__next__`."
   ]
  }
 ],
 "metadata": {
  "celltoolbar": "Slideshow",
  "kernelspec": {
   "display_name": "Python 3",
   "language": "python",
   "name": "python3"
  },
  "language_info": {
   "codemirror_mode": {
    "name": "ipython",
    "version": 3
   },
   "file_extension": ".py",
   "mimetype": "text/x-python",
   "name": "python",
   "nbconvert_exporter": "python",
   "pygments_lexer": "ipython3",
   "version": "3.6.1"
  }
 },
 "nbformat": 4,
 "nbformat_minor": 1
}
