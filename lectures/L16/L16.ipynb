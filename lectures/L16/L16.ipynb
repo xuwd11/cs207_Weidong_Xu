{
 "cells": [
  {
   "cell_type": "markdown",
   "metadata": {
    "slideshow": {
     "slide_type": "slide"
    }
   },
   "source": [
    "# Lecture 16\n",
    "## Wednesday, November 1st 2017\n",
    "\n",
    "### Topics:\n",
    "### * Chemical Kinetics --- Reversible Reactions\n",
    "### * `Python` packages"
   ]
  },
  {
   "cell_type": "markdown",
   "metadata": {
    "slideshow": {
     "slide_type": "slide"
    }
   },
   "source": [
    "# Reversible Elementary Reactions"
   ]
  },
  {
   "cell_type": "markdown",
   "metadata": {
    "slideshow": {
     "slide_type": "subslide"
    }
   },
   "source": [
    "## Recap\n",
    "So far, we have considered $N$ chemical species underdoing $M$ chemical reations in the form\n",
    "$$\\sum_{i=1}^{N}{\\nu_{ij}^{\\prime}\\mathcal{S}_{i}} \\longrightarrow \\sum_{i=1}^{N}{\\nu_{ij}^{\\prime\\prime}\\mathcal{S}_{i}} \\qquad j = 1, \\ldots, M$$\n",
    "where $\\nu_{ij}^{\\prime}$ are the *reactant* stoichiometric coefficients and $\\nu_{ij}^{\\prime\\prime}$ are the *product* stoichiometric coefficients.  The chemical symbol of specie $i$ is denoted $S_{i}$."
   ]
  },
  {
   "cell_type": "markdown",
   "metadata": {
    "slideshow": {
     "slide_type": "subslide"
    }
   },
   "source": [
    "The reaction rate for each species was given as a linear combination of reaction progress rates.  That is, \n",
    "$$f_{i}\\left(\\mathbf{x}, T\\right) = \\sum_{j=1}^{M}{\\nu_{ij}r_{j}}, \\qquad i = 1\\ldots, N$$ \n",
    "where $\\nu_{ij} = \\nu_{ij}^{\\prime\\prime} - \\nu_{ij}^{\\prime}$."
   ]
  },
  {
   "cell_type": "markdown",
   "metadata": {
    "slideshow": {
     "slide_type": "fragment"
    }
   },
   "source": [
    "The state of the system consists of the vector of species concentrations $\\mathbf{x}$ and the temperature of the mixture $T$."
   ]
  },
  {
   "cell_type": "markdown",
   "metadata": {
    "slideshow": {
     "slide_type": "fragment"
    }
   },
   "source": [
    "The progress rate of reaction $j$ is denoted by $r_{j}$.  We'll have more to say about this in a moment."
   ]
  },
  {
   "cell_type": "markdown",
   "metadata": {
    "slideshow": {
     "slide_type": "fragment"
    }
   },
   "source": [
    "We note that the evolution of specie $i$ is determined by the ODE,\n",
    "$$\\frac{\\mathrm{d}x_{i}}{\\mathrm{d}t} = f_{i}\\left(\\mathrm{x}, T\\right), \\qquad i = 1, \\ldots, N.$$\n",
    "Once we have the reaction rates, and a good time-integrator, we're ready to go."
   ]
  },
  {
   "cell_type": "markdown",
   "metadata": {
    "slideshow": {
     "slide_type": "subslide"
    }
   },
   "source": [
    "### The reaction progress rate (forward rate)\n",
    "We used the principle of mass action to obtain the progress rate of each reaction."
   ]
  },
  {
   "cell_type": "markdown",
   "metadata": {
    "slideshow": {
     "slide_type": "fragment"
    }
   },
   "source": [
    "In essence, we assert that the progress rate of a reaction is proportional to the concentrations of the reactants."
   ]
  },
  {
   "cell_type": "markdown",
   "metadata": {
    "slideshow": {
     "slide_type": "fragment"
    }
   },
   "source": [
    "Thus,\n",
    "$$r_{j} = k_{j}^{\\left(f\\right)}\\prod_{i=1}^{N}{x_{i}^{\\nu_{ij}^{\\prime}}}, \\qquad j = 1,\\ldots, M$$\n",
    "where $k_{j}^{\\left(f\\right)}$ is the forward reaction rate coefficient."
   ]
  },
  {
   "cell_type": "markdown",
   "metadata": {
    "slideshow": {
     "slide_type": "subslide"
    }
   },
   "source": [
    "## Towards Reversible Reactions\n",
    "In reality, it is often the case that the products can react and produce the reactants.  This is called a reversible reaction.  It may have the form,\n",
    "$$\\sum_{i=1}^{N}{\\nu_{ij}^{\\prime}\\mathcal{S}_{i}}  \\rightleftharpoons \\sum_{i=1}^{N}{\\nu_{ij}^{\\prime\\prime}\\mathcal{S}_{i}} \\qquad j = 1, \\ldots, M$$\n",
    "where $\\rightleftharpoons$ indicts that the foward and backward reactions occur."
   ]
  },
  {
   "cell_type": "markdown",
   "metadata": {
    "slideshow": {
     "slide_type": "fragment"
    }
   },
   "source": [
    "The total progress rate is now given by\n",
    "$$r_{j} = k_{j}^{\\left(f\\right)}\\prod_{i=1}^{N}{x_{i}^{\\nu_{ij}^{\\prime}}} - k_{j}^{\\left(b\\right)}\\prod_{i=1}^{N}{x_{i}^{\\nu_{ij}^{\\prime\\prime}}}, \\qquad j = 1,\\ldots, M.$$"
   ]
  },
  {
   "cell_type": "markdown",
   "metadata": {
    "slideshow": {
     "slide_type": "fragment"
    }
   },
   "source": [
    "The only thing that changes in the mathematics is that we must specify the *backward* progress rate, and in partcular, the backward reaction rate coefficient $k_{j}^{\\left(b\\right)}$."
   ]
  },
  {
   "cell_type": "markdown",
   "metadata": {
    "slideshow": {
     "slide_type": "subslide"
    }
   },
   "source": [
    "### The Backward Reaction Rate Coefficient\n",
    "For an elementary reaction (and only elementary reactions), we have \n",
    "$$k_{j}^{\\left(b\\right)} = \\frac{k_{j}^{\\left(f\\right)}}{k_{j}^{e}}, \\qquad j =1, \\ldots, M$$\n",
    "where $k_{j}^{e}$ is the *equilibrium coefficient* for reaction $j$."
   ]
  },
  {
   "cell_type": "markdown",
   "metadata": {
    "slideshow": {
     "slide_type": "fragment"
    }
   },
   "source": [
    "How do we determine $k_{j}^{e}$?  We won't go into the details of the derivation, but it is related to the equilibrium thermochemistry of the elementary reactions.  If you want an overview, you can check out the wiki: [Equilbrium Constant](https://en.wikipedia.org/wiki/Equilibrium_constant)."
   ]
  },
  {
   "cell_type": "markdown",
   "metadata": {
    "slideshow": {
     "slide_type": "fragment"
    }
   },
   "source": [
    "The final expression for the equilibrium coefficient is\n",
    "$$k_{j}^{e} = \\left(\\frac{p_{0}}{RT}\\right)^{\\gamma_{j}}\\exp\\left(\\frac{\\Delta S_{j}}{R} - \\frac{\\Delta H_{j}}{RT}\\right), \\qquad j =1, \\ldots, M$$\n",
    "where $\\gamma_{j} = \\sum_{i=1}^{N}{\\nu_{ij}}$ and $p_{0}$ is the pressure of the reactor (take it to be $10^{5}$ Pa)."
   ]
  },
  {
   "cell_type": "markdown",
   "metadata": {
    "slideshow": {
     "slide_type": "fragment"
    }
   },
   "source": [
    "Now we need to say something about the thermodynamic quantities $\\Delta S_{j}$ and $\\Delta H_{j}$."
   ]
  },
  {
   "cell_type": "markdown",
   "metadata": {
    "slideshow": {
     "slide_type": "subslide"
    }
   },
   "source": [
    "### Some Thermodynamics\n",
    "We call $\\Delta S_{j}$ the entropy change of reaction $j$ and $\\Delta H_{j}$ the enthalpy change of reaction $j$."
   ]
  },
  {
   "cell_type": "markdown",
   "metadata": {
    "slideshow": {
     "slide_type": "fragment"
    }
   },
   "source": [
    "The entropy change and enthalpy change of reaction $j$ can be cast in terms of the entropy and enthalpy of the species participating in reaction $j$.  We have \n",
    "$$\\Delta S_{j} = \\sum_{i=1}^{N}{\\nu_{ij}S_{i}} \\quad \\textrm{and} \\quad \\Delta H_{j} = \\sum_{i=1}^{N}{\\nu_{ij}H_{i}}, , \\qquad j =1, \\ldots, M.$$"
   ]
  },
  {
   "cell_type": "markdown",
   "metadata": {
    "slideshow": {
     "slide_type": "fragment"
    }
   },
   "source": [
    "This is great, but we need to get expressions for the entropy and enthalpy of each specie."
   ]
  },
  {
   "cell_type": "markdown",
   "metadata": {
    "slideshow": {
     "slide_type": "fragment"
    }
   },
   "source": [
    "We do this with the help of the NASA polynomials and relationships between the specific heat, enthalpy and entropy."
   ]
  },
  {
   "cell_type": "markdown",
   "metadata": {
    "slideshow": {
     "slide_type": "subslide"
    }
   },
   "source": [
    "### A Little More Thermodynamics\n",
    "The specific heat at constant pressure ($C_{p,i}$), enthalpy ($H_{i}$) and entropy ($S_{i}$) are related via\n",
    "$$H_{i} = \\int_{T_{0}}^{T}{C_{p,i}\\left(T\\right) \\ \\mathrm{d}T}, \\qquad i = 1, \\ldots, N$$\n",
    "and \n",
    "$$S_{i} = \\int_{T_{0}}^{T}{\\frac{C_{p,i}\\left(T\\right)}{T} \\ \\mathrm{d}T}, \\qquad i = 1, \\ldots, N$$\n",
    "where $C_{p,i}$ is given by a polynomial in $T$ (called the NASA polynomial), \n",
    "$$C_{p,i} = \\left(\\sum_{k=1}^{5}{a_{ik}T^{k-1}}\\right)R, \\qquad i = 1, \\ldots, N.$$"
   ]
  },
  {
   "cell_type": "markdown",
   "metadata": {
    "slideshow": {
     "slide_type": "subslide"
    }
   },
   "source": [
    "### The NASA Polynomials\n",
    "The $7$th order NASA polynomials are given by \n",
    "$$\\frac{C_{p,i}}{R} = a_{i1} + a_{i2}T + a_{i3}T^{2} + a_{i4}T^{3} + a_{i5}T^{4}$$\n",
    "$$\\frac{H_{i}}{RT} = a_{i1} + \\frac{1}{2}a_{i2}T + \\frac{1}{3}a_{i3}T^{2} + \\frac{1}{4}a_{i4}T^{3} + \\frac{1}{5}a_{i5}T^{4} + \\frac{a_{i6}}{T}$$\n",
    "$$\\frac{S_{i}}{R} = a_{i1}\\ln\\left(T\\right) + a_{i2}T + \\frac{1}{2}a_{i3}T^{2} + \\frac{1}{3}a_{i4}T^{3} + \\frac{1}{4}a_{i5}T^{4} + a_{i7}$$\n",
    "for $i = 1,\\dots, N$."
   ]
  },
  {
   "cell_type": "markdown",
   "metadata": {
    "slideshow": {
     "slide_type": "fragment"
    }
   },
   "source": [
    "You can check this by a simple integration."
   ]
  },
  {
   "cell_type": "markdown",
   "metadata": {
    "slideshow": {
     "slide_type": "fragment"
    }
   },
   "source": [
    "The last thing to do is to specify the coeffients $a_{ik}$."
   ]
  },
  {
   "cell_type": "markdown",
   "metadata": {
    "slideshow": {
     "slide_type": "subslide"
    }
   },
   "source": [
    "### NASA Polynomial Coefficients\n",
    "The NASA polynomials are simply fits to data."
   ]
  },
  {
   "cell_type": "markdown",
   "metadata": {
    "slideshow": {
     "slide_type": "fragment"
    }
   },
   "source": [
    "They are given in databases for multiple temperature ranges."
   ]
  },
  {
   "cell_type": "markdown",
   "metadata": {
    "slideshow": {
     "slide_type": "fragment"
    }
   },
   "source": [
    "For example, the NASA polynomial coefficients for $H_{2}$ are given as ($T$ in Kelvin)\n",
    "\n",
    "| $k$   | Lower Range:  $300 < T < 1000$ | Upper Range:  $1000 \\leq T < 5000$ |\n",
    "| ---   | :---------------------------:  | :-------------------:              |\n",
    "| 1     | $3.33727920$                   | $2.34433112$                       |\n",
    "| 2     | $-4.94024731\\times 10^{-5}$    | $7.98052075\\times 10^{-3}$         |\n",
    "| 3     | $4.99456778\\times 10^{-7}$     | $-1.94781510\\times 10^{-5}$        |\n",
    "| 4     | $-1.79566394\\times 10^{-10}$   | $2.01572094\\times 10^{-8}$         |\n",
    "| 5     | $2.00255376E\\times 10^{-14}$   | $-7.37611761 \\times 10^{-12}$      |\n",
    "| 6     | $-9.50158922\\times 10^{2}$     | $-9.17935173\\times 10^{2}$         |\n",
    "| 7     | $-3.20502331$                  | $6.83010238\\times 10^{-1}$         | "
   ]
  },
  {
   "cell_type": "markdown",
   "metadata": {
    "slideshow": {
     "slide_type": "subslide"
    }
   },
   "source": [
    "### NASA Polynomials Database\n",
    "The NASA polynomials have been tabulated in various ugly formats (e.g. [GRI MECH 3.0](http://combustion.berkeley.edu/gri_mech/version30/files30/thermo30.dat) and [Prof. Burcat's  Thermodynamic Data ](http://garfield.chem.elte.hu/Burcat/THERM.DAT))."
   ]
  },
  {
   "cell_type": "markdown",
   "metadata": {
    "slideshow": {
     "slide_type": "fragment"
    }
   },
   "source": [
    "For your projects, you will read in the relevant NASA polynomial coefficients from a database and store them in a data structure based on which species the user specifies in the `.xml` input file."
   ]
  },
  {
   "cell_type": "markdown",
   "metadata": {
    "slideshow": {
     "slide_type": "fragment"
    }
   },
   "source": [
    "I will provide you with the thermochemistry methods to compute $k_{j}^{\\left(b\\right)}$.  You simply need to format them to your liking and drop them into your code in the appropriate place."
   ]
  },
  {
   "cell_type": "markdown",
   "metadata": {
    "slideshow": {
     "slide_type": "slide"
    }
   },
   "source": [
    "# Creating Packages from `Python` Code"
   ]
  },
  {
   "cell_type": "markdown",
   "metadata": {
    "slideshow": {
     "slide_type": "subslide"
    }
   },
   "source": [
    "## Module Recap\n",
    "* Import a module with the `import` statement\n",
    "  ```python\n",
    "     import mymod\n",
    "  ```"
   ]
  },
  {
   "cell_type": "markdown",
   "metadata": {
    "slideshow": {
     "slide_type": "fragment"
    }
   },
   "source": [
    "* Here's how `Python` searches for a module once it's imported:\n",
    "  1. The interpreter searches for a built-in module with that name.\n",
    "  2. If no built-in module exists with that name, then the interpreter searches for the name in the list of directories in the `sys.path` variable.\n",
    "  3. If the requested name can't be found, an `ImportError` exception is thrown."
   ]
  },
  {
   "cell_type": "markdown",
   "metadata": {
    "slideshow": {
     "slide_type": "subslide"
    }
   },
   "source": [
    "## The Many Ways to Import\n",
    "Suppose your module contains some methods called `myf1`, `myf2`, and so on.\n",
    "\n",
    "There are a variety of ways to import the module and its methods.  Here are a few along with their uses:\n",
    "\n",
    "```python\n",
    "import mymod as new_name # rename mymod\n",
    "new_name.myf1() # access myf1() method in mymod via new_name\n",
    "```"
   ]
  },
  {
   "cell_type": "markdown",
   "metadata": {
    "slideshow": {
     "slide_type": "fragment"
    }
   },
   "source": [
    "```python\n",
    "from mymod import myf1 # Just import myf1() from mymod\n",
    "myf1() # Direct use\n",
    "```"
   ]
  },
  {
   "cell_type": "markdown",
   "metadata": {
    "slideshow": {
     "slide_type": "fragment"
    }
   },
   "source": [
    "```python\n",
    "from mymod import myf1 as new_f # Import myf1 from mymod and rename\n",
    "new_f() # Direct use\n",
    "```"
   ]
  },
  {
   "cell_type": "markdown",
   "metadata": {
    "slideshow": {
     "slide_type": "fragment"
    }
   },
   "source": [
    "```python\n",
    "from mymod import * # Make all methods and objects in mymod directly accessible!\n",
    "myf2()              # (Except for objects with leading underscores)\n",
    "```"
   ]
  },
  {
   "cell_type": "markdown",
   "metadata": {
    "slideshow": {
     "slide_type": "subslide"
    }
   },
   "source": [
    "## Comments on Importing\n",
    "* Generally a very bad idea to do `from mymod import *`.  Can lead to name clashes!\n",
    "* `from mymod import myf1` is also dangerous if you're not careful."
   ]
  },
  {
   "cell_type": "markdown",
   "metadata": {
    "slideshow": {
     "slide_type": "fragment"
    }
   },
   "source": [
    "* Recommendation:  Just do `import mymod` or `import mymod as new_name` unless you have a very good reason for doing otherwise."
   ]
  },
  {
   "cell_type": "markdown",
   "metadata": {
    "slideshow": {
     "slide_type": "fragment"
    }
   },
   "source": [
    "Where to put the `import` statements?  A common convention is:\n",
    "\n",
    "* After the module's documentation.\n",
    "* First import standard library modules.\n",
    "* Then import their-party library modules.\n",
    "* Then import your own modules."
   ]
  },
  {
   "cell_type": "markdown",
   "metadata": {
    "slideshow": {
     "slide_type": "subslide"
    }
   },
   "source": [
    "## Modules and Packages\n",
    "* So far, you have created one module for your project."
   ]
  },
  {
   "cell_type": "markdown",
   "metadata": {
    "slideshow": {
     "slide_type": "fragment"
    }
   },
   "source": [
    "* For larger projects, you will have multiple modules."
   ]
  },
  {
   "cell_type": "markdown",
   "metadata": {
    "slideshow": {
     "slide_type": "fragment"
    }
   },
   "source": [
    "* A collection of multiple modules is called a package."
   ]
  },
  {
   "cell_type": "markdown",
   "metadata": {
    "slideshow": {
     "slide_type": "subslide"
    }
   },
   "source": [
    "### Why multiple modules?\n",
    "Having multiple modules helps with code organization.\n",
    "```\n",
    "physics_code/\n",
    "             __init__.py  \n",
    "             preprocessing/\n",
    "                           __init__.py\n",
    "                           parse_xml_inputs.py\n",
    "                           parse_txt_inputs.py\n",
    "                           ...\n",
    "             solvers/\n",
    "                     __init__.py\n",
    "                     time_integrators.py\n",
    "                     discretization.py\n",
    "                     linear_solvers.py\n",
    "                     ...\n",
    "             postprocessing/\n",
    "                            __init__.py\n",
    "                            write_hdf5.py\n",
    "                            write_txt.py\n",
    "                            ...\n",
    "                            stat_utils/\n",
    "                                       __init__.py\n",
    "                                       ...\n",
    "                            viz/\n",
    "                                __init__.py\n",
    "                                line_plots.py\n",
    "                                ...\n",
    "             tests/\n",
    "                   ...\n",
    "```"
   ]
  },
  {
   "cell_type": "markdown",
   "metadata": {
    "slideshow": {
     "slide_type": "subslide"
    }
   },
   "source": [
    "## What is `__init__.py`?"
   ]
  },
  {
   "cell_type": "markdown",
   "metadata": {
    "slideshow": {
     "slide_type": "fragment"
    }
   },
   "source": [
    "* Used for package initialization-time actions."
   ]
  },
  {
   "cell_type": "markdown",
   "metadata": {
    "slideshow": {
     "slide_type": "fragment"
    }
   },
   "source": [
    "* Generates a module namespace for a directory."
   ]
  },
  {
   "cell_type": "markdown",
   "metadata": {
    "slideshow": {
     "slide_type": "fragment"
    }
   },
   "source": [
    "* Implements the `from *` behavior.\n",
    "  - This is done using `__all__` lists.\n",
    "  - e.g. include the line `__all__ = [\"mod1\", \"mod2\", ..., \"modN\"]`"
   ]
  },
  {
   "cell_type": "markdown",
   "metadata": {
    "slideshow": {
     "slide_type": "subslide"
    }
   },
   "source": [
    "### More Practical Comments on `__init__.py`\n",
    "* Usually completely empty"
   ]
  },
  {
   "cell_type": "markdown",
   "metadata": {
    "slideshow": {
     "slide_type": "fragment"
    }
   },
   "source": [
    "* They help prevent diretories with common names from hiding true modules"
   ]
  },
  {
   "cell_type": "markdown",
   "metadata": {
    "slideshow": {
     "slide_type": "fragment"
    }
   },
   "source": [
    "* The first time `Python` imports through a directory, it runs the code in `__init__.py`."
   ]
  },
  {
   "cell_type": "markdown",
   "metadata": {
    "slideshow": {
     "slide_type": "subslide"
    }
   },
   "source": [
    "## Working With Packages\n",
    "* Once you have your directory structure set up (with the `__init_.py` files), you are ready to use the package."
   ]
  },
  {
   "cell_type": "markdown",
   "metadata": {
    "slideshow": {
     "slide_type": "fragment"
    }
   },
   "source": [
    "* Suppose your directory structure is:\n",
    "```\n",
    "dir\\\n",
    "     driver.py\n",
    "     package\\\n",
    "             __init__.py\n",
    "             subdir1\\\n",
    "                     __init__.py\n",
    "                     s1mod1.py\n",
    "                     s1mod2.py\n",
    "             subdir2\\\n",
    "                     __init__.py\n",
    "                     s2mod1.py\n",
    "                     s2mod2.py\n",
    "```\n",
    "* Now, `driver.py` can make use of the package by simple imports."
   ]
  },
  {
   "cell_type": "markdown",
   "metadata": {
    "slideshow": {
     "slide_type": "fragment"
    }
   },
   "source": [
    "```python\n",
    "# driver.py\n",
    "import package.subdir1.s1mod1.py as s1mod1\n",
    "s1mod1.method()\n",
    "...\n",
    "```"
   ]
  },
  {
   "cell_type": "markdown",
   "metadata": {
    "slideshow": {
     "slide_type": "subslide"
    }
   },
   "source": [
    "### Doctests in Modules\n",
    "We have discussed testing extensively.  Your module (call it `mymod`) will likely have a docstring with some doctests like so:\n",
    "```python\n",
    "\"\"\"A module that provides some physics capabilities\n",
    "INPUTS:\n",
    "OUTPUTS:\n",
    "INVARIANTS:\n",
    "EXAMPLES:\n",
    ">>> method(12)\n",
    "7\n",
    ">>> other_method(True)\n",
    "37\n",
    "\"\"\"\n",
    "```"
   ]
  },
  {
   "cell_type": "markdown",
   "metadata": {
    "slideshow": {
     "slide_type": "fragment"
    }
   },
   "source": [
    "* It would be a good idea to have a way of running the doctests from the module.  \n",
    "* This can be accomplished by adding the following three lines at the end of the module:\n",
    "```python\n",
    "if __name__ == \"__main__\":\n",
    "    import doctest\n",
    "    doctest.testmod()\n",
    "```\n",
    "* Running `python mymod.py -v` from the command line will run the doctests and give verbose output."
   ]
  },
  {
   "cell_type": "markdown",
   "metadata": {
    "slideshow": {
     "slide_type": "subslide"
    }
   },
   "source": [
    "### Notes on `__name__`\n",
    "* The variable `__name__` is created whenever a `.py` file is run and is set to the string `\"__main__\"`.\n",
    "* However, when a module is imported, `__name__` is set to the module's name.\n",
    "* Hence, if the module is not being run as a `Python` script, the `if` statement will not be executed."
   ]
  },
  {
   "cell_type": "markdown",
   "metadata": {
    "slideshow": {
     "slide_type": "subslide"
    }
   },
   "source": [
    "### Additional Information\n",
    "As with most things `Python`, you can simply consult the excellent documentation:  [`Python` Modules](https://docs.python.org/3/tutorial/modules.html).\n",
    "* Absolute vs. Relative imports\n",
    "* Compiled `Python` files"
   ]
  },
  {
   "cell_type": "markdown",
   "metadata": {
    "slideshow": {
     "slide_type": "subslide"
    }
   },
   "source": [
    "## Illustrative Example\n",
    "Consider the following directory structure:\n",
    "```\n",
    "dir1\\\n",
    "     __init__.py\n",
    "     dir2/\n",
    "          __init__.py\n",
    "          mymod.py\n",
    "```"
   ]
  },
  {
   "cell_type": "markdown",
   "metadata": {
    "slideshow": {
     "slide_type": "fragment"
    }
   },
   "source": [
    "Here is what is in each file:\n",
    "\n",
    "```python\n",
    "# dir1/__init__.py\n",
    "print(\"Initializing dir1/\")\n",
    "```\n",
    "\n",
    "```python\n",
    "# dir2/__init__.py\n",
    "print(\"Initializing dir2/\")\n",
    "```\n",
    "\n",
    "```python\n",
    "# dir2/mod.py\n",
    "my_name = \"David\"\n",
    "```"
   ]
  },
  {
   "cell_type": "markdown",
   "metadata": {
    "slideshow": {
     "slide_type": "subslide"
    }
   },
   "source": [
    "### Outputs\n",
    "* If I work from the command line in the container of `dir1`, I can see various things happen.\n",
    "\n",
    "```\n",
    ">>> import dir1.dir2.mod\n",
    "Initializing dir1/\n",
    "Initializing dir2/\n",
    ">>> dir1.dir2.mod.name\n",
    "'David'\n",
    ">>> import dir1.dir2.mod as mod\n",
    ">>> mod.name\n",
    "'David'\n",
    "```"
   ]
  },
  {
   "cell_type": "markdown",
   "metadata": {
    "slideshow": {
     "slide_type": "subslide"
    }
   },
   "source": [
    "## Creating and Distributing Packages (finally!)\n",
    "At this point, you know how to create packages in `Python` and the basics of how things fit together."
   ]
  },
  {
   "cell_type": "markdown",
   "metadata": {
    "slideshow": {
     "slide_type": "fragment"
    }
   },
   "source": [
    "Ultimately, you want to be able to distribute your package to other people."
   ]
  },
  {
   "cell_type": "markdown",
   "metadata": {
    "slideshow": {
     "slide_type": "fragment"
    }
   },
   "source": [
    "There are a number of ways to do this:\n",
    "* [PyScaffold](https://pyscaffold.readthedocs.io/en/v2.5.8/index.html)\n",
    "  - It sets up the entire infrastructure for you.\n",
    "  - That's great, but you might not understand all the details.\n",
    "* [Packaging and Distributing Projects](https://packaging.python.org/tutorials/distributing-packages/)\n",
    "  - Fantastic documentation covering the meaning of everything.\n",
    "* [How To Package Your Python Code](http://python-packaging.readthedocs.io/en/latest/index.html)\n",
    "  - Excellent tutorial on packaging.\n",
    "* [Tensor Basis Neural Network](https://github.com/tbnn/tbnn)\n",
    "  - Real world example.\n",
    "* [How to package a python application to make it pip-installable](https://marthall.github.io/blog/how-to-package-a-python-app/)\n",
    "  - Bare-bones example.\n",
    "* [Submitting a Python package with GitHub and PyPI](http://sherifsoliman.com/2016/09/30/Python-package-with-GitHub-PyPI/)\n",
    "  - Contains some extra details."
   ]
  },
  {
   "cell_type": "markdown",
   "metadata": {
    "slideshow": {
     "slide_type": "subslide"
    }
   },
   "source": [
    "### There Are So Many Options!\n",
    "* As you can see, you have many options on how to set up and distribute your package."
   ]
  },
  {
   "cell_type": "markdown",
   "metadata": {
    "slideshow": {
     "slide_type": "fragment"
    }
   },
   "source": [
    "* I will give you broad freedom in how you do this, but your project *must* be easily installable."
   ]
  },
  {
   "cell_type": "markdown",
   "metadata": {
    "slideshow": {
     "slide_type": "fragment"
    }
   },
   "source": [
    "#### What does \"easiliy installable\" mean?\n",
    "* Using `pip` is great!  This would be the easiest for the user.\n",
    "* You are also welcome to host your project on `GitHub` and have the user manually install and test with `setup.py`.\n",
    "* Either way, your package should be installable *and* the user should be able to run the tests."
   ]
  }
 ],
 "metadata": {
  "celltoolbar": "Slideshow",
  "kernelspec": {
   "display_name": "Python 3",
   "language": "python",
   "name": "python3"
  },
  "language_info": {
   "codemirror_mode": {
    "name": "ipython",
    "version": 3
   },
   "file_extension": ".py",
   "mimetype": "text/x-python",
   "name": "python",
   "nbconvert_exporter": "python",
   "pygments_lexer": "ipython3",
   "version": "3.6.1"
  }
 },
 "nbformat": 4,
 "nbformat_minor": 2
}
