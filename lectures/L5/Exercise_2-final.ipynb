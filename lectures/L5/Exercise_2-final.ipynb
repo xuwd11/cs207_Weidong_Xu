{
 "cells": [
  {
   "cell_type": "markdown",
   "metadata": {},
   "source": [
    "# Exercise 2\n",
    "Write a function to compute the roots of a mathematical equation of the form\n",
    "\\begin{align}\n",
    "  ax^{2} + bx + c = 0.\n",
    "\\end{align}\n",
    "Your function should be sensitive enough to adapt to situations in which a user might accidentally set $a=0$, or $b=0$, or even $a=b=0$.  For example, if $a=0, b\\neq 0$, your function should print a warning and compute the roots of the resulting linear function.  It is up to you on how to handle the function header: feel free to use default keyword arguments, variable positional arguments, variable keyword arguments, or something else as you see fit.  Try to make it user friendly.\n",
    "\n",
    "Your function should return a tuple containing the roots of the provided equation.\n",
    "\n",
    "**Hint:** Quadratic equations can have complex roots of the form $r = a + ib$ where $i=\\sqrt{-1}$ (Python uses the notation $j=\\sqrt{-1}$).  To deal with complex roots, you should import the `cmath` library and use `cmath.sqrt` when computing square roots.  `cmath` will return a complex number for you.  You could handle complex roots yourself if you want, but you might as well use available libraries to save some work."
   ]
  },
  {
   "cell_type": "code",
   "execution_count": 1,
   "metadata": {
    "collapsed": true
   },
   "outputs": [],
   "source": [
    "import numpy as np\n",
    "import cmath"
   ]
  },
  {
   "cell_type": "code",
   "execution_count": 2,
   "metadata": {
    "collapsed": true
   },
   "outputs": [],
   "source": [
    "def find_roots(a, b, c):\n",
    "    if 0 == a:\n",
    "        if 0 == b:\n",
    "            print('Warning: wrong input! a and b cannot be zero simultaneously!')\n",
    "            if 0 == c:\n",
    "                print('All x')\n",
    "            return None\n",
    "        else:\n",
    "            print('Warning: a = 0; it is a linear function!')\n",
    "            return [-c/b]\n",
    "    else:\n",
    "        return [(-b+cmath.sqrt(b*b-4*a*c))/(2*a), (-b-cmath.sqrt(b*b-4*a*c))/(2*a)]        "
   ]
  },
  {
   "cell_type": "code",
   "execution_count": 3,
   "metadata": {},
   "outputs": [
    {
     "name": "stdout",
     "output_type": "stream",
     "text": [
      "The root(s) is (are) (-0.5+0.8660254037844386j), (-0.5-0.8660254037844386j).\n"
     ]
    }
   ],
   "source": [
    "# Test 1\n",
    "roots = find_roots(1, 1, 1)\n",
    "if roots:\n",
    "    print('The root(s) is (are) %s.' %', '.join([str(root) for root in roots]))"
   ]
  },
  {
   "cell_type": "code",
   "execution_count": 4,
   "metadata": {},
   "outputs": [
    {
     "name": "stdout",
     "output_type": "stream",
     "text": [
      "The root(s) is (are) (-1+0j), (-1+0j).\n"
     ]
    }
   ],
   "source": [
    "# Test 2\n",
    "roots = find_roots(1, 2, 1)\n",
    "if roots:\n",
    "    print('The root(s) is (are) %s.' %', '.join([str(root) for root in roots]))"
   ]
  },
  {
   "cell_type": "code",
   "execution_count": 5,
   "metadata": {},
   "outputs": [
    {
     "name": "stdout",
     "output_type": "stream",
     "text": [
      "The root(s) is (are) (-1+0j), (-1+0j).\n"
     ]
    }
   ],
   "source": [
    "# Test 3\n",
    "roots = find_roots(1, 2, 1)\n",
    "if roots:\n",
    "    print('The root(s) is (are) %s.' %', '.join([str(root) for root in roots]))"
   ]
  },
  {
   "cell_type": "code",
   "execution_count": 6,
   "metadata": {},
   "outputs": [
    {
     "name": "stdout",
     "output_type": "stream",
     "text": [
      "Warning: wrong input! a and b cannot be zero simultaneously!\n",
      "All x\n"
     ]
    }
   ],
   "source": [
    "# Test 4\n",
    "roots = find_roots(0, 0, 0)\n",
    "if roots:\n",
    "    print('The root(s) is (are) %s.' %', '.join([str(root) for root in roots]))"
   ]
  },
  {
   "cell_type": "code",
   "execution_count": 7,
   "metadata": {},
   "outputs": [
    {
     "name": "stdout",
     "output_type": "stream",
     "text": [
      "Warning: a = 0; it is a linear function!\n",
      "The root(s) is (are) -1.0.\n"
     ]
    }
   ],
   "source": [
    "# Test 5\n",
    "roots = find_roots(0, 1, 1)\n",
    "if roots:\n",
    "    print('The root(s) is (are) %s.' %', '.join([str(root) for root in roots]))"
   ]
  },
  {
   "cell_type": "code",
   "execution_count": 8,
   "metadata": {},
   "outputs": [
    {
     "name": "stdout",
     "output_type": "stream",
     "text": [
      "Warning: wrong input! a and b cannot be zero simultaneously!\n"
     ]
    }
   ],
   "source": [
    "# Test 6\n",
    "roots = find_roots(0, 0, 1)\n",
    "if roots:\n",
    "    print('The root(s) is (are) %s.' %', '.join([str(root) for root in roots]))"
   ]
  }
 ],
 "metadata": {
  "kernelspec": {
   "display_name": "Python [default]",
   "language": "python",
   "name": "python3"
  },
  "language_info": {
   "codemirror_mode": {
    "name": "ipython",
    "version": 3
   },
   "file_extension": ".py",
   "mimetype": "text/x-python",
   "name": "python",
   "nbconvert_exporter": "python",
   "pygments_lexer": "ipython3",
   "version": "3.5.3"
  }
 },
 "nbformat": 4,
 "nbformat_minor": 2
}
