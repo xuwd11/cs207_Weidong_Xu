{
 "cells": [
  {
   "cell_type": "markdown",
   "metadata": {},
   "source": [
    "# Exercise 1\n",
    "This exercise requires you to plot a few functions in Python.\n",
    "1. Plot any three functions of your choosing of the form $y=f(x)$.  $x$ should be an array of equally spaced numbers generated using the `numpy` linspace command (see [`numpy.linspace()`](https://docs.scipy.org/doc/numpy/reference/generated/numpy.linspace.html)).  Be sure to include a legend and label the $x$ and $y$ axes.\n",
    "2. Use `numpy` to draw $N$ samples (you choose $N$) from a probability distribution of your choosing.  See [Random sampling](https://docs.scipy.org/doc/numpy-1.13.0/reference/routines.random.html) for a bunch of `numpy` functions that draw random samples for you.  See [Statistical functions](https://docs.scipy.org/doc/scipy/reference/stats.html) for an alternative to `numpy`.  Plot a histogram of the data you generated."
   ]
  }
 ],
 "metadata": {
  "kernelspec": {
   "display_name": "Python 3",
   "language": "python",
   "name": "python3"
  },
  "language_info": {
   "codemirror_mode": {
    "name": "ipython",
    "version": 3
   },
   "file_extension": ".py",
   "mimetype": "text/x-python",
   "name": "python",
   "nbconvert_exporter": "python",
   "pygments_lexer": "ipython3",
   "version": "3.6.1"
  }
 },
 "nbformat": 4,
 "nbformat_minor": 2
}
