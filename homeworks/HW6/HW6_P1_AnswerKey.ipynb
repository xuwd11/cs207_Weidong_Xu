{
 "cells": [
  {
   "cell_type": "markdown",
   "metadata": {
    "collapsed": true
   },
   "source": [
    "# Problem 1: Bank Account Revisited\n",
    "\n",
    "We are going to rewrite the bank account closure problem we had a few assignments ago, only this time developing a formal class for a Bank User and Bank Account to use in our closure (recall previously we just had a nonlocal variable amount that we changed). \n",
    "\n",
    "First we are going to define two types of bank accounts, run the code below:"
   ]
  },
  {
   "cell_type": "code",
   "execution_count": 3,
   "metadata": {
    "collapsed": true
   },
   "outputs": [],
   "source": [
    "from enum import Enum\n",
    "class AccountType(Enum):\n",
    "    SAVINGS = 1\n",
    "    CHECKING = 2"
   ]
  },
  {
   "cell_type": "markdown",
   "metadata": {},
   "source": [
    "An Enum stands for an enumeration, it's a convenient way for you to define lists of things. Typing:"
   ]
  },
  {
   "cell_type": "code",
   "execution_count": 4,
   "metadata": {},
   "outputs": [
    {
     "data": {
      "text/plain": [
       "<AccountType.SAVINGS: 1>"
      ]
     },
     "execution_count": 4,
     "metadata": {},
     "output_type": "execute_result"
    }
   ],
   "source": [
    "AccountType.SAVINGS"
   ]
  },
  {
   "cell_type": "markdown",
   "metadata": {},
   "source": [
    "returns a Python representation of an enumeration. You can compare these account types:"
   ]
  },
  {
   "cell_type": "code",
   "execution_count": 5,
   "metadata": {},
   "outputs": [
    {
     "data": {
      "text/plain": [
       "True"
      ]
     },
     "execution_count": 5,
     "metadata": {},
     "output_type": "execute_result"
    }
   ],
   "source": [
    "AccountType.SAVINGS == AccountType.SAVINGS"
   ]
  },
  {
   "cell_type": "code",
   "execution_count": 4,
   "metadata": {},
   "outputs": [
    {
     "data": {
      "text/plain": [
       "False"
      ]
     },
     "execution_count": 4,
     "metadata": {},
     "output_type": "execute_result"
    }
   ],
   "source": [
    "AccountType.SAVINGS == AccountType.CHECKING"
   ]
  },
  {
   "cell_type": "markdown",
   "metadata": {},
   "source": [
    "To get a string representation of an Enum, you can use:"
   ]
  },
  {
   "cell_type": "code",
   "execution_count": 6,
   "metadata": {},
   "outputs": [
    {
     "data": {
      "text/plain": [
       "'SAVINGS'"
      ]
     },
     "execution_count": 6,
     "metadata": {},
     "output_type": "execute_result"
    }
   ],
   "source": [
    "AccountType.SAVINGS.name"
   ]
  },
  {
   "cell_type": "markdown",
   "metadata": {},
   "source": [
    "### Create a BankAccount class with the following specification:\n",
    "\n",
    "\n",
    "Constructor is BankAccount(self, owner, accountType) where owner is a string representing the name of the account owner and accountType is one of the AccountType enums\n",
    "\n",
    "Methods withdraw(self, amount) and deposit(self, amount) to modify the account balance of the account\n",
    "\n",
    "Override methods \\_\\_str\\_\\_ to write an informative string of the account owner and the type of account, and \\_\\_len\\_\\_ to return the balance of the account"
   ]
  },
  {
   "cell_type": "code",
   "execution_count": 6,
   "metadata": {
    "collapsed": true
   },
   "outputs": [],
   "source": [
    "class BankAccount:\n",
    "    def __init__(self, owner, accountType):\n",
    "        self.owner = owner\n",
    "        self.accountType = accountType\n",
    "        self.balance = 0\n",
    "        \n",
    "    def withdraw(self, amount):\n",
    "        if self.balance >= amount and amount >= 0:\n",
    "            self.balance -= amount\n",
    "            return True\n",
    "        else:\n",
    "            return False\n",
    "        \n",
    "    def deposit(self, amount):\n",
    "        if amount >= 0:\n",
    "            self.balance += amount\n",
    "            return True\n",
    "        else:\n",
    "            return False\n",
    "        \n",
    "    def __str__(self):\n",
    "        return self.owner + \"'s \" + self.accountType.name + \" Account\"\n",
    "    \n",
    "    def __len__(self):\n",
    "        return self.balance"
   ]
  },
  {
   "cell_type": "markdown",
   "metadata": {},
   "source": [
    "Write some simple tests to make sure the BankAccount is working as expected."
   ]
  },
  {
   "cell_type": "markdown",
   "metadata": {},
   "source": [
    "### Next, write a class BankUser with the following specification:\n",
    "\n",
    "Constructor BankUser(self, owner) where owner is the name of the account.\n",
    "\n",
    "Method addAccount(self, accountType) - to start, a user will have no accounts when the BankUser object is created. addAccount will add a new account to the user of the accountType specified. **Only one savings/checking account per user, return appropriate error otherwise**\n",
    "\n",
    "Methods getBalance(self, accountType), deposit(self, accountType, amount), and withdraw(self, accountType, amount) for a specific AccountType.\n",
    "\n",
    "Override \\_\\_str\\_\\_ to have an informative summary of user's accounts"
   ]
  },
  {
   "cell_type": "code",
   "execution_count": 3,
   "metadata": {
    "collapsed": true
   },
   "outputs": [],
   "source": [
    "class BankUser:\n",
    "    def __init__(self, owner):\n",
    "        self.owner = owner\n",
    "        self.accounts = {}\n",
    "        \n",
    "    def addAccount(self, accountType):\n",
    "        if accountType.name in self.accounts:\n",
    "            return False\n",
    "        else:\n",
    "            self.accounts[accountType.name] = BankAccount(self.owner, accountType)\n",
    "            return True\n",
    "        \n",
    "    def getBalance(self, accountType):\n",
    "        return len(self.accounts[accountType.name]) if accountType.name in self.accounts else -1\n",
    "        \n",
    "    def deposit(self, accountType, amount):\n",
    "        if accountType.name in self.accounts:\n",
    "            return self.accounts[accountType.name].deposit(amount)\n",
    "        else:\n",
    "            return False\n",
    "        \n",
    "    def withdraw(self, accountType, amount):\n",
    "        if accountType.name in self.accounts:\n",
    "            return self.accounts[accountType.name].withdraw(amount)\n",
    "        else:\n",
    "            return False\n",
    "        \n",
    "    def __str__(self):\n",
    "        s = self.owner + \"'s Accounts:\\n\"\n",
    "        for t, a in self.accounts.items():\n",
    "            s += t + \": \" + str(len(a)) + \"\\n\"\n",
    "        return s"
   ]
  },
  {
   "cell_type": "markdown",
   "metadata": {},
   "source": [
    "Write some simple tests to make sure this is working. Think of edge scenarios a user might try to do."
   ]
  },
  {
   "cell_type": "code",
   "execution_count": 4,
   "metadata": {},
   "outputs": [
    {
     "name": "stdout",
     "output_type": "stream",
     "text": [
      "False\n",
      "True\n",
      "True\n"
     ]
    }
   ],
   "source": [
    "b = BankUser(\"Charles Liu\")\n",
    "print(b.deposit(AccountType.SAVINGS, 100))\n",
    "print(b.addAccount(AccountType.SAVINGS))\n",
    "print(b.deposit(AccountType.SAVINGS, 50))"
   ]
  },
  {
   "cell_type": "code",
   "execution_count": 5,
   "metadata": {},
   "outputs": [
    {
     "name": "stdout",
     "output_type": "stream",
     "text": [
      "Charles Liu's Accounts:\n",
      "SAVINGS: 50\n",
      "\n"
     ]
    }
   ],
   "source": [
    "print(str(b))"
   ]
  },
  {
   "cell_type": "markdown",
   "metadata": {},
   "source": [
    "### ATM Closure\n",
    "\n",
    "Finally, we are going to rewrite a closure to use our bank account. We will make use of the [input function](http://anh.cs.luc.edu/python/hands-on/3.1/handsonHtml/io.html) which takes user input to decide what actions to take.\n",
    "\n",
    "Write a closure called ATMSession(bankUser) which takes in a BankUser object. Return a method called Interface that when called, would provide the following interface:\n",
    "\n",
    "First screen for user will look like:\n",
    "\n",
    "\n",
    "**Enter Option:**\n",
    "\n",
    "**1)Exit**\n",
    "\n",
    "**2)Create Account**\n",
    "\n",
    "**3)Check Balance**\n",
    "\n",
    "**4)Deposit**\n",
    "\n",
    "**5)Withdraw**\n",
    "\n",
    "\n",
    "Pressing 1 will exit, any other option will show the options:\n",
    "\n",
    "\n",
    "\n",
    "**Enter Option:**\n",
    "\n",
    "**1)Checking**\n",
    "\n",
    "**2)Savings**\n",
    "\n",
    "\n",
    "If a deposit or withdraw was chosen, then there must be a third screen:\n",
    "\n",
    "\n",
    "\n",
    "**Enter Integer Amount, Cannot Be Negative:**\n",
    "\n",
    "This is to keep the code relatively simple, if you'd like you can also curate the options depending on the BankUser object (for example, if user has no accounts then only show the Create Account option), but this is up to you. In any case, you must handle any input from the user in a reasonable way that an actual bank would be okay with, and give the user a proper response to the action specified"
   ]
  },
  {
   "cell_type": "code",
   "execution_count": 6,
   "metadata": {
    "collapsed": true
   },
   "outputs": [],
   "source": [
    "def ATMSession(bankUser):\n",
    "    def Interface():\n",
    "        option = 0\n",
    "        while option != 1:\n",
    "            try:\n",
    "                option = int(input('Enter Option:\\n1)Exit\\n2)Create Account\\n3)Check Balance\\n4)Deposit\\n5)WithDraw\\n\\n'))\n",
    "                if option > 1:\n",
    "                    accountOption = 0\n",
    "                    while accountOption != 1 and accountOption != 2:\n",
    "                        accountOption = int(input('Select Account Type:\\n1) Checking\\n2) Savings\\n'))\n",
    "                        if accountOption != 1 and accountOption != 2:\n",
    "                            print('Invalid Account Specified\\n')\n",
    "                    accountType = AccountType.SAVINGS if accountOption == 2 else AccountType.CHECKING\n",
    "                    if option == 2:\n",
    "                        if bankUser.addAccount(accountType):\n",
    "                            print('Account Created\\n')\n",
    "                        else:\n",
    "                            print('Account Already Exists\\n')\n",
    "                    elif option == 3:\n",
    "                        balance = bankUser.getBalance(accountType)\n",
    "                        if balance < 0:\n",
    "                            print('Account Not Found\\n')\n",
    "                        else:\n",
    "                            print('Balance:{}'.format(balance))\n",
    "                    else:\n",
    "                        amount = -1\n",
    "                        while amount < 0:\n",
    "                            amount = int(input('Enter integer amount, cannot be negative\\n'))\n",
    "                            if amount < 0:\n",
    "                                print('Invalid Amount Entered\\n')\n",
    "                        bankFunc = bankUser.deposit if option == 4 else bankUser.withdraw\n",
    "                        if bankFunc(accountType, amount):\n",
    "                            print('Transaction was successful\\n')\n",
    "                        else:\n",
    "                            balance = bankUser.getBalance(accountType)\n",
    "                            if balance >= 0:\n",
    "                                print('Insufficient Funds\\n')\n",
    "                            else:\n",
    "                                print('No Account Found\\n')\n",
    "                            \n",
    "                print(str(bankUser))\n",
    "            except ValueError:\n",
    "                print('Invalid Entry')\n",
    "                option=1\n",
    "    return Interface    "
   ]
  },
  {
   "cell_type": "code",
   "execution_count": 7,
   "metadata": {
    "collapsed": true
   },
   "outputs": [],
   "source": [
    "interface = ATMSession(b)"
   ]
  },
  {
   "cell_type": "code",
   "execution_count": 8,
   "metadata": {
    "scrolled": false
   },
   "outputs": [
    {
     "name": "stdout",
     "output_type": "stream",
     "text": [
      "Enter Option:\n",
      "1)Exit\n",
      "2)Create Account\n",
      "3)Check Balance\n",
      "4)Deposit\n",
      "5)WithDraw\n",
      "\n",
      "3\n",
      "Select Account Type:\n",
      "1) Checking\n",
      "2) Savings\n",
      "1\n",
      "Account Not Found\n",
      "\n",
      "Charles Liu's Accounts:\n",
      "SAVINGS: 50\n",
      "\n",
      "Enter Option:\n",
      "1)Exit\n",
      "2)Create Account\n",
      "3)Check Balance\n",
      "4)Deposit\n",
      "5)WithDraw\n",
      "\n",
      "3\n",
      "Select Account Type:\n",
      "1) Checking\n",
      "2) Savings\n",
      "2\n",
      "Balance:50\n",
      "Charles Liu's Accounts:\n",
      "SAVINGS: 50\n",
      "\n",
      "Enter Option:\n",
      "1)Exit\n",
      "2)Create Account\n",
      "3)Check Balance\n",
      "4)Deposit\n",
      "5)WithDraw\n",
      "\n",
      "4\n",
      "Select Account Type:\n",
      "1) Checking\n",
      "2) Savings\n",
      "1\n",
      "Enter integer amount, cannot be negative\n",
      "1000\n",
      "No Account Found\n",
      "\n",
      "Charles Liu's Accounts:\n",
      "SAVINGS: 50\n",
      "\n",
      "Enter Option:\n",
      "1)Exit\n",
      "2)Create Account\n",
      "3)Check Balance\n",
      "4)Deposit\n",
      "5)WithDraw\n",
      "\n",
      "4\n",
      "Select Account Type:\n",
      "1) Checking\n",
      "2) Savings\n",
      "2\n",
      "Enter integer amount, cannot be negative\n",
      "1000\n",
      "Transaction was successful\n",
      "\n",
      "Charles Liu's Accounts:\n",
      "SAVINGS: 1050\n",
      "\n",
      "Enter Option:\n",
      "1)Exit\n",
      "2)Create Account\n",
      "3)Check Balance\n",
      "4)Deposit\n",
      "5)WithDraw\n",
      "\n",
      "5\n",
      "Select Account Type:\n",
      "1) Checking\n",
      "2) Savings\n",
      "2\n",
      "Enter integer amount, cannot be negative\n",
      "10000\n",
      "Insufficient Funds\n",
      "\n",
      "Charles Liu's Accounts:\n",
      "SAVINGS: 1050\n",
      "\n",
      "Enter Option:\n",
      "1)Exit\n",
      "2)Create Account\n",
      "3)Check Balance\n",
      "4)Deposit\n",
      "5)WithDraw\n",
      "\n",
      "2\n",
      "Select Account Type:\n",
      "1) Checking\n",
      "2) Savings\n",
      "1\n",
      "Account Created\n",
      "\n",
      "Charles Liu's Accounts:\n",
      "CHECKING: 0\n",
      "SAVINGS: 1050\n",
      "\n",
      "Enter Option:\n",
      "1)Exit\n",
      "2)Create Account\n",
      "3)Check Balance\n",
      "4)Deposit\n",
      "5)WithDraw\n",
      "\n",
      "4\n",
      "Select Account Type:\n",
      "1) Checking\n",
      "2) Savings\n",
      "1\n",
      "Enter integer amount, cannot be negative\n",
      "1000\n",
      "Transaction was successful\n",
      "\n",
      "Charles Liu's Accounts:\n",
      "CHECKING: 1000\n",
      "SAVINGS: 1050\n",
      "\n",
      "Enter Option:\n",
      "1)Exit\n",
      "2)Create Account\n",
      "3)Check Balance\n",
      "4)Deposit\n",
      "5)WithDraw\n",
      "\n",
      "1\n",
      "Charles Liu's Accounts:\n",
      "CHECKING: 1000\n",
      "SAVINGS: 1050\n",
      "\n"
     ]
    }
   ],
   "source": [
    "interface()"
   ]
  }
 ],
 "metadata": {
  "kernelspec": {
   "display_name": "Python 3",
   "language": "python",
   "name": "python3"
  },
  "language_info": {
   "codemirror_mode": {
    "name": "ipython",
    "version": 3
   },
   "file_extension": ".py",
   "mimetype": "text/x-python",
   "name": "python",
   "nbconvert_exporter": "python",
   "pygments_lexer": "ipython3",
   "version": "3.6.1"
  }
 },
 "nbformat": 4,
 "nbformat_minor": 2
}
