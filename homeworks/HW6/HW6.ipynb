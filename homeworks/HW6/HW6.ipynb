{
 "cells": [
  {
   "cell_type": "markdown",
   "metadata": {},
   "source": [
    "# Homework 6\n",
    "## Due:  Tuesday, October 10 at 11:59 PM"
   ]
  },
  {
   "cell_type": "markdown",
   "metadata": {},
   "source": [
    "# Problem 1: Bank Account Revisited\n",
    "\n",
    "We are going to rewrite the bank account closure problem we had a few assignments ago, only this time developing a formal class for a Bank User and Bank Account to use in our closure (recall previously we just had a nonlocal variable amount that we changed). "
   ]
  },
  {
   "cell_type": "markdown",
   "metadata": {},
   "source": [
    "### Some Preliminaries:\n",
    "First we are going to define two types of bank accounts.  Use the code below to do this:"
   ]
  },
  {
   "cell_type": "code",
   "execution_count": 1,
   "metadata": {
    "collapsed": true
   },
   "outputs": [],
   "source": [
    "from enum import Enum\n",
    "class AccountType(Enum):\n",
    "    SAVINGS = 1\n",
    "    CHECKING = 2"
   ]
  },
  {
   "cell_type": "markdown",
   "metadata": {},
   "source": [
    "An Enum stands for an enumeration, it's a convenient way for you to define lists of things. Typing:"
   ]
  },
  {
   "cell_type": "code",
   "execution_count": 2,
   "metadata": {},
   "outputs": [
    {
     "data": {
      "text/plain": [
       "<AccountType.SAVINGS: 1>"
      ]
     },
     "execution_count": 2,
     "metadata": {},
     "output_type": "execute_result"
    }
   ],
   "source": [
    "AccountType.SAVINGS"
   ]
  },
  {
   "cell_type": "markdown",
   "metadata": {},
   "source": [
    "returns a Python representation of an enumeration. You can compare these account types:"
   ]
  },
  {
   "cell_type": "code",
   "execution_count": 3,
   "metadata": {},
   "outputs": [
    {
     "data": {
      "text/plain": [
       "True"
      ]
     },
     "execution_count": 3,
     "metadata": {},
     "output_type": "execute_result"
    }
   ],
   "source": [
    "AccountType.SAVINGS == AccountType.SAVINGS"
   ]
  },
  {
   "cell_type": "code",
   "execution_count": 4,
   "metadata": {},
   "outputs": [
    {
     "data": {
      "text/plain": [
       "False"
      ]
     },
     "execution_count": 4,
     "metadata": {},
     "output_type": "execute_result"
    }
   ],
   "source": [
    "AccountType.SAVINGS == AccountType.CHECKING"
   ]
  },
  {
   "cell_type": "markdown",
   "metadata": {},
   "source": [
    "To get a string representation of an Enum, you can use:"
   ]
  },
  {
   "cell_type": "code",
   "execution_count": 5,
   "metadata": {},
   "outputs": [
    {
     "data": {
      "text/plain": [
       "'SAVINGS'"
      ]
     },
     "execution_count": 5,
     "metadata": {},
     "output_type": "execute_result"
    }
   ],
   "source": [
    "AccountType.SAVINGS.name"
   ]
  },
  {
   "cell_type": "markdown",
   "metadata": {},
   "source": [
    "### Part 1: Create a BankAccount class with the following specification:\n",
    "\n",
    "Constructor is `BankAccount(self, owner, accountType)` where `owner` is a string representing the name of the account owner and `accountType` is one of the AccountType enums\n",
    "\n",
    "Methods `withdraw(self, amount)` and `deposit(self, amount)` to modify the account balance of the account\n",
    "\n",
    "Override methods `__str__` to write an informative string of the account owner and the type of account, and `__len__` to return the balance of the account"
   ]
  },
  {
   "cell_type": "markdown",
   "metadata": {},
   "source": [
    "### Part 2:  Write a class BankUser with the following specification:\n",
    "\n",
    "Constructor `BankUser(self, owner)` where `owner` is the name of the account.\n",
    "\n",
    "Method `addAccount(self, accountType)` - to start, a user will have no accounts when the BankUser object is created. `addAccount` will add a new account to the user of the `accountType` specified. **Only one savings/checking account per user, return appropriate error otherwise**\n",
    "\n",
    "Methods `getBalance(self, accountType)`, `deposit(self, accountType, amount)`, and `withdraw(self, accountType, amount)` for a specific AccountType.\n",
    "\n",
    "Override `__str__` to have an informative summary of user's accounts."
   ]
  },
  {
   "cell_type": "markdown",
   "metadata": {},
   "source": [
    "Write some simple tests to make sure this is working. Think of edge scenarios a user might try to do."
   ]
  },
  {
   "cell_type": "markdown",
   "metadata": {},
   "source": [
    "### Part 3:  ATM Closure\n",
    "\n",
    "Finally, we are going to rewrite a closure to use our bank account. We will make use of the [input function](http://anh.cs.luc.edu/python/hands-on/3.1/handsonHtml/io.html) which takes user input to decide what actions to take.\n",
    "\n",
    "Write a closure called ATMSession(bankUser) which takes in a BankUser object. Return a method called Interface that when called, would provide the following interface:\n",
    "\n",
    "First screen for user will look like:\n",
    "\n",
    "\n",
    "**Enter Option:**\n",
    "\n",
    "**1)Exit**\n",
    "\n",
    "**2)Create Account**\n",
    "\n",
    "**3)Check Balance**\n",
    "\n",
    "**4)Deposit**\n",
    "\n",
    "**5)Withdraw**\n",
    "\n",
    "\n",
    "Pressing 1 will exit, any other option will show the options:\n",
    "\n",
    "\n",
    "\n",
    "**Enter Option:**\n",
    "\n",
    "**1)Checking**\n",
    "\n",
    "**2)Savings**\n",
    "\n",
    "\n",
    "If a deposit or withdraw was chosen, then there must be a third screen:\n",
    "\n",
    "\n",
    "\n",
    "**Enter Integer Amount, Cannot Be Negative:**\n",
    "\n",
    "This is to keep the code relatively simple, if you'd like you can also curate the options depending on the BankUser object (for example, if user has no accounts then only show the Create Account option), but this is up to you. In any case, you must handle any input from the user in a reasonable way that an actual bank would be okay with, and give the user a proper response to the action specified.\n",
    "\n",
    "Upon finishing a transaction or viewing balance, it should go back to the original screen"
   ]
  },
  {
   "cell_type": "markdown",
   "metadata": {},
   "source": [
    "### Part 4:  Put everything in a module Bank.py\n",
    "\n",
    "We will be grading this problem with a test suite. Put the enum, classes, and closure in a single file named Bank.py. It is very important that the class and method specifications we provided are used (with the same capitalization), otherwise you will receive no credit."
   ]
  },
  {
   "cell_type": "markdown",
   "metadata": {},
   "source": [
    "---"
   ]
  },
  {
   "cell_type": "markdown",
   "metadata": {},
   "source": [
    "## Problem 2:  Linear Regression Class\n",
    "\n",
    "Let's say you want to create Python classes for three related types of linear regression: Ordinary Least Squares Linear Regression, Ridge Regression, and Lasso Regression. "
   ]
  },
  {
   "cell_type": "markdown",
   "metadata": {},
   "source": [
    "Consider the multivariate linear model:\n",
    "\n",
    "$$y = X\\beta + \\epsilon$$\n",
    "\n",
    "where $y$ is a length $n$ vector, $X$ is an $m \\times p$ matrix, and $\\beta$\n",
    "is a $p$ length vector of coefficients.\n",
    "\n",
    "#### Ordinary Least Squares Linear Regression\n",
    "\n",
    "[OLS Regression](https://en.wikipedia.org/wiki/Ordinary_least_squares) seeks to minimize the following cost function:\n",
    "\n",
    "$$\\|y - \\beta\\mathbf {X}\\|^{2}$$\n",
    "\n",
    "The best fit coefficients can be obtained by:\n",
    "\n",
    "$$\\hat{\\beta} = (X^T X)^{-1}X^Ty$$\n",
    "\n",
    "where $X^T$ is the transpose of the matrix $X$ and $X^{-1}$ is the inverse of the matrix $X$.\n",
    "\n",
    "#### Ridge Regression\n",
    "\n",
    "[Ridge Regression](https://en.wikipedia.org/wiki/Tikhonov_regularization) introduces an L2 regularization term to the cost function:\n",
    "\n",
    "$$\\|y - \\beta\\mathbf {X}\\|^{2}+\\|\\Gamma \\beta \\|^{2}$$\n",
    "\n",
    "Where $\\Gamma = \\alpha I$ for some constant $\\alpha$ and the identity matrix $I$.\n",
    "\n",
    "The best fit coefficients can be obtained by:\n",
    "$$\\hat{\\beta} = (X^T X+\\Gamma^T\\Gamma)^{-1}X^Ty$$\n",
    "\n",
    "#### Lasso Regression\n",
    "\n",
    "[Lasso Regression](https://en.wikipedia.org/wiki/Lasso_%28statistics%29) introduces an L1 regularization term and restricts the total number of predictor variables in the model.\n",
    "The following cost function:\n",
    "$${\\displaystyle \\min _{\\beta _{0},\\beta }\\left\\{{\\frac {1}{m}}\\left\\|y-\\beta _{0}-X\\beta \\right\\|_{2}^{2}\\right\\} \\quad \\textrm{subject to} \\quad \\|\\beta \\|_{1}\\leq \\alpha.}$$\n",
    "\n",
    "does not have a nice closed form solution. For the sake of this exercise, you may use the [sklearn.linear_model.Lasso](http://scikit-learn.org/stable/modules/generated/sklearn.linear_model.Lasso.html) class, which uses a coordinate descent algorithm to find the best fit. You should only use the class in the fit() method of this exercise (ie. do not re-use the sklearn for other methods in your class).\n",
    "\n",
    "#### $R^2$ score\n",
    "\n",
    "The $R^2$ score is defined as:\n",
    "$${R^{2} = {1-{SS_E \\over SS_T}}}$$\n",
    "\n",
    "Where:\n",
    "\n",
    "$$SS_T=\\sum_i (y_i-\\bar{y})^2, SS_R=\\sum_i (\\hat{y_i}-\\bar{y})^2, SS_E=\\sum_i (y_i - \\hat{y_i})^2$$\n",
    "\n",
    "where  ${y_i}$ are the original data values, $\\hat{y_i}$ are the predicted values, and $\\bar{y_i}$ is the mean of the original data values."
   ]
  },
  {
   "cell_type": "markdown",
   "metadata": {},
   "source": [
    "### Part 1:  Base Class\n",
    "Write a class called `Regression` with the following methods:\n",
    "\n",
    "$fit(X, y)$: Fits linear model to $X$ and $y$.\n",
    "\n",
    "$get\\_params()$: Returns $\\hat{\\beta}$ for the fitted model. The parameters should be stored in a dictionary.\n",
    "\n",
    "$predict(X)$: Predict new values with the fitted model given $X$.\n",
    "\n",
    "$score(X, y)$: Returns $R^2$ value of the fitted model.\n",
    "\n",
    "$set\\_params()$: Manually set the parameters of the linear model.\n",
    "\n",
    "This parent class should throw a `NotImplementedError` for methods that are intended to be implemented by subclasses."
   ]
  },
  {
   "cell_type": "markdown",
   "metadata": {},
   "source": [
    "### Part 2: OLS Linear Regression\n",
    "\n",
    "Write a class called `OLSRegression` that implements the OLS Regression model described above and inherits the `Regression` class."
   ]
  },
  {
   "cell_type": "markdown",
   "metadata": {},
   "source": [
    "### Part 3: Ridge Regression\n",
    "\n",
    "Write a class called `RidgeRegression` that implements Ridge Regression and inherits the `OLSRegression` class."
   ]
  },
  {
   "cell_type": "markdown",
   "metadata": {},
   "source": [
    "### Part 3: Lasso Regression\n",
    "\n",
    "Write a class called `LassoRegression` that implements Lasso Regression and inherits the `OLSRegression` class. You should only use Lasso(), Lasso.fit(), Lasso.coef_, and Lasso._intercept from the `sklearn.linear_model.Lasso` class."
   ]
  },
  {
   "cell_type": "markdown",
   "metadata": {},
   "source": [
    "### Part 4: Model Scoring\n",
    "You will use the [Boston dataset](http://scikit-learn.org/stable/modules/generated/sklearn.datasets.load_boston.html) for this part.\n",
    "\n",
    "Instantiate each of the three models above.  Using a for loop, fit (on the training data) and score (on the testing data) each model on the Boston dataset.  \n",
    "\n",
    "Print out the $R^2$ value for each model and the parameters for the best model using the `get_params()` method. Use an $\\alpha$ value of 0.1.\n",
    "\n",
    "**Hint:**  You can consider using the `sklearn.model_selection.train_test_split` method to create the training and test datasets."
   ]
  },
  {
   "cell_type": "markdown",
   "metadata": {},
   "source": [
    "### Part 5: Visualize Model Performance\n",
    "\n",
    "We can evaluate how the models perform for various values of $\\alpha$. Calculate the $R^2$ scores for each model for  $\\alpha \\in [0.05, 1]$ and plot the three lines on the same graph. To change the parameters, use the `set_params()` method. Be sure to label each line and add axis labels."
   ]
  },
  {
   "cell_type": "code",
   "execution_count": null,
   "metadata": {
    "collapsed": true
   },
   "outputs": [],
   "source": []
  }
 ],
 "metadata": {
  "kernelspec": {
   "display_name": "Python 3",
   "language": "python",
   "name": "python3"
  },
  "language_info": {
   "codemirror_mode": {
    "name": "ipython",
    "version": 3
   },
   "file_extension": ".py",
   "mimetype": "text/x-python",
   "name": "python",
   "nbconvert_exporter": "python",
   "pygments_lexer": "ipython3",
   "version": "3.6.1"
  }
 },
 "nbformat": 4,
 "nbformat_minor": 2
}
