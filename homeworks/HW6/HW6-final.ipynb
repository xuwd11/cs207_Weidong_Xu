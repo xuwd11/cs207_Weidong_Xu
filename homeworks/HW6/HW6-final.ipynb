{
 "cells": [
  {
   "cell_type": "markdown",
   "metadata": {},
   "source": [
    "# Homework 6\n",
    "## Due:  Tuesday, October 10 at 11:59 PM"
   ]
  },
  {
   "cell_type": "markdown",
   "metadata": {},
   "source": [
    "# Problem 1: Bank Account Revisited\n",
    "\n",
    "We are going to rewrite the bank account closure problem we had a few assignments ago, only this time developing a formal class for a Bank User and Bank Account to use in our closure (recall previously we just had a nonlocal variable amount that we changed). "
   ]
  },
  {
   "cell_type": "markdown",
   "metadata": {},
   "source": [
    "### Some Preliminaries:\n",
    "First we are going to define two types of bank accounts.  Use the code below to do this:"
   ]
  },
  {
   "cell_type": "code",
   "execution_count": 1,
   "metadata": {
    "collapsed": true
   },
   "outputs": [],
   "source": [
    "from enum import Enum\n",
    "class AccountType(Enum):\n",
    "    SAVINGS = 1\n",
    "    CHECKING = 2"
   ]
  },
  {
   "cell_type": "markdown",
   "metadata": {},
   "source": [
    "An Enum stands for an enumeration, it's a convenient way for you to define lists of things. Typing:"
   ]
  },
  {
   "cell_type": "code",
   "execution_count": 2,
   "metadata": {},
   "outputs": [
    {
     "data": {
      "text/plain": [
       "<AccountType.SAVINGS: 1>"
      ]
     },
     "execution_count": 2,
     "metadata": {},
     "output_type": "execute_result"
    }
   ],
   "source": [
    "AccountType.SAVINGS"
   ]
  },
  {
   "cell_type": "markdown",
   "metadata": {},
   "source": [
    "returns a Python representation of an enumeration. You can compare these account types:"
   ]
  },
  {
   "cell_type": "code",
   "execution_count": 3,
   "metadata": {},
   "outputs": [
    {
     "data": {
      "text/plain": [
       "True"
      ]
     },
     "execution_count": 3,
     "metadata": {},
     "output_type": "execute_result"
    }
   ],
   "source": [
    "AccountType.SAVINGS == AccountType.SAVINGS"
   ]
  },
  {
   "cell_type": "code",
   "execution_count": 4,
   "metadata": {},
   "outputs": [
    {
     "data": {
      "text/plain": [
       "False"
      ]
     },
     "execution_count": 4,
     "metadata": {},
     "output_type": "execute_result"
    }
   ],
   "source": [
    "AccountType.SAVINGS == AccountType.CHECKING"
   ]
  },
  {
   "cell_type": "markdown",
   "metadata": {},
   "source": [
    "To get a string representation of an Enum, you can use:"
   ]
  },
  {
   "cell_type": "code",
   "execution_count": 5,
   "metadata": {},
   "outputs": [
    {
     "data": {
      "text/plain": [
       "'SAVINGS'"
      ]
     },
     "execution_count": 5,
     "metadata": {},
     "output_type": "execute_result"
    }
   ],
   "source": [
    "AccountType.SAVINGS.name"
   ]
  },
  {
   "cell_type": "markdown",
   "metadata": {},
   "source": [
    "### Part 1: Create a BankAccount class with the following specification:\n",
    "\n",
    "Constructor is `BankAccount(self, owner, accountType)` where `owner` is a string representing the name of the account owner and `accountType` is one of the AccountType enums\n",
    "\n",
    "Methods `withdraw(self, amount)` and `deposit(self, amount)` to modify the account balance of the account\n",
    "\n",
    "Override methods `__str__` to write an informative string of the account owner and the type of account, and `__len__` to return the balance of the account"
   ]
  },
  {
   "cell_type": "code",
   "execution_count": 6,
   "metadata": {
    "collapsed": true
   },
   "outputs": [],
   "source": [
    "class BankAccount:\n",
    "    \n",
    "    def __init__(self, owner, accountType):\n",
    "        if not accountType in AccountType:\n",
    "            raise TypeError('Please enter a valid account type.')\n",
    "        self.owner = owner\n",
    "        self.accountType = accountType\n",
    "        self.balance = 0\n",
    "        \n",
    "    def withdraw(self, amount):\n",
    "        if amount > self.balance:\n",
    "            raise ValueError('Insufficient fund.')\n",
    "        elif amount < 0:\n",
    "            raise ValueError('Invalid input.')\n",
    "        else:\n",
    "            self.balance -= amount\n",
    "        return self.balance\n",
    "    \n",
    "    def deposit(self, amount):\n",
    "        if amount < 0:\n",
    "            raise ValueError('Invalid input.')\n",
    "        else:\n",
    "            self.balance += amount\n",
    "        return self.balance\n",
    "    \n",
    "    def __str__(self):\n",
    "        return 'Account owner: {}, type of account: {}.'.format(self.owner, self.accountType.name)\n",
    "        \n",
    "    def __len__(self):\n",
    "        return self.balance"
   ]
  },
  {
   "cell_type": "code",
   "execution_count": 7,
   "metadata": {},
   "outputs": [
    {
     "name": "stdout",
     "output_type": "stream",
     "text": [
      "Account owner: Leo, type of account: CHECKING.\n",
      "The balance of account is 90.\n"
     ]
    }
   ],
   "source": [
    "# Test\n",
    "\n",
    "ba = BankAccount('Leo', AccountType.CHECKING)\n",
    "ba.deposit(100)\n",
    "ba.withdraw(10)\n",
    "print(str(ba))\n",
    "print('The balance of account is {}.'.format(len(ba)))"
   ]
  },
  {
   "cell_type": "markdown",
   "metadata": {},
   "source": [
    "### Part 2:  Write a class BankUser with the following specification:\n",
    "\n",
    "Constructor `BankUser(self, owner)` where `owner` is the name of the account.\n",
    "\n",
    "Method `addAccount(self, accountType)` - to start, a user will have no accounts when the BankUser object is created. `addAccount` will add a new account to the user of the `accountType` specified. **Only one savings/checking account per user, return appropriate error otherwise**\n",
    "\n",
    "Methods `getBalance(self, accountType)`, `deposit(self, accountType, amount)`, and `withdraw(self, accountType, amount)` for a specific AccountType.\n",
    "\n",
    "Override `__str__` to have an informative summary of user's accounts."
   ]
  },
  {
   "cell_type": "markdown",
   "metadata": {},
   "source": [
    "Write some simple tests to make sure this is working. Think of edge scenarios a user might try to do."
   ]
  },
  {
   "cell_type": "code",
   "execution_count": 8,
   "metadata": {
    "collapsed": true
   },
   "outputs": [],
   "source": [
    "class BankUser:\n",
    "    \n",
    "    def __init__(self, owner):\n",
    "        self.owner = owner\n",
    "        self.accounts = dict()\n",
    "    \n",
    "    def addAccount(self, accountType):\n",
    "        if not accountType in AccountType:\n",
    "            raise TypeError('Please enter a valid account type.')\n",
    "        if accountType in self.accounts:\n",
    "            raise ValueError('You are allowed to own only one savings/checking account.')\n",
    "        self.accounts[accountType] = BankAccount(self.owner, accountType)\n",
    "        \n",
    "    def getBalance(self, accountType):\n",
    "        if not accountType in self.accounts:\n",
    "            raise ValueError('You don\\'t have the account.')\n",
    "        return len(self.accounts[accountType])\n",
    "    \n",
    "    def deposit(self, accountType, amount):\n",
    "        if not accountType in self.accounts:\n",
    "            raise ValueError('You don\\'t have the account.')\n",
    "        self.accounts[accountType].deposit(amount)\n",
    "        return len(self.accounts[accountType])\n",
    "    \n",
    "    def withdraw(self, accountType, amount):\n",
    "        if not accountType in self.accounts:\n",
    "            raise ValueError('You don\\'t have the account.')\n",
    "        self.accounts[accountType].withdraw(amount)\n",
    "        return len(self.accounts[accountType])\n",
    "    \n",
    "    def __str__(self):\n",
    "        return '{} has {} account(s).\\n'.format(self.owner, len(self.accounts)) \\\n",
    "    + '\\n'.join(['{} account: balance {}.'.format(name, balance) \\\n",
    "                 for name, balance in sorted([(a.name, len(c)) for a, c in self.accounts.items()])])"
   ]
  },
  {
   "cell_type": "code",
   "execution_count": 9,
   "metadata": {
    "collapsed": true
   },
   "outputs": [],
   "source": [
    "# Test 1\n",
    "\n",
    "def test1():\n",
    "    user1 = BankUser('Jack')\n",
    "    user1.addAccount(AccountType.CHECKING)\n",
    "    user1.addAccount(AccountType.SAVINGS)\n",
    "    user1.deposit(AccountType.CHECKING, 100)\n",
    "    user1.deposit(AccountType.SAVINGS, 1000)\n",
    "    user1.withdraw(AccountType.CHECKING, 50)\n",
    "    assert str(user1) == 'Jack has 2 account(s).\\nCHECKING account: balance 50.\\nSAVINGS account: balance 1000.'\n",
    "    \n",
    "test1()"
   ]
  },
  {
   "cell_type": "code",
   "execution_count": 10,
   "metadata": {
    "collapsed": true
   },
   "outputs": [],
   "source": [
    "# Test 2 (unavailable account)\n",
    "\n",
    "def test2():\n",
    "    try:\n",
    "        user1 = BankUser('Mike')\n",
    "        user1.addAccount(AccountType.CHECKING)\n",
    "        user1.deposit(AccountType.CHECKING, 100)\n",
    "        user1.withdraw(AccountType.SAVINGS, 10)\n",
    "    except ValueError as err:\n",
    "        assert(type(err) == ValueError)\n",
    "        \n",
    "test2()"
   ]
  },
  {
   "cell_type": "code",
   "execution_count": 11,
   "metadata": {
    "collapsed": true
   },
   "outputs": [],
   "source": [
    "# Test 3 (Insufficient fund)\n",
    "\n",
    "def test3():\n",
    "    try:\n",
    "        user1 = BankUser('Jim')\n",
    "        user1.addAccount(AccountType.CHECKING)\n",
    "        user1.deposit(AccountType.CHECKING, 100)\n",
    "        user1.withdraw(AccountType.CHECKING, 200)\n",
    "    except ValueError as err:\n",
    "        assert(type(err) == ValueError)\n",
    "        \n",
    "test3()"
   ]
  },
  {
   "cell_type": "markdown",
   "metadata": {},
   "source": [
    "### Part 3:  ATM Closure\n",
    "\n",
    "Finally, we are going to rewrite a closure to use our bank account. We will make use of the [input function](http://anh.cs.luc.edu/python/hands-on/3.1/handsonHtml/io.html) which takes user input to decide what actions to take.\n",
    "\n",
    "Write a closure called ATMSession(bankUser) which takes in a BankUser object. Return a method called Interface that when called, would provide the following interface:\n",
    "\n",
    "First screen for user will look like:\n",
    "\n",
    "\n",
    "**Enter Option:**\n",
    "\n",
    "**1)Exit**\n",
    "\n",
    "**2)Create Account**\n",
    "\n",
    "**3)Check Balance**\n",
    "\n",
    "**4)Deposit**\n",
    "\n",
    "**5)Withdraw**\n",
    "\n",
    "\n",
    "Pressing 1 will exit, any other option will show the options:\n",
    "\n",
    "\n",
    "\n",
    "**Enter Option:**\n",
    "\n",
    "**1)Checking**\n",
    "\n",
    "**2)Savings**\n",
    "\n",
    "\n",
    "If a deposit or withdraw was chosen, then there must be a third screen:\n",
    "\n",
    "\n",
    "\n",
    "**Enter Integer Amount, Cannot Be Negative:**\n",
    "\n",
    "This is to keep the code relatively simple, if you'd like you can also curate the options depending on the BankUser object (for example, if user has no accounts then only show the Create Account option), but this is up to you. In any case, you must handle any input from the user in a reasonable way that an actual bank would be okay with, and give the user a proper response to the action specified.\n",
    "\n",
    "Upon finishing a transaction or viewing balance, it should go back to the original screen"
   ]
  },
  {
   "cell_type": "code",
   "execution_count": 19,
   "metadata": {
    "collapsed": true
   },
   "outputs": [],
   "source": [
    "def ATMSession(bankUser):\n",
    "    def Interface():\n",
    "        nonlocal bankUser\n",
    "        while(True):\n",
    "            print('Enter Option:\\n1)Exit\\n2)Create Account\\n3)Check Balance\\n4)Deposit\\n5)Withdraw')\n",
    "            option = input()\n",
    "            try:\n",
    "                option = int(option.strip())\n",
    "                if option < 0 or option > 5:\n",
    "                    raise ValueError\n",
    "            except:\n",
    "                print('Please enter a valid integer number (from 1 to 5).\\n')\n",
    "                continue\n",
    "            if 1 == option:\n",
    "                break\n",
    "            else:\n",
    "                print('Enter Option:\\n1)Checking\\n2)Savings')\n",
    "                option_type = input()\n",
    "                try:\n",
    "                    option_type = int(option_type.strip())\n",
    "                    if not (1 == option_type or 2 == option_type):\n",
    "                        raise ValueError\n",
    "                except:\n",
    "                    print('Invalid input. Please start over.\\n')\n",
    "                    continue\n",
    "                if 1 == option_type:\n",
    "                    accountType = AccountType.CHECKING\n",
    "                else:\n",
    "                    accountType = AccountType.SAVINGS\n",
    "                if 2 == option:\n",
    "                    try:\n",
    "                        bankUser.addAccount(accountType)\n",
    "                        print('{} account has been created successfully.\\n'.format(accountType.name))\n",
    "                        continue\n",
    "                    except:\n",
    "                        print('New account setup failed. You\\'ve already had a {} account.\\n'.format(accountType.name))\n",
    "                        continue\n",
    "                else:\n",
    "                    try:\n",
    "                        balance = bankUser.getBalance(accountType)\n",
    "                    except:\n",
    "                        print('{} account does not exist.\\n'.format(accountType.name))\n",
    "                        continue\n",
    "                    if 3 == option:\n",
    "                        print('{} account balance: {}\\n'.format(accountType.name, balance))\n",
    "                        continue\n",
    "                    else:\n",
    "                        amount = input('Enter Integer Amount, Cannot Be Negative:')\n",
    "                        try:\n",
    "                            amount = int(amount.strip())\n",
    "                            if amount < 0:\n",
    "                                raise ValueError\n",
    "                        except:\n",
    "                            print('Invalid amount. Please start over.\\n')\n",
    "                            continue\n",
    "                        if 4 == option:\n",
    "                            bankUser.deposit(accountType, amount)\n",
    "                            print('{} has been deposited into {} account. New balance: {}\\n'.\\\n",
    "                                  format(amount, accountType.name, bankUser.getBalance(accountType)))\n",
    "                            continue\n",
    "                        elif 5 == option:\n",
    "                            try:\n",
    "                                bankUser.withdraw(accountType, amount)\n",
    "                                print('{} has been withdrawn from {} account. New balance: {}\\n'.\\\n",
    "                                      format(amount, accountType.name, bankUser.getBalance(accountType)))\n",
    "                                continue\n",
    "                            except:\n",
    "                                print('Insufficient fund.\\n')\n",
    "                                continue\n",
    "    return Interface"
   ]
  },
  {
   "cell_type": "code",
   "execution_count": 22,
   "metadata": {
    "scrolled": true
   },
   "outputs": [
    {
     "name": "stdout",
     "output_type": "stream",
     "text": [
      "Enter Option:\n",
      "1)Exit\n",
      "2)Create Account\n",
      "3)Check Balance\n",
      "4)Deposit\n",
      "5)Withdraw\n",
      "5\n",
      "Enter Option:\n",
      "1)Checking\n",
      "2)Savings\n",
      "1\n",
      "CHECKING account does not exist.\n",
      "\n",
      "Enter Option:\n",
      "1)Exit\n",
      "2)Create Account\n",
      "3)Check Balance\n",
      "4)Deposit\n",
      "5)Withdraw\n",
      "2\n",
      "Enter Option:\n",
      "1)Checking\n",
      "2)Savings\n",
      "1\n",
      "CHECKING account has been created successfully.\n",
      "\n",
      "Enter Option:\n",
      "1)Exit\n",
      "2)Create Account\n",
      "3)Check Balance\n",
      "4)Deposit\n",
      "5)Withdraw\n",
      "2\n",
      "Enter Option:\n",
      "1)Checking\n",
      "2)Savings\n",
      "1\n",
      "New account setup failed. You've already had a CHECKING account.\n",
      "\n",
      "Enter Option:\n",
      "1)Exit\n",
      "2)Create Account\n",
      "3)Check Balance\n",
      "4)Deposit\n",
      "5)Withdraw\n",
      "3\n",
      "Enter Option:\n",
      "1)Checking\n",
      "2)Savings\n",
      "1\n",
      "CHECKING account balance: 0\n",
      "\n",
      "Enter Option:\n",
      "1)Exit\n",
      "2)Create Account\n",
      "3)Check Balance\n",
      "4)Deposit\n",
      "5)Withdraw\n",
      "4\n",
      "Enter Option:\n",
      "1)Checking\n",
      "2)Savings\n",
      "1\n",
      "Enter Integer Amount, Cannot Be Negative:1100\n",
      "1100 has been deposited into CHECKING account. New balance: 1100\n",
      "\n",
      "Enter Option:\n",
      "1)Exit\n",
      "2)Create Account\n",
      "3)Check Balance\n",
      "4)Deposit\n",
      "5)Withdraw\n",
      "5\n",
      "Enter Option:\n",
      "1)Checking\n",
      "2)Savings\n",
      "1\n",
      "Enter Integer Amount, Cannot Be Negative:2000\n",
      "Insufficient fund.\n",
      "\n",
      "Enter Option:\n",
      "1)Exit\n",
      "2)Create Account\n",
      "3)Check Balance\n",
      "4)Deposit\n",
      "5)Withdraw\n",
      "5\n",
      "Enter Option:\n",
      "1)Checking\n",
      "2)Savings\n",
      "1\n",
      "Enter Integer Amount, Cannot Be Negative:500\n",
      "500 has been withdrawn from CHECKING account. New balance: 600\n",
      "\n",
      "Enter Option:\n",
      "1)Exit\n",
      "2)Create Account\n",
      "3)Check Balance\n",
      "4)Deposit\n",
      "5)Withdraw\n",
      "3\n",
      "Enter Option:\n",
      "1)Checking\n",
      "2)Savings\n",
      "2\n",
      "SAVINGS account does not exist.\n",
      "\n",
      "Enter Option:\n",
      "1)Exit\n",
      "2)Create Account\n",
      "3)Check Balance\n",
      "4)Deposit\n",
      "5)Withdraw\n",
      "2\n",
      "Enter Option:\n",
      "1)Checking\n",
      "2)Savings\n",
      "2\n",
      "SAVINGS account has been created successfully.\n",
      "\n",
      "Enter Option:\n",
      "1)Exit\n",
      "2)Create Account\n",
      "3)Check Balance\n",
      "4)Deposit\n",
      "5)Withdraw\n",
      "2\n",
      "Enter Option:\n",
      "1)Checking\n",
      "2)Savings\n",
      "2\n",
      "New account setup failed. You've already had a SAVINGS account.\n",
      "\n",
      "Enter Option:\n",
      "1)Exit\n",
      "2)Create Account\n",
      "3)Check Balance\n",
      "4)Deposit\n",
      "5)Withdraw\n",
      "2\n",
      "Enter Option:\n",
      "1)Checking\n",
      "2)Savings\n",
      "1\n",
      "New account setup failed. You've already had a CHECKING account.\n",
      "\n",
      "Enter Option:\n",
      "1)Exit\n",
      "2)Create Account\n",
      "3)Check Balance\n",
      "4)Deposit\n",
      "5)Withdraw\n",
      "4\n",
      "Enter Option:\n",
      "1)Checking\n",
      "2)Savings\n",
      "2\n",
      "Enter Integer Amount, Cannot Be Negative:1200\n",
      "1200 has been deposited into SAVINGS account. New balance: 1200\n",
      "\n",
      "Enter Option:\n",
      "1)Exit\n",
      "2)Create Account\n",
      "3)Check Balance\n",
      "4)Deposit\n",
      "5)Withdraw\n",
      "5\n",
      "Enter Option:\n",
      "1)Checking\n",
      "2)Savings\n",
      "2\n",
      "Enter Integer Amount, Cannot Be Negative:10\n",
      "10 has been withdrawn from SAVINGS account. New balance: 1190\n",
      "\n",
      "Enter Option:\n",
      "1)Exit\n",
      "2)Create Account\n",
      "3)Check Balance\n",
      "4)Deposit\n",
      "5)Withdraw\n",
      "1\n"
     ]
    }
   ],
   "source": [
    "# Test\n",
    "\n",
    "user1 = BankUser('Jim')\n",
    "ATMSession(user1)()"
   ]
  },
  {
   "cell_type": "code",
   "execution_count": 23,
   "metadata": {},
   "outputs": [
    {
     "name": "stdout",
     "output_type": "stream",
     "text": [
      "Jim has 2 account(s).\n",
      "CHECKING account: balance 600.\n",
      "SAVINGS account: balance 1190.\n"
     ]
    }
   ],
   "source": [
    "print(str(user1))"
   ]
  },
  {
   "cell_type": "markdown",
   "metadata": {},
   "source": [
    "### Part 4:  Put everything in a module Bank.py\n",
    "\n",
    "We will be grading this problem with a test suite. Put the enum, classes, and closure in a single file named Bank.py. It is very important that the class and method specifications we provided are used (with the same capitalization), otherwise you will receive no credit."
   ]
  },
  {
   "cell_type": "code",
   "execution_count": 24,
   "metadata": {},
   "outputs": [
    {
     "name": "stdout",
     "output_type": "stream",
     "text": [
      "Writing Bank.py\n"
     ]
    }
   ],
   "source": [
    "%%file Bank.py\n",
    "\n",
    "from enum import Enum\n",
    "class AccountType(Enum):\n",
    "    SAVINGS = 1\n",
    "    CHECKING = 2\n",
    "    \n",
    "class BankAccount:\n",
    "    \n",
    "    def __init__(self, owner, accountType):\n",
    "        if not accountType in AccountType:\n",
    "            raise TypeError('Please enter a valid account type.')\n",
    "        self.owner = owner\n",
    "        self.accountType = accountType\n",
    "        self.balance = 0\n",
    "        \n",
    "    def withdraw(self, amount):\n",
    "        if amount > self.balance:\n",
    "            raise ValueError('Insufficient fund.')\n",
    "        elif amount < 0:\n",
    "            raise ValueError('Invalid input.')\n",
    "        else:\n",
    "            self.balance -= amount\n",
    "        return self.balance\n",
    "    \n",
    "    def deposit(self, amount):\n",
    "        if amount < 0:\n",
    "            raise ValueError('Invalid input.')\n",
    "        else:\n",
    "            self.balance += amount\n",
    "        return self.balance\n",
    "    \n",
    "    def __str__(self):\n",
    "        return 'Account owner: {}, type of account: {}.'.format(self.owner, self.accountType.name)\n",
    "        \n",
    "    def __len__(self):\n",
    "        return self.balance\n",
    "    \n",
    "class BankUser:\n",
    "    \n",
    "    def __init__(self, owner):\n",
    "        self.owner = owner\n",
    "        self.accounts = dict()\n",
    "    \n",
    "    def addAccount(self, accountType):\n",
    "        if not accountType in AccountType:\n",
    "            raise TypeError('Please enter a valid account type.')\n",
    "        if accountType in self.accounts:\n",
    "            raise ValueError('You are allowed to own only one savings/checking account.')\n",
    "        self.accounts[accountType] = BankAccount(self.owner, accountType)\n",
    "        \n",
    "    def getBalance(self, accountType):\n",
    "        if not accountType in self.accounts:\n",
    "            raise ValueError('You don\\'t have the account.')\n",
    "        return len(self.accounts[accountType])\n",
    "    \n",
    "    def deposit(self, accountType, amount):\n",
    "        if not accountType in self.accounts:\n",
    "            raise ValueError('You don\\'t have the account.')\n",
    "        self.accounts[accountType].deposit(amount)\n",
    "        return len(self.accounts[accountType])\n",
    "    \n",
    "    def withdraw(self, accountType, amount):\n",
    "        if not accountType in self.accounts:\n",
    "            raise ValueError('You don\\'t have the account.')\n",
    "        self.accounts[accountType].withdraw(amount)\n",
    "        return len(self.accounts[accountType])\n",
    "    \n",
    "    def __str__(self):\n",
    "        return '{} has {} account(s).\\n'.format(self.owner, len(self.accounts)) \\\n",
    "    + '\\n'.join(['{} account: balance {}.'.format(name, balance) \\\n",
    "                 for name, balance in sorted([(a.name, len(c)) for a, c in self.accounts.items()])])\n",
    "    \n",
    "def ATMSession(bankUser):\n",
    "    def Interface():\n",
    "        nonlocal bankUser\n",
    "        while(True):\n",
    "            print('Enter Option:\\n1)Exit\\n2)Create Account\\n3)Check Balance\\n4)Deposit\\n5)Withdraw')\n",
    "            option = input()\n",
    "            try:\n",
    "                option = int(option.strip())\n",
    "                if option < 0 or option > 5:\n",
    "                    raise ValueError\n",
    "            except:\n",
    "                print('Please enter a valid integer number (from 1 to 5).\\n')\n",
    "                continue\n",
    "            if 1 == option:\n",
    "                break\n",
    "            else:\n",
    "                print('Enter Option:\\n1)Checking\\n2)Savings')\n",
    "                option_type = input()\n",
    "                try:\n",
    "                    option_type = int(option_type.strip())\n",
    "                    if not (1 == option_type or 2 == option_type):\n",
    "                        raise ValueError\n",
    "                except:\n",
    "                    print('Invalid input. Please start over.\\n')\n",
    "                    continue\n",
    "                if 1 == option_type:\n",
    "                    accountType = AccountType.CHECKING\n",
    "                else:\n",
    "                    accountType = AccountType.SAVINGS\n",
    "                if 2 == option:\n",
    "                    try:\n",
    "                        bankUser.addAccount(accountType)\n",
    "                        print('{} account has been created successfully.\\n'.format(accountType.name))\n",
    "                        continue\n",
    "                    except:\n",
    "                        print('New account setup failed. You\\'ve already had a {} account.\\n'.format(accountType.name))\n",
    "                        continue\n",
    "                else:\n",
    "                    try:\n",
    "                        balance = bankUser.getBalance(accountType)\n",
    "                    except:\n",
    "                        print('{} account does not exist.\\n'.format(accountType.name))\n",
    "                        continue\n",
    "                    if 3 == option:\n",
    "                        print('{} account balance: {}\\n'.format(accountType.name, balance))\n",
    "                        continue\n",
    "                    else:\n",
    "                        amount = input('Enter Integer Amount, Cannot Be Negative:')\n",
    "                        try:\n",
    "                            amount = int(amount.strip())\n",
    "                            if amount < 0:\n",
    "                                raise ValueError\n",
    "                        except:\n",
    "                            print('Invalid amount. Please start over.\\n')\n",
    "                            continue\n",
    "                        if 4 == option:\n",
    "                            bankUser.deposit(accountType, amount)\n",
    "                            print('{} has been deposited into {} account. New balance: {}\\n'.\\\n",
    "                                  format(amount, accountType.name, bankUser.getBalance(accountType)))\n",
    "                            continue\n",
    "                        elif 5 == option:\n",
    "                            try:\n",
    "                                bankUser.withdraw(accountType, amount)\n",
    "                                print('{} has been withdrawn from {} account. New balance: {}\\n'.\\\n",
    "                                      format(amount, accountType.name, bankUser.getBalance(accountType)))\n",
    "                                continue\n",
    "                            except:\n",
    "                                print('Insufficient fund.\\n')\n",
    "                                continue\n",
    "    return Interface"
   ]
  },
  {
   "cell_type": "code",
   "execution_count": 1,
   "metadata": {
    "scrolled": true
   },
   "outputs": [
    {
     "name": "stdout",
     "output_type": "stream",
     "text": [
      "Enter Option:\n",
      "1)Exit\n",
      "2)Create Account\n",
      "3)Check Balance\n",
      "4)Deposit\n",
      "5)Withdraw\n",
      "2\n",
      "Enter Option:\n",
      "1)Checking\n",
      "2)Savings\n",
      "1\n",
      "CHECKING account has been created successfully.\n",
      "\n",
      "Enter Option:\n",
      "1)Exit\n",
      "2)Create Account\n",
      "3)Check Balance\n",
      "4)Deposit\n",
      "5)Withdraw\n",
      "2\n",
      "Enter Option:\n",
      "1)Checking\n",
      "2)Savings\n",
      "2\n",
      "SAVINGS account has been created successfully.\n",
      "\n",
      "Enter Option:\n",
      "1)Exit\n",
      "2)Create Account\n",
      "3)Check Balance\n",
      "4)Deposit\n",
      "5)Withdraw\n",
      "4\n",
      "Enter Option:\n",
      "1)Checking\n",
      "2)Savings\n",
      "1\n",
      "Enter Integer Amount, Cannot Be Negative:10000\n",
      "10000 has been deposited into CHECKING account. New balance: 10000\n",
      "\n",
      "Enter Option:\n",
      "1)Exit\n",
      "2)Create Account\n",
      "3)Check Balance\n",
      "4)Deposit\n",
      "5)Withdraw\n",
      "4\n",
      "Enter Option:\n",
      "1)Checking\n",
      "2)Savings\n",
      "2\n",
      "Enter Integer Amount, Cannot Be Negative:100000\n",
      "100000 has been deposited into SAVINGS account. New balance: 100000\n",
      "\n",
      "Enter Option:\n",
      "1)Exit\n",
      "2)Create Account\n",
      "3)Check Balance\n",
      "4)Deposit\n",
      "5)Withdraw\n",
      "5\n",
      "Enter Option:\n",
      "1)Checking\n",
      "2)Savings\n",
      "1\n",
      "Enter Integer Amount, Cannot Be Negative:10\n",
      "10 has been withdrawn from CHECKING account. New balance: 9990\n",
      "\n",
      "Enter Option:\n",
      "1)Exit\n",
      "2)Create Account\n",
      "3)Check Balance\n",
      "4)Deposit\n",
      "5)Withdraw\n",
      "5\n",
      "Enter Option:\n",
      "1)Checking\n",
      "2)Savings\n",
      "2\n",
      "Enter Integer Amount, Cannot Be Negative:1000\n",
      "1000 has been withdrawn from SAVINGS account. New balance: 99000\n",
      "\n",
      "Enter Option:\n",
      "1)Exit\n",
      "2)Create Account\n",
      "3)Check Balance\n",
      "4)Deposit\n",
      "5)Withdraw\n",
      "1\n"
     ]
    }
   ],
   "source": [
    "# test\n",
    "\n",
    "import Bank\n",
    "\n",
    "user1 = Bank.BankUser('Jim')\n",
    "Bank.ATMSession(user1)()"
   ]
  },
  {
   "cell_type": "code",
   "execution_count": 2,
   "metadata": {},
   "outputs": [
    {
     "name": "stdout",
     "output_type": "stream",
     "text": [
      "Jim has 2 account(s).\n",
      "CHECKING account: balance 9990.\n",
      "SAVINGS account: balance 99000.\n"
     ]
    }
   ],
   "source": [
    "print(str(user1))"
   ]
  },
  {
   "cell_type": "markdown",
   "metadata": {},
   "source": [
    "---"
   ]
  },
  {
   "cell_type": "markdown",
   "metadata": {},
   "source": [
    "## Problem 2:  Linear Regression Class\n",
    "\n",
    "Let's say you want to create Python classes for three related types of linear regression: Ordinary Least Squares Linear Regression, Ridge Regression, and Lasso Regression. "
   ]
  },
  {
   "cell_type": "markdown",
   "metadata": {},
   "source": [
    "Consider the multivariate linear model:\n",
    "\n",
    "$$y = X\\beta + \\epsilon$$\n",
    "\n",
    "where $y$ is a length $n$ vector, $X$ is an $m \\times p$ matrix, and $\\beta$\n",
    "is a $p$ length vector of coefficients.\n",
    "\n",
    "#### Ordinary Least Squares Linear Regression\n",
    "\n",
    "[OLS Regression](https://en.wikipedia.org/wiki/Ordinary_least_squares) seeks to minimize the following cost function:\n",
    "\n",
    "$$\\|y - \\beta\\mathbf {X}\\|^{2}$$\n",
    "\n",
    "The best fit coefficients can be obtained by:\n",
    "\n",
    "$$\\hat{\\beta} = (X^T X)^{-1}X^Ty$$\n",
    "\n",
    "where $X^T$ is the transpose of the matrix $X$ and $X^{-1}$ is the inverse of the matrix $X$.\n",
    "\n",
    "#### Ridge Regression\n",
    "\n",
    "[Ridge Regression](https://en.wikipedia.org/wiki/Tikhonov_regularization) introduces an L2 regularization term to the cost function:\n",
    "\n",
    "$$\\|y - \\beta\\mathbf {X}\\|^{2}+\\|\\Gamma \\mathbf {x} \\|^{2}$$\n",
    "\n",
    "Where $\\Gamma = \\alpha I$ for some constant $\\alpha$ and the identity matrix $I$.\n",
    "\n",
    "The best fit coefficients can be obtained by:\n",
    "$$\\hat{\\beta} = (X^T X+\\Gamma^T\\Gamma)^{-1}X^Ty$$\n",
    "\n",
    "#### Lasso Regression\n",
    "\n",
    "[Lasso Regression](https://en.wikipedia.org/wiki/Lasso_%28statistics%29) introduces an L1 regularization term and restricts the total number of predictor variables in the model.\n",
    "The following cost function:\n",
    "$${\\displaystyle \\min _{\\beta _{0},\\beta }\\left\\{{\\frac {1}{m}}\\left\\|y-\\beta _{0}-X\\beta \\right\\|_{2}^{2}\\right\\}{\\text{ subject to }}\\|\\beta \\|_{1}\\leq \\alpha.}$$\n",
    "\n",
    "does not have a nice closed form solution. For the sake of this exercise, you may use the [sklearn.linear_model.Lasso](http://scikit-learn.org/stable/modules/generated/sklearn.linear_model.Lasso.html) class, which uses a coordinate descent algorithm to find the best fit. You should only use the class in the fit() method of this exercise (ie. do not re-use the sklearn for other methods in your class).\n",
    "\n",
    "#### $R^2$ score\n",
    "\n",
    "The $R^2$ score is defined as:\n",
    "$${R^{2} = {1-{SS_E \\over SS_T}}}$$\n",
    "\n",
    "Where:\n",
    "\n",
    "$$SS_T=\\sum_i (y_i-\\bar{y})^2, SS_R=\\sum_i (\\hat{y_i}-\\bar{y})^2, SS_E=\\sum_i (y_i - \\hat{y_i})^2$$\n",
    "\n",
    "where  ${y_i}$ are the original data values, $\\hat{y_i}$ are the predicted values, and $\\bar{y_i}$ is the mean of the original data values."
   ]
  },
  {
   "cell_type": "markdown",
   "metadata": {},
   "source": [
    "### Part 1:  Base Class\n",
    "Write a class called `Regression` with the following methods:\n",
    "\n",
    "$fit(X, y)$: Fits linear model to $X$ and $y$.\n",
    "\n",
    "$get\\_params()$: Returns $\\hat{\\beta}$ for the fitted model. The parameters should be stored in a dictionary.\n",
    "\n",
    "$predict(X)$: Predict new values with the fitted model given $X$.\n",
    "\n",
    "$score(X, y)$: Returns $R^2$ value of the fitted model.\n",
    "\n",
    "$set\\_params()$: Manually set the parameters of the linear model.\n",
    "\n",
    "This parent class should throw a `NotImplementedError` for methods that are intended to be implemented by subclasses."
   ]
  },
  {
   "cell_type": "code",
   "execution_count": 1,
   "metadata": {
    "collapsed": true
   },
   "outputs": [],
   "source": [
    "import numpy as np\n",
    "\n",
    "class Regression:\n",
    "    \n",
    "    def __init__(self, alpha=0.1):\n",
    "        self.alpha = alpha\n",
    "        \n",
    "    def fit(self, X, y):\n",
    "        raise NotImplementedError\n",
    "    \n",
    "    def get_params(self):\n",
    "        return {'beta'+str(i):b for i, b in enumerate(self.beta)}\n",
    "        \n",
    "    def predict(self, X):\n",
    "        y_pred = np.dot(X, self.beta)\n",
    "        return y_pred\n",
    "    \n",
    "    def score(self, X, y):\n",
    "        y_pred = self.predict(X)\n",
    "        r2 = 1 - np.sum(np.square(y-y_pred)) / np.sum(np.square(y-np.mean(y)))\n",
    "        return r2\n",
    "    \n",
    "    def set_params(self, **arg):\n",
    "        if 'beta' in arg:\n",
    "            self.beta = arg['beta']\n",
    "        if 'alpha' in arg:\n",
    "            self.alpha = arg['alpha']\n",
    "        return self"
   ]
  },
  {
   "cell_type": "markdown",
   "metadata": {},
   "source": [
    "### Part 2: OLS Linear Regression\n",
    "\n",
    "Write a class called `OLSRegression` that implements the OLS Regression model described above and inherits the `Regression` class."
   ]
  },
  {
   "cell_type": "code",
   "execution_count": 2,
   "metadata": {
    "collapsed": true
   },
   "outputs": [],
   "source": [
    "class OLS(Regression):\n",
    "        \n",
    "    def fit(self, X, y):\n",
    "        self.beta = np.linalg.pinv(X.T.dot(X)).dot(X.T).dot(y)\n",
    "        return self\n",
    "    \n",
    "    def __str__(self):\n",
    "        return 'OLS Linear Regression'"
   ]
  },
  {
   "cell_type": "markdown",
   "metadata": {},
   "source": [
    "### Part 3: Ridge Regression\n",
    "\n",
    "Write a class called `RidgeRegression` that implements Ridge Regression and inherits the `OLSRegression` class."
   ]
  },
  {
   "cell_type": "code",
   "execution_count": 3,
   "metadata": {
    "collapsed": true
   },
   "outputs": [],
   "source": [
    "class Ridge(Regression):\n",
    "    \n",
    "    def fit(self, X, y):\n",
    "        self.beta = np.linalg.pinv(X.T.dot(X) + self.alpha*self.alpha*np.eye(X.shape[1])).dot(X.T).dot(y)\n",
    "        return self\n",
    "    \n",
    "    def __str__(self):\n",
    "        return 'Ridge Regression'"
   ]
  },
  {
   "cell_type": "markdown",
   "metadata": {},
   "source": [
    "### Part 3: Lasso Regression\n",
    "\n",
    "Write a class called `LassoRegression` that implements Lasso Regression and inherits the `OLSRegression` class. You should only use Lasso(), Lasso.fit(), Lasso.coef_, and Lasso._intercept from the `sklearn.linear_model.Lasso` class."
   ]
  },
  {
   "cell_type": "code",
   "execution_count": 4,
   "metadata": {
    "collapsed": true
   },
   "outputs": [],
   "source": [
    "class Lasso(Regression):\n",
    "    \n",
    "    def fit(self, X, y):\n",
    "        \n",
    "        # assume constant term (if required) has been added to X\n",
    "        \n",
    "        from sklearn.linear_model import Lasso\n",
    "        self.beta = Lasso(alpha=self.alpha, fit_intercept=False).fit(X, y).coef_\n",
    "        return self\n",
    "    \n",
    "    def __str__(self):\n",
    "        return 'Lasso Regression'"
   ]
  },
  {
   "cell_type": "markdown",
   "metadata": {},
   "source": [
    "### Part 4: Model Scoring\n",
    "You will use the [Boston dataset](http://scikit-learn.org/stable/modules/generated/sklearn.datasets.load_boston.html) for this part.\n",
    "\n",
    "Instantiate each of the three models above.  Using a for loop, fit (on the training data) and score (on the testing data) each model on the Boston dataset.  \n",
    "\n",
    "Print out the $R^2$ value for each model and the parameters for the best model using the `get_params()` method. Use an $\\alpha$ value of 0.1.\n",
    "\n",
    "**Hint:**  You can consider using the `sklearn.model_selection.train_test_split` method to create the training and test datasets."
   ]
  },
  {
   "cell_type": "code",
   "execution_count": 5,
   "metadata": {
    "collapsed": true
   },
   "outputs": [],
   "source": [
    "import warnings\n",
    "warnings.filterwarnings('ignore')"
   ]
  },
  {
   "cell_type": "code",
   "execution_count": 6,
   "metadata": {},
   "outputs": [
    {
     "name": "stderr",
     "output_type": "stream",
     "text": [
      "/Users/wyssuser/anaconda/lib/python3.6/site-packages/sklearn/cross_validation.py:44: DeprecationWarning: This module was deprecated in version 0.18 in favor of the model_selection module into which all the refactored classes and functions are moved. Also note that the interface of the new CV iterators are different from that of this module. This module will be removed in 0.20.\n",
      "  \"This module will be removed in 0.20.\", DeprecationWarning)\n"
     ]
    }
   ],
   "source": [
    "# load Boston dataset\n",
    "\n",
    "from sklearn.datasets import load_boston\n",
    "from sklearn.cross_validation import train_test_split\n",
    "\n",
    "X, y = load_boston(return_X_y=True)\n",
    "\n",
    "# Add constant term to X\n",
    "X = np.concatenate((np.ones((X.shape[0], 1)), X), axis=1)\n",
    "\n",
    "X_train, X_test, y_train, y_test = train_test_split(X, y, test_size=0.2, random_state=13)"
   ]
  },
  {
   "cell_type": "code",
   "execution_count": 7,
   "metadata": {},
   "outputs": [
    {
     "name": "stdout",
     "output_type": "stream",
     "text": [
      "The test R^2 for OLS Linear Regression is 0.7312661988225335.\n",
      "The test R^2 for Ridge Regression is 0.7312502825396794.\n",
      "The test R^2 for Lasso Regression is 0.7083167898773675.\n",
      "\n",
      "The best model according to the score on the test data is OLS Linear Regression.\n",
      "The parameters for the best model (OLS Linear Regression) are\n",
      "beta0: 37.6429148290392\n",
      "beta1: -0.15386648670172073\n",
      "beta2: 0.057685994375377934\n",
      "beta3: -0.007403126408911869\n",
      "beta4: 2.491429964600226\n",
      "beta5: -14.96114472446769\n",
      "beta6: 3.5357464689075755\n",
      "beta7: 0.00242793305524424\n",
      "beta8: -1.588549937599424\n",
      "beta9: 0.3655160054654222\n",
      "beta10: -0.014822706478432991\n",
      "beta11: -0.8911097292170942\n",
      "beta12: 0.00738611715452874\n",
      "beta13: -0.5583304654936978\n"
     ]
    }
   ],
   "source": [
    "models = [OLS(), Ridge(), Lasso()]\n",
    "models = [model.fit(X_train, y_train) for model in models]\n",
    "test_scores = [model.score(X_test, y_test) for model in models]\n",
    "for i, model in enumerate(models):\n",
    "    print('The test R^2 for {} is {}.'.format(str(model), test_scores[i]))\n",
    "print()\n",
    "best_model = models[np.argmax(test_scores)]\n",
    "print('The best model according to the score on the test data is {}.'.format(str(best_model)))\n",
    "print('The parameters for the best model ({}) are'.format(str(best_model)))\n",
    "params = best_model.get_params()\n",
    "param_names = ['beta'+str(i) for i in range(len(params))]\n",
    "print('\\n'.join(['{}: {}'.format(name, params[name]) for name in param_names]))"
   ]
  },
  {
   "cell_type": "markdown",
   "metadata": {},
   "source": [
    "### Part 5: Visualize Model Performance\n",
    "\n",
    "We can evaluate how the models perform for various values of $\\alpha$. Calculate the $R^2$ scores for each model for  $\\alpha \\in [0.05, 1]$ and plot the three lines on the same graph. To change the parameters, use the `set_params()` method. Be sure to label each line and add axis labels."
   ]
  },
  {
   "cell_type": "code",
   "execution_count": 8,
   "metadata": {
    "collapsed": true
   },
   "outputs": [],
   "source": [
    "alphas = np.arange(0.05, 1.05, 0.05)\n",
    "ols_scores = [OLS().set_params(alpha=alpha).fit(X_train, y_train).score(X_test, y_test) for alpha in alphas]\n",
    "ridge_scores = [Ridge().set_params(alpha=alpha).fit(X_train, y_train).score(X_test, y_test) for alpha in alphas]\n",
    "lasso_scores = [Lasso().set_params(alpha=alpha).fit(X_train, y_train).score(X_test, y_test) for alpha in alphas]"
   ]
  },
  {
   "cell_type": "code",
   "execution_count": 9,
   "metadata": {
    "collapsed": true
   },
   "outputs": [],
   "source": [
    "import matplotlib\n",
    "import matplotlib.pyplot as plt\n",
    "import seaborn as sns\n",
    "sns.set_context('talk')\n",
    "\n",
    "%matplotlib inline"
   ]
  },
  {
   "cell_type": "code",
   "execution_count": 10,
   "metadata": {},
   "outputs": [
    {
     "data": {
      "image/png": "[encoded data removed]",
      "text/plain": [
       "<matplotlib.figure.Figure at 0x11177e2e8>"
      ]
     },
     "metadata": {},
     "output_type": "display_data"
    }
   ],
   "source": [
    "plt.plot(alphas, ols_scores, '.-', label=str(models[0]));\n",
    "plt.plot(alphas, ridge_scores, '.-', label=str(models[1]));\n",
    "plt.plot(alphas, lasso_scores, '.-', label=str(models[2]));\n",
    "plt.legend();\n",
    "plt.xlabel(r'$\\alpha$');\n",
    "plt.ylabel(r'$R^2$');\n",
    "plt.title(r'$R^2$ score on the test data');"
   ]
  }
 ],
 "metadata": {
  "kernelspec": {
   "display_name": "Python 3",
   "language": "python",
   "name": "python3"
  },
  "language_info": {
   "codemirror_mode": {
    "name": "ipython",
    "version": 3
   },
   "file_extension": ".py",
   "mimetype": "text/x-python",
   "name": "python",
   "nbconvert_exporter": "python",
   "pygments_lexer": "ipython3",
   "version": "3.6.1"
  }
 },
 "nbformat": 4,
 "nbformat_minor": 2
}
