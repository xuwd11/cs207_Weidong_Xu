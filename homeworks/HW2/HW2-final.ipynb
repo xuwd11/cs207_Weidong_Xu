{
 "cells": [
  {
   "cell_type": "markdown",
   "metadata": {},
   "source": [
    "# **CS207**\n",
    "## Homework 2\n",
    "### List and link\n",
    "1. [Google](https://www.google.com)\n",
    "    - [map](https://www.google.com/maps)\n",
    "    - [translate](https://translate.google.cn)\n",
    "2. [Facebook](https://www.facebook.com)\n",
    "3. [Twitter](https://www.twitter.com)\n",
    "\n",
    "\n",
    "### Table\n",
    "H1|H2|H3\n",
    "---|---|---\n",
    "1|2|3\n",
    "4|5|6\n"
   ]
  }
 ],
 "metadata": {
  "kernelspec": {
   "display_name": "Python 3",
   "language": "python",
   "name": "python3"
  },
  "language_info": {
   "codemirror_mode": {
    "name": "ipython",
    "version": 3
   },
   "file_extension": ".py",
   "mimetype": "text/x-python",
   "name": "python",
   "nbconvert_exporter": "python",
   "pygments_lexer": "ipython3",
   "version": "3.6.1"
  }
 },
 "nbformat": 4,
 "nbformat_minor": 2
}
