{
 "cells": [
  {
   "cell_type": "markdown",
   "metadata": {},
   "source": [
    "# Homework 9: Getting Familiar with NASA Polynomials\n",
    "## Due Date:  Tuesday, November 7th at 11:59 PM"
   ]
  },
  {
   "cell_type": "markdown",
   "metadata": {},
   "source": [
    "Read the NASA Polynomial dataset in raw format and parse and store the data into an .xml file."
   ]
  },
  {
   "cell_type": "markdown",
   "metadata": {},
   "source": [
    "### Review of the NASA Polynomials\n",
    "You can find the NASA Polynomial file in `thermo.txt`.\n",
    "\n",
    "You can find some details on the NASA Polynomials [at this site](http://combustion.berkeley.edu/gri_mech/data/nasa_plnm.html) in addition to the Lecture 16 notes.\n",
    "\n",
    "\n",
    "The NASA polynomials for specie $i$ have the form:\n",
    "$$\n",
    "    \\frac{C_{p,i}}{R}= a_{i1} + a_{i2} T + a_{i3} T^2 + a_{i4} T^3 + a_{i5} T^4\n",
    "$$\n",
    "\n",
    "$$\n",
    "    \\frac{H_{i}}{RT} = a_{i1} + a_{i2} \\frac{T}{2} + a_{i3} \\frac{T^2}{3} + a_{i4} \\frac{T^3}{4} + a_{i5} \\frac{T^4}{5} + \\frac{a_{i6}}{T}\n",
    "$$\n",
    "\n",
    "$$\n",
    "    \\frac{S_{i}}{R}  = a_{i1} \\ln(T) + a_{i2} T + a_{i3} \\frac{T^2}{2} + a_{i4} \\frac{T^3}{3} + a_{i5} \\frac{T^4}{4} + a_{i7}\n",
    "$$\n",
    "\n",
    "where $a_{i1}$, $a_{i2}$, $a_{i3}$, $a_{i4}$, $a_{i5}$, $a_{i6}$, and $a_{i7}$ are the numerical coefficients supplied in NASA thermodynamic files. "
   ]
  },
  {
   "cell_type": "markdown",
   "metadata": {},
   "source": [
    "### Some Notes on `thermo.txt`\n",
    "The first 7 numbers starting on the second line of each species entry (five of the second line and the first two of the third line) are the seven coefficients ($a_{i1}$ through $a_{i7}$, respectively) for the high-temperature range (above 1000 K, the upper boundary is specified on the first line of the species entry). \n",
    "\n",
    "The next seven numbers are the coefficients ($a_{i1}$ through $a_{i7}$, respectively) for the low-temperature range (below 1000 K, the lower boundary is specified on the first line of the species entry)."
   ]
  },
  {
   "cell_type": "markdown",
   "metadata": {},
   "source": [
    "### Additional Specifications\n",
    "Your final .xml file should contain the following specifications:\n",
    "\n",
    "1. A `speciesArray` field that contains a space-separated list of all of the species present in the file.\n",
    "2. Each species contains a `species` field with a `name` attribute as the species name.\n",
    "\n",
    "    1. For each temperature range, use a sub-field with the minimum and maximum temperature as attributes.\n",
    "    2. `floatArray` field that contains comma-separated string of each coefficient.\n",
    "    \n",
    "You can reference the `example_thermo.xml` file for an example .xml output."
   ]
  },
  {
   "cell_type": "markdown",
   "metadata": {},
   "source": [
    "**Hint**: First parse the file into a Python dictionary. "
   ]
  },
  {
   "cell_type": "code",
   "execution_count": 1,
   "metadata": {
    "collapsed": true
   },
   "outputs": [],
   "source": [
    "import xml.etree.ElementTree as ET\n",
    "import re\n",
    "from copy import deepcopy\n",
    "\n",
    "class PolynomialsParser:\n",
    "    def __init__(self, file_name, new_file_name=None):\n",
    "        self.file_name = file_name\n",
    "        if '.txt' == file_name[-4:]:\n",
    "            with open(file_name, 'r') as f:\n",
    "                self.raw = f.read().strip()\n",
    "            self.data_s = self.parse_raw(self.raw)\n",
    "            self.data = self.to_float(self.data_s)\n",
    "            if new_file_name is None:\n",
    "                new_file_name = file_name[:-4] + '.xml'\n",
    "            self.save_xml(self.data_s, new_file_name)\n",
    "    \n",
    "    def parse_raw(self, raw, i_start=5, lines=4):\n",
    "        raw = raw.split('\\n')\n",
    "        species = [raw[i:i+lines] for i in range(i_start, len(raw), lines)][:-1]\n",
    "\n",
    "        sci_number = re.compile('-?[0-9]+\\.?[0-9]*E[+-]?[0-9]*')\n",
    "        def find_sci_numbers(s):\n",
    "            return [x for x in re.findall(sci_number, s)]\n",
    "        \n",
    "        def parse_specie(specie):\n",
    "            name = specie[0].split()[0].strip()\n",
    "            Ts = specie[0].split()[-4:-1]\n",
    "            line_vals = [find_sci_numbers(s) for s in specie[1:]]\n",
    "            coeff_high = line_vals[0] + line_vals[1][:2]\n",
    "            coeff_low = line_vals[1][2:] + line_vals[2]\n",
    "            return name, Ts, coeff_high, coeff_low\n",
    "        \n",
    "        data = dict()\n",
    "        data['speciesArray'] = []\n",
    "        data['speciesData'] = dict()\n",
    "        \n",
    "        for specie in species:\n",
    "            name, Ts, coeff_high, coeff_low = parse_specie(specie)\n",
    "            data['speciesArray'].append(name)\n",
    "            data['speciesData'][name] = {'Ts':Ts, 'coeff_high':coeff_high, 'coeff_low':coeff_low}\n",
    "        \n",
    "        return data\n",
    "    \n",
    "    def save_xml(self, data, file_name):\n",
    "        root = ET.Element('ctml')\n",
    "        \n",
    "        root.append(ET.Comment('phase gri30'))\n",
    "        \n",
    "        phase = ET.SubElement(root, 'phase', id='gri30')\n",
    "        ET.SubElement(phase, 'speciesArray', datasrc='#species_data').text = ' '.join(data['speciesArray'])\n",
    "        \n",
    "        root.append(ET.Comment('species definitions'))\n",
    "        \n",
    "        def add_speciesData(speciesData, data, p0=\"100000.0\"):\n",
    "            for name in data['speciesArray']:\n",
    "                _data = data['speciesData'][name]\n",
    "                speciesData.append(ET.Comment('species {}'.format(name)))\n",
    "                specie = ET.SubElement(speciesData, 'species', name=name)\n",
    "                thermo = ET.SubElement(specie, 'thermo')\n",
    "                low = ET.SubElement(thermo, 'NASA', Tmax=_data['Ts'][-1], Tmin=_data['Ts'][0], p0=p0)\n",
    "                ET.SubElement(low, 'floatArray', name='coeffs', size=str(len(_data['coeff_low']))).\\\n",
    "                text = ', '.join(_data['coeff_low'])\n",
    "                high = ET.SubElement(thermo, 'NASA', Tmax=_data['Ts'][1], Tmin=_data['Ts'][-1], p0=p0)\n",
    "                ET.SubElement(high, 'floatArray', name='coeffs', size=str(len(_data['coeff_high']))).\\\n",
    "                text = ', '.join(_data['coeff_high'])\n",
    "        \n",
    "        speciesData = ET.SubElement(root, 'speciesData', id='species_data')\n",
    "        add_speciesData(speciesData, data)\n",
    "        \n",
    "        tree = ET.ElementTree(root)\n",
    "        tree.write(file_name)\n",
    "        \n",
    "    def to_float(self, data_s):\n",
    "        data = deepcopy(data_s)\n",
    "        for name, _data in data['speciesData'].items():\n",
    "            _data['Ts'] = [float(s) for s in _data['Ts']]\n",
    "            _data['coeff_high'] = [float(s) for s in _data['coeff_high']]\n",
    "            _data['coeff_low'] = [float(s) for s in _data['coeff_low']]\n",
    "        return data"
   ]
  },
  {
   "cell_type": "code",
   "execution_count": 2,
   "metadata": {},
   "outputs": [],
   "source": [
    "PolynomialsParser('thermo.txt');"
   ]
  }
 ],
 "metadata": {
  "kernelspec": {
   "display_name": "Python 3",
   "language": "python",
   "name": "python3"
  },
  "language_info": {
   "codemirror_mode": {
    "name": "ipython",
    "version": 3
   },
   "file_extension": ".py",
   "mimetype": "text/x-python",
   "name": "python",
   "nbconvert_exporter": "python",
   "pygments_lexer": "ipython3",
   "version": "3.6.1"
  }
 },
 "nbformat": 4,
 "nbformat_minor": 1
}
