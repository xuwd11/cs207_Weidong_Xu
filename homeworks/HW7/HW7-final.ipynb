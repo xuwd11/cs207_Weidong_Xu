{
 "cells": [
  {
   "cell_type": "markdown",
   "metadata": {},
   "source": [
    "# Homework 7\n",
    "## Due Date:  Wednesday, October 25th at 11:59 PM"
   ]
  },
  {
   "cell_type": "markdown",
   "metadata": {},
   "source": [
    "# Problem 1:  Linked List Class\n",
    "Write a linked list class called `LinkedList`.  Remember, a singly linked list is made up of nodes each of which contain a value and a pointer.  The first node is called the \"head node\".\n",
    "\n",
    "Here are the required methods:\n",
    "* `__init__(self, head)` where `head` is the value of the head node.  You could make the head node an attribute.\n",
    "* `__len__(self)`: Returns the number of elements in the linked list.\n",
    "* `__getitem__(self, index)` returns the value of the node corresponding to `index`.  Include checks to make sure that `index` is not out of range and that the user is not trying to index and empty list.\n",
    "* `__repr__(self)` returns `LinkedList(head_node)`.\n",
    "* `insert_font(self, element)` inserts a new node with value `element` at the beginning of the list.\n",
    "* `insert_back(self, element)` inserts a new node with value `element` at the end of the list."
   ]
  },
  {
   "cell_type": "code",
   "execution_count": 35,
   "metadata": {
    "collapsed": true
   },
   "outputs": [],
   "source": [
    "class Node:\n",
    "    def __init__(self, element, next_node=None):\n",
    "        self.value = element\n",
    "        self.next_node = next_node\n",
    "        \n",
    "    def update_next_node(self, node):\n",
    "        self.next_node = node\n",
    "\n",
    "class LinkedList:\n",
    "    def __init__(self, head):\n",
    "        self.head_node = Node(head)\n",
    "        self.tail_node = self.head_node\n",
    "        self.size = 1\n",
    "        \n",
    "    def __len__(self):\n",
    "        return self.size\n",
    "    \n",
    "    def __getitem__(self, index):\n",
    "        if isinstance(index, slice):\n",
    "            raise TypeError('Slice is not supported.')\n",
    "        if 0 == self.size:\n",
    "            raise IndexError('The list is empty.')\n",
    "        if index != int(index):\n",
    "            raise TypeError('Invalid index.')\n",
    "        if index < 0 or index >= self.size:\n",
    "            raise IndexError('Out of range.')\n",
    "        curr_node = self.head_node\n",
    "        for _ in range(index):\n",
    "            curr_node = curr_node.next_node\n",
    "        return curr_node.value\n",
    "    \n",
    "    def __repr__(self):\n",
    "        return 'LinkedList({})'.format(self.head_node)\n",
    "    \n",
    "    def insert_front(self, element):\n",
    "        self.head_node = Node(element, self.head_node)\n",
    "        self.size += 1\n",
    "        \n",
    "    def insert_back(self, element):\n",
    "        self.tail_node.update_next_node(Node(element))\n",
    "        self.tail_node = self.tail_node.next_node\n",
    "        self.size += 1"
   ]
  },
  {
   "cell_type": "code",
   "execution_count": 36,
   "metadata": {},
   "outputs": [
    {
     "name": "stdout",
     "output_type": "stream",
     "text": [
      "6\n",
      "LinkedList(<__main__.Node object at 0x1039bcf28>)\n",
      "-10, 10, 1, 100, 1000, 5\n"
     ]
    }
   ],
   "source": [
    "# Example\n",
    "a = LinkedList(1)\n",
    "a.insert_front(10)\n",
    "a.insert_back(100)\n",
    "a.insert_back(1000)\n",
    "a.insert_front(-10)\n",
    "a.insert_back(5)\n",
    "print(len(a))\n",
    "print(repr(a))\n",
    "print(', '.join([str(a[i]) for i in range(len(a))]))"
   ]
  },
  {
   "cell_type": "markdown",
   "metadata": {},
   "source": [
    "# Problem 2:  Binary Tree Class\n",
    "A binary search tree is a binary tree with the invariant that for any particular node the left child is smaller and the right child is larger. Create the class `BinaryTree` with the following specifications:\n",
    "\n",
    "`__init__(self)`: Constructor takes no additional arguments\n",
    "\n",
    "`insert(self, val)`: This method will insert `val` into the tree\n",
    "\n",
    "`remove(self, val)`: This will remove `val` from the tree. Upon removal the left child will take the place of the node if it exists, otherwise the right child. The subtree from the left or right child will propagate up in the same manner.\n",
    "\n",
    "`getValues(self. depth)`: Return a list of the entire row of nodes at the specified depth with `None` at the index if there is no value in the tree. The length of the list should therefore be $2^{\\text{depth}}$. "
   ]
  },
  {
   "cell_type": "code",
   "execution_count": 37,
   "metadata": {
    "collapsed": true
   },
   "outputs": [],
   "source": [
    "class Node:\n",
    "    def __init__(self, value, left=None, right=None):\n",
    "        self.value = value\n",
    "        self.left = left\n",
    "        self.right = right\n",
    "\n",
    "# This question doesn't make much sense since there is not enough constraints for the structure of the tree.\n",
    "# A tree of which the right child of each node is empty satisfies the requirements of this question.\n",
    "\n",
    "class BinaryTree:\n",
    "    def __init__(self):\n",
    "        self.root = None\n",
    "        \n",
    "    def insert(self, val):\n",
    "        if None == self.root:\n",
    "            self.root = Node(val)\n",
    "            return\n",
    "        curr = self.root\n",
    "        while True:\n",
    "            if None == curr.left:\n",
    "                curr.left = Node(val)\n",
    "                return\n",
    "            elif None == curr.right and val > curr.left.value:\n",
    "                curr.right = Node(val)\n",
    "                return\n",
    "            else:\n",
    "                curr = curr.left"
   ]
  },
  {
   "cell_type": "markdown",
   "metadata": {},
   "source": [
    "# Problem 3:  Peer Evaluations\n",
    "Evaluate the members of your group for Milestone 1.  Please follow the instructions in the provided survey.  The survey can be found here:  [Milestone 1 Peer Evaluation](https://harvard.az1.qualtrics.com/jfe/form/SV_0JnuXbE5QjLCrKB)."
   ]
  },
  {
   "cell_type": "markdown",
   "metadata": {},
   "source": [
    "# Problem 4:  Course Evaluation\n",
    "Please take the [Course Evaluation](https://docs.google.com/forms/d/e/1FAIpQLSdDyrtf_aByU4xNeLMSmDrFCJ2OLDrK1Q7ZoeTd2Whf_cdRrw/viewform?usp=sf_link)."
   ]
  }
 ],
 "metadata": {
  "kernelspec": {
   "display_name": "Python 3",
   "language": "python",
   "name": "python3"
  },
  "language_info": {
   "codemirror_mode": {
    "name": "ipython",
    "version": 3
   },
   "file_extension": ".py",
   "mimetype": "text/x-python",
   "name": "python",
   "nbconvert_exporter": "python",
   "pygments_lexer": "ipython3",
   "version": "3.6.1"
  }
 },
 "nbformat": 4,
 "nbformat_minor": 2
}
