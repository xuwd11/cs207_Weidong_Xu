{
 "cells": [
  {
   "cell_type": "markdown",
   "metadata": {},
   "source": [
    "# Homework 7\n",
    "## Due Date:  Wednesday, October 25th at 11:59 PM"
   ]
  },
  {
   "cell_type": "markdown",
   "metadata": {},
   "source": [
    "# Problem 2:  Binary Tree Class\n",
    "A binary search tree is a binary tree with the invariant that for any particular node the left child is smaller and the right child is larger. Create the class `BinaryTree` with the following specifications:\n",
    "\n",
    "`__init__(self)`: Constructor takes no additional arguments\n",
    "\n",
    "`insert(self, val)`: This method will insert `val` into the tree\n",
    "\n",
    "(Optional) `remove(self, val)`: This will remove `val` from the tree.\n",
    "1. If the node to be deleted has no children then just remove it.\n",
    "2. If the node to be deleted has only one child, remove the node and replace it with its child.\n",
    "3. If the node to be deleted has two children, replace the node to be deleted with the maximum value in the left subtree.  Finally, delete the node with the maximum value in the left-subtree.\n",
    "\n",
    "`getValues(self. depth)`: Return a list of the entire row of nodes at the specified depth with `None` at the index if there is no value in the tree. The length of the list should therefore be $2^{\\text{depth}}$. "
   ]
  },
  {
   "cell_type": "markdown",
   "metadata": {},
   "source": [
    "Here is a sample output:\n",
    "\n",
    "```python\n",
    "bt = BinaryTree()\n",
    "arr = [20, 10, 17, 14, 3, 0]\n",
    "for i in arr:\n",
    "    bt.insert(i)\n",
    "\n",
    "print(\"Height of binary tree is {}.\\n\".format(len(bt)))\n",
    "for i in range(len(bt)):\n",
    "    print(\"Level {0} values: {1}\".format(i, bt.getValues(i)))\n",
    "```\n",
    "\n",
    "```\n",
    "Height of binary tree is 4.\n",
    "\n",
    "Level 0 values: [20]\n",
    "Level 1 values: [10, None]\n",
    "Level 2 values: [3, 17, None, None]\n",
    "Level 3 values: [0, None, 14, None, None, None, None, None]\n",
    "```\n",
    "\n",
    "Note that you do not need to format your output in this way.  Nor are you required to implement a `__len__` method to compute the height of the tree.  I did this because it was convenient for illustration purposes.  This example is simply meant to show you some output at each level of the tree."
   ]
  },
  {
   "cell_type": "code",
   "execution_count": 1,
   "metadata": {
    "collapsed": true
   },
   "outputs": [],
   "source": [
    "import numpy as np\n",
    "class BinaryTree:\n",
    "    def __init__(self):\n",
    "        self.data = [None]\n",
    "        \n",
    "    def insert(self, val):\n",
    "        # keep track of idx we're at traversing the tree\n",
    "        idx = 0\n",
    "        while self.data[idx] is not None:\n",
    "            idx = idx * 2 + (1 if self.data[idx] > val else 2)\n",
    "            if idx >= len(self.data):\n",
    "                self.data = self.data + [None]*(idx + 1 - len(self.data))\n",
    "        self.data[idx] = val\n",
    "        \n",
    "    def find(self, val):\n",
    "        idx = 0\n",
    "        while self.data[idx] is not None and self.data[idx] != val:\n",
    "            idx = idx * 2 + (1 if self.data[idx] > val else 2)\n",
    "            if len(self.data) <= idx:\n",
    "                return -1\n",
    "        return idx if self.data[idx] is not None else -1\n",
    "    \n",
    "    def levelUp(self, idx):\n",
    "        self.data[idx] = None\n",
    "        leftChild = idx * 2 + 1\n",
    "        rightChild = (idx + 1) * 2\n",
    "        if len(self.data) > leftChild:\n",
    "            if self.data[leftChild] is not None:\n",
    "                self.data[idx] = self.data[leftChild]\n",
    "                self.levelUp(leftChild)\n",
    "            elif len(self.data) > rightChild and self.data[rightChild] is not None:\n",
    "                self.data[idx] = self.data[rightChild]\n",
    "                self.levelUp(rightChild)\n",
    "                \n",
    "    def getValues(self, level):\n",
    "        values = []\n",
    "        for x in range(2**level - 1, 2**(level + 1) - 1):\n",
    "            if len(self.data) <= x:\n",
    "                values.append(None)\n",
    "            else:\n",
    "                values.append(self.data[x])\n",
    "        return values"
   ]
  }
 ],
 "metadata": {
  "kernelspec": {
   "display_name": "Python 3",
   "language": "python",
   "name": "python3"
  },
  "language_info": {
   "codemirror_mode": {
    "name": "ipython",
    "version": 3
   },
   "file_extension": ".py",
   "mimetype": "text/x-python",
   "name": "python",
   "nbconvert_exporter": "python",
   "pygments_lexer": "ipython3",
   "version": "3.6.1"
  }
 },
 "nbformat": 4,
 "nbformat_minor": 2
}
