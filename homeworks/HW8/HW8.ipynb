{
 "cells": [
  {
   "cell_type": "markdown",
   "metadata": {},
   "source": [
    "# Homework 8\n",
    "## Due Date:  Tuesday, October 31st at 11:59 PM"
   ]
  },
  {
   "cell_type": "markdown",
   "metadata": {},
   "source": [
    "# Problem 1:  BST Traversal\n",
    "This problem builds on Problem 1 of Homework 7 in which you wrote a binary search tree.\n",
    "\n",
    "### Part 1\n",
    "\n",
    "As discussed in lecture, three different types to do a depth-first traversal are: preorder, inorder, and postorder. Here is a reference: [Tree Traversal](https://en.wikipedia.org/wiki/Tree_traversal#Depth-first_search).\n",
    "\n",
    "Write an iterator class called `DFSTraversal` with the following specifications:\n",
    "\n",
    "* `__init__(self, tree, traversalType)`: Constructor takes a `BinaryTree` object and one of the enums from `DFSTraversalTypes`\n",
    "\n",
    "```python\n",
    "from enum import Enum\n",
    "\n",
    "class DFSTraversalTypes(Enum):\n",
    "    PREORDER = 1\n",
    "    INORDER = 2\n",
    "    POSTORDER = 3\n",
    "```\n",
    "\n",
    "* `changeTraversalType(self, traversalType)`: Change the traversal type\n",
    "* `__iter__(self)`: This is the initialization of an iterator\n",
    "* `__next__(self)`: This is called in the iterator for getting the next value\n",
    "\n",
    "Here's how you might use your `DFSTraversal` class:\n",
    "\n",
    "```python\n",
    "input_array = [3, 9, 2, 11]\n",
    "bt = BinaryTree()\n",
    "for val in input_array:\n",
    "    bt.insert(val)\n",
    "traversal = DFSTraversal(bt, DFSTraversalTypes.INORDER)\n",
    "for val in traversal:\n",
    "    print(val)\n",
    "2\n",
    "3\n",
    "9\n",
    "11\n",
    "```\n",
    "\n",
    "### Part 2\n",
    "Put your `BinaryTree` class (from homework 7) and your `DFSTraversal` class (from Part 1 of this homework) in a file titled `TreeTraversal.py`."
   ]
  },
  {
   "cell_type": "markdown",
   "metadata": {},
   "source": [
    "---"
   ]
  },
  {
   "cell_type": "markdown",
   "metadata": {},
   "source": [
    "## Problem 2: Markov Chains\n",
    "\n",
    "[Markov Chains](https://en.wikipedia.org/wiki/Markov_chain) are widely used to model and predict discrete events. Underlying Markov chains are Markov processes which make the assumption that the outcome of a future event only depends on the event immediately preceeding it. In this exercise, we will be assuming that weather has Markov properties (e.g. today's weather is dependent only on yesterday's weather). We will use the Markov assumption to create a basic model for predicting weather."
   ]
  },
  {
   "cell_type": "markdown",
   "metadata": {},
   "source": [
    "To begin, let's categorize weather into 7 types: ['sunny', 'cloudy', 'rainy', 'snowy', 'windy', 'hailing'].\n",
    "\n",
    "In the `weather.csv` file accompanying this homework, each row corresponds to one type of weather (in the order given above) and each column is the probability of one type of weather occurring the following day (also in the order given above).\n",
    "\n",
    "The $ij$th element is the probability that the $j$th weather type occurs after the $i$th weather type. So for example, (1,2) is the probability a cloudy day occurs after a sunny day.\n",
    "\n",
    "Take a look at the data. Make sure you see how if the previous day was sunny, the following day will have a 0.4 probability of being sunny as well. If the previous day was raining (index $i = 3$), then the following day (index $j$) has a 0.05 probability of being windy ($j = 5$)."
   ]
  },
  {
   "cell_type": "markdown",
   "metadata": {},
   "source": [
    "### Part 1:  Parse the `.csv` file into a `Numpy` array"
   ]
  },
  {
   "cell_type": "code",
   "execution_count": null,
   "metadata": {
    "collapsed": true
   },
   "outputs": [],
   "source": [
    "#Load CSV file -- hint: you can use np.genfromtxt()"
   ]
  },
  {
   "cell_type": "markdown",
   "metadata": {},
   "source": [
    "### Part 2:  Create a class called `Markov` that has the following methods:\n",
    "\n",
    "* `load_data(array)`: loads the Numpy 2D array and stores it as a class variable.\n",
    "* `get_prob(previous_day, following_day)`: returns the probability of `following_day` weather given `previous_day` weather. \n",
    "\n",
    "**Note:** `previous_day` and `following_day` should be passed in string form (e.g. \"sunny\"), as opposed to an index (e.g. 0). \n",
    "\n",
    "\n"
   ]
  },
  {
   "cell_type": "code",
   "execution_count": null,
   "metadata": {},
   "outputs": [],
   "source": [
    "class Markov:\n",
    "    def __init__():\n",
    "        # implement here\n",
    "        \n",
    "    def load_data(array):\n",
    "        # implement here\n",
    "    \n",
    "    def get_prob(previous_day, following_day):\n",
    "        # implement here -- returns a probability"
   ]
  },
  {
   "cell_type": "markdown",
   "metadata": {},
   "source": [
    "---"
   ]
  },
  {
   "cell_type": "markdown",
   "metadata": {},
   "source": [
    "## Problem 3: Iterators"
   ]
  },
  {
   "cell_type": "markdown",
   "metadata": {},
   "source": [
    "Iterators are a convenient way to walk along your Markov chain.\n",
    "\n",
    "#### Part 1: Using your `Markov` class from Problem 3, write `Markov` as an iterator by implementing the `__iter__()` and `__next__()` methods.\n",
    "\n",
    "Remember:  \n",
    "* `__iter__()` should return the iterator object and should be implicitly called when the loop begins\n",
    "* The `__next()__` method should return the next value and is implicitly called at each step in the loop.\n",
    "\n",
    "Each 'next' step should be stochastic (i.e. randomly selected based on the relative probabilities of the following day weather types) and should return the next day's weather as a string (e.g. \"sunny\") rather than an index (e.g. 0)."
   ]
  },
  {
   "cell_type": "markdown",
   "metadata": {},
   "source": [
    "#### Part 2: We want to predict what weather will be like in a week for 5 different cities.\n",
    "\n",
    "Now that we have our `Markov` iterator, we can try to predict what the weather will be like in seven days from now.\n",
    "\n",
    "Given each city's current weather in the dictionary `city_weather` (see below), simulate what the weather will be like in 7 days from now.  Rather than just producing one prediction per city, simulate 100 such predictions per city and store the most commonly occuring prediction.\n",
    "\n",
    "In your submission, print a dictionary `city_weather_predictions` that has each city as a key and the most commonly predicted weather as the corresponding value.\n",
    "\n",
    "**Note**: Don't worry if your values don't seem to make intuitive sense.  We made up the weather probabilities."
   ]
  },
  {
   "cell_type": "code",
   "execution_count": null,
   "metadata": {
    "collapsed": true
   },
   "outputs": [],
   "source": [
    "city_weather = {\n",
    "    'New York': 'rainy',\n",
    "    'Chicago': 'snowy',\n",
    "    'Seattle': 'rainy',\n",
    "    'Boston': 'hailing',\n",
    "    'Miami': 'windy',\n",
    "    'Los Angeles': 'cloudy',\n",
    "    'San Fransisco': 'windy'\n",
    "}"
   ]
  }
 ],
 "metadata": {
  "kernelspec": {
   "display_name": "Python 3",
   "language": "python",
   "name": "python3"
  },
  "language_info": {
   "codemirror_mode": {
    "name": "ipython",
    "version": 3
   },
   "file_extension": ".py",
   "mimetype": "text/x-python",
   "name": "python",
   "nbconvert_exporter": "python",
   "pygments_lexer": "ipython3",
   "version": "3.6.1"
  }
 },
 "nbformat": 4,
 "nbformat_minor": 2
}
